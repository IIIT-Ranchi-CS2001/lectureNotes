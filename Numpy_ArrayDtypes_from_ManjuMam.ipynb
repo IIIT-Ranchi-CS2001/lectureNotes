{
 "cells": [
  {
   "cell_type": "code",
   "execution_count": 8,
   "id": "da6e09b6-8c65-4b77-b417-4721faded1f4",
   "metadata": {},
   "outputs": [],
   "source": [
    "import numpy as np"
   ]
  },
  {
   "cell_type": "markdown",
   "id": "b0b9f329-f721-4a36-b49b-9cd994249709",
   "metadata": {},
   "source": [
    "This command will import numpy package into the local symbol table with a dummy name 'np'"
   ]
  },
  {
   "cell_type": "code",
   "execution_count": 9,
   "id": "6f2e4a89-f94d-4ac4-bfca-70cce852be19",
   "metadata": {},
   "outputs": [],
   "source": [
    "L=[1,2,3,4,5] # intializing a list"
   ]
  },
  {
   "cell_type": "code",
   "execution_count": 10,
   "id": "923b385f-3363-463f-8996-91195360b599",
   "metadata": {},
   "outputs": [
    {
     "data": {
      "text/plain": [
       "array([1, 2, 3, 4, 5])"
      ]
     },
     "execution_count": 10,
     "metadata": {},
     "output_type": "execute_result"
    }
   ],
   "source": [
    "np.array(L)"
   ]
  },
  {
   "cell_type": "code",
   "execution_count": 11,
   "id": "f1e2ba83-35b9-48fc-8b78-8644a9482558",
   "metadata": {},
   "outputs": [
    {
     "name": "stdout",
     "output_type": "stream",
     "text": [
      "Help on built-in function array in module numpy:\n",
      "\n",
      "array(...)\n",
      "    array(object, dtype=None, *, copy=True, order='K', subok=False, ndmin=0,\n",
      "          like=None)\n",
      "    \n",
      "    Create an array.\n",
      "    \n",
      "    Parameters\n",
      "    ----------\n",
      "    object : array_like\n",
      "        An array, any object exposing the array interface, an object whose\n",
      "        ``__array__`` method returns an array, or any (nested) sequence.\n",
      "        If object is a scalar, a 0-dimensional array containing object is\n",
      "        returned.\n",
      "    dtype : data-type, optional\n",
      "        The desired data-type for the array. If not given, NumPy will try to use\n",
      "        a default ``dtype`` that can represent the values (by applying promotion\n",
      "        rules when necessary.)\n",
      "    copy : bool, optional\n",
      "        If true (default), then the object is copied.  Otherwise, a copy will\n",
      "        only be made if ``__array__`` returns a copy, if obj is a nested\n",
      "        sequence, or if a copy is needed to satisfy any of the other\n",
      "        requirements (``dtype``, ``order``, etc.).\n",
      "    order : {'K', 'A', 'C', 'F'}, optional\n",
      "        Specify the memory layout of the array. If object is not an array, the\n",
      "        newly created array will be in C order (row major) unless 'F' is\n",
      "        specified, in which case it will be in Fortran order (column major).\n",
      "        If object is an array the following holds.\n",
      "    \n",
      "        ===== ========= ===================================================\n",
      "        order  no copy                     copy=True\n",
      "        ===== ========= ===================================================\n",
      "        'K'   unchanged F & C order preserved, otherwise most similar order\n",
      "        'A'   unchanged F order if input is F and not C, otherwise C order\n",
      "        'C'   C order   C order\n",
      "        'F'   F order   F order\n",
      "        ===== ========= ===================================================\n",
      "    \n",
      "        When ``copy=False`` and a copy is made for other reasons, the result is\n",
      "        the same as if ``copy=True``, with some exceptions for 'A', see the\n",
      "        Notes section. The default order is 'K'.\n",
      "    subok : bool, optional\n",
      "        If True, then sub-classes will be passed-through, otherwise\n",
      "        the returned array will be forced to be a base-class array (default).\n",
      "    ndmin : int, optional\n",
      "        Specifies the minimum number of dimensions that the resulting\n",
      "        array should have.  Ones will be prepended to the shape as\n",
      "        needed to meet this requirement.\n",
      "    like : array_like, optional\n",
      "        Reference object to allow the creation of arrays which are not\n",
      "        NumPy arrays. If an array-like passed in as ``like`` supports\n",
      "        the ``__array_function__`` protocol, the result will be defined\n",
      "        by it. In this case, it ensures the creation of an array object\n",
      "        compatible with that passed in via this argument.\n",
      "    \n",
      "        .. versionadded:: 1.20.0\n",
      "    \n",
      "    Returns\n",
      "    -------\n",
      "    out : ndarray\n",
      "        An array object satisfying the specified requirements.\n",
      "    \n",
      "    See Also\n",
      "    --------\n",
      "    empty_like : Return an empty array with shape and type of input.\n",
      "    ones_like : Return an array of ones with shape and type of input.\n",
      "    zeros_like : Return an array of zeros with shape and type of input.\n",
      "    full_like : Return a new array with shape of input filled with value.\n",
      "    empty : Return a new uninitialized array.\n",
      "    ones : Return a new array setting values to one.\n",
      "    zeros : Return a new array setting values to zero.\n",
      "    full : Return a new array of given shape filled with value.\n",
      "    \n",
      "    \n",
      "    Notes\n",
      "    -----\n",
      "    When order is 'A' and ``object`` is an array in neither 'C' nor 'F' order,\n",
      "    and a copy is forced by a change in dtype, then the order of the result is\n",
      "    not necessarily 'C' as expected. This is likely a bug.\n",
      "    \n",
      "    Examples\n",
      "    --------\n",
      "    >>> np.array([1, 2, 3])\n",
      "    array([1, 2, 3])\n",
      "    \n",
      "    Upcasting:\n",
      "    \n",
      "    >>> np.array([1, 2, 3.0])\n",
      "    array([ 1.,  2.,  3.])\n",
      "    \n",
      "    More than one dimension:\n",
      "    \n",
      "    >>> np.array([[1, 2], [3, 4]])\n",
      "    array([[1, 2],\n",
      "           [3, 4]])\n",
      "    \n",
      "    Minimum dimensions 2:\n",
      "    \n",
      "    >>> np.array([1, 2, 3], ndmin=2)\n",
      "    array([[1, 2, 3]])\n",
      "    \n",
      "    Type provided:\n",
      "    \n",
      "    >>> np.array([1, 2, 3], dtype=complex)\n",
      "    array([ 1.+0.j,  2.+0.j,  3.+0.j])\n",
      "    \n",
      "    Data-type consisting of more than one element:\n",
      "    \n",
      "    >>> x = np.array([(1,2),(3,4)],dtype=[('a','<i4'),('b','<i4')])\n",
      "    >>> x['a']\n",
      "    array([1, 3])\n",
      "    \n",
      "    Creating an array from sub-classes:\n",
      "    \n",
      "    >>> np.array(np.mat('1 2; 3 4'))\n",
      "    array([[1, 2],\n",
      "           [3, 4]])\n",
      "    \n",
      "    >>> np.array(np.mat('1 2; 3 4'), subok=True)\n",
      "    matrix([[1, 2],\n",
      "            [3, 4]])\n",
      "\n"
     ]
    }
   ],
   "source": [
    "help(np.array)"
   ]
  },
  {
   "cell_type": "markdown",
   "id": "6d3c96fe-64b3-4ba0-80d7-ffedac9c5e4c",
   "metadata": {},
   "source": [
    "array() is one of the most important methods that is being used for contructing arrays. It can convert a list or a tuple into a valid usable array. A set will be converted into array but it will not construct a usable array with customized datatype. This can be illustrated in the following lines."
   ]
  },
  {
   "cell_type": "code",
   "execution_count": 12,
   "id": "a5b3166c-b0b5-46f7-b910-bfb0aafa10fd",
   "metadata": {},
   "outputs": [],
   "source": [
    "T=1,2,3,4 # tuple"
   ]
  },
  {
   "cell_type": "code",
   "execution_count": 13,
   "id": "facc131c-cd92-4117-aebd-ef8928cb2731",
   "metadata": {},
   "outputs": [],
   "source": [
    "A=np.array(T) # converting tuple into array"
   ]
  },
  {
   "cell_type": "code",
   "execution_count": 14,
   "id": "610922f7-8b39-461b-99d4-7ca86aa80e40",
   "metadata": {},
   "outputs": [
    {
     "data": {
      "text/plain": [
       "array([1, 2, 3, 4])"
      ]
     },
     "execution_count": 14,
     "metadata": {},
     "output_type": "execute_result"
    }
   ],
   "source": [
    "A"
   ]
  },
  {
   "cell_type": "code",
   "execution_count": 15,
   "id": "8fc649b9-f086-4e00-a787-6e9b5f967419",
   "metadata": {},
   "outputs": [],
   "source": [
    "S={1,2,3,4} # set "
   ]
  },
  {
   "cell_type": "code",
   "execution_count": 16,
   "id": "c8dc7b9f-7327-403c-8244-fe899c1201e8",
   "metadata": {},
   "outputs": [],
   "source": [
    "B=np.array(S) # converting set into an array"
   ]
  },
  {
   "cell_type": "code",
   "execution_count": 17,
   "id": "160035e6-3873-4045-a2e1-a083fb9eee18",
   "metadata": {},
   "outputs": [
    {
     "data": {
      "text/plain": [
       "array({1, 2, 3, 4}, dtype=object)"
      ]
     },
     "execution_count": 17,
     "metadata": {},
     "output_type": "execute_result"
    }
   ],
   "source": [
    "B"
   ]
  },
  {
   "cell_type": "markdown",
   "id": "b653f00c-f361-4277-96b9-f88d90c5243a",
   "metadata": {},
   "source": [
    "Here we can see that datatype of the invidual elements of the set is integer but dtype of the array is taken as 'object' by the interpreter. ( It implies that the whole set is taken as a single element of the array)"
   ]
  },
  {
   "cell_type": "code",
   "execution_count": 18,
   "id": "4b203751-54a2-4ce7-9621-efd63d684b31",
   "metadata": {},
   "outputs": [
    {
     "name": "stdout",
     "output_type": "stream",
     "text": [
      "<class 'numpy.ndarray'>\n"
     ]
    }
   ],
   "source": [
    "print(type(B)) # to check the type of the variable B"
   ]
  },
  {
   "cell_type": "markdown",
   "id": "2526097f-6644-4f5c-b9e8-8567ce96bf9c",
   "metadata": {},
   "source": [
    "The function constructed a valid 'n dimensional' (nd) array"
   ]
  },
  {
   "cell_type": "code",
   "execution_count": 19,
   "id": "644a829c-16e6-44fb-b629-c542ce625dab",
   "metadata": {},
   "outputs": [
    {
     "data": {
      "text/plain": [
       "dtype('int32')"
      ]
     },
     "execution_count": 19,
     "metadata": {},
     "output_type": "execute_result"
    }
   ],
   "source": [
    "A.dtype # method dtype helps to identify the datatype of array elements"
   ]
  },
  {
   "cell_type": "markdown",
   "id": "5a1ed871-d76b-4f5e-86ac-6c2ca4ec3833",
   "metadata": {},
   "source": [
    "'int32' indicates the datatype of each array element is integer and it occupies 4 bytes of memory location"
   ]
  },
  {
   "cell_type": "code",
   "execution_count": 20,
   "id": "a119926d-512e-44cd-bab9-a63b219e6cc1",
   "metadata": {},
   "outputs": [
    {
     "data": {
      "text/plain": [
       "dtype('O')"
      ]
     },
     "execution_count": 20,
     "metadata": {},
     "output_type": "execute_result"
    }
   ],
   "source": [
    "B.dtype"
   ]
  },
  {
   "cell_type": "markdown",
   "id": "eb616152-58ae-4257-af5b-04dc017e948a",
   "metadata": {},
   "source": [
    "Here dtype is 'O' means individual elements of the set can't be accessed "
   ]
  },
  {
   "cell_type": "code",
   "execution_count": 21,
   "id": "effb3666-4d8d-47b4-9780-ac3d1574b331",
   "metadata": {},
   "outputs": [],
   "source": [
    "L=[1,2,3,[4,5,6],7,8,9]"
   ]
  },
  {
   "cell_type": "code",
   "execution_count": 22,
   "id": "3278e6ed-740c-4a90-995a-d51962722cf2",
   "metadata": {},
   "outputs": [
    {
     "ename": "ValueError",
     "evalue": "setting an array element with a sequence. The requested array has an inhomogeneous shape after 1 dimensions. The detected shape was (7,) + inhomogeneous part.",
     "output_type": "error",
     "traceback": [
      "\u001b[1;31m---------------------------------------------------------------------------\u001b[0m",
      "\u001b[1;31mValueError\u001b[0m                                Traceback (most recent call last)",
      "Cell \u001b[1;32mIn[22], line 1\u001b[0m\n\u001b[1;32m----> 1\u001b[0m A\u001b[38;5;241m=\u001b[39m\u001b[43mnp\u001b[49m\u001b[38;5;241;43m.\u001b[39;49m\u001b[43marray\u001b[49m\u001b[43m(\u001b[49m\u001b[43mL\u001b[49m\u001b[43m)\u001b[49m\n",
      "\u001b[1;31mValueError\u001b[0m: setting an array element with a sequence. The requested array has an inhomogeneous shape after 1 dimensions. The detected shape was (7,) + inhomogeneous part."
     ]
    }
   ],
   "source": [
    "A=np.array(L)"
   ]
  },
  {
   "cell_type": "markdown",
   "id": "b09f9290-63d5-420a-9585-1d613a2e3968",
   "metadata": {},
   "source": [
    "To convert a list or tuple into a valid array, they shall be homogeneous in nature. In the above example, L is a nested list with one of its member is another list. numpy function 'array' can't convert this list into a valid array. Either all elements shall be integers or all elements shall be lists"
   ]
  },
  {
   "cell_type": "code",
   "execution_count": 23,
   "id": "9d60d2c5-9d36-4edf-a640-fa16f41fb6b9",
   "metadata": {},
   "outputs": [],
   "source": [
    "L=[[1,2,3],[4,5,6]] # all elements are lists"
   ]
  },
  {
   "cell_type": "code",
   "execution_count": 24,
   "id": "d1d77fc1-baaf-4bce-855d-732088534572",
   "metadata": {},
   "outputs": [],
   "source": [
    "A=np.array(L)"
   ]
  },
  {
   "cell_type": "code",
   "execution_count": 25,
   "id": "9049ed39-32bb-43ae-9b1a-13c820169dbf",
   "metadata": {},
   "outputs": [
    {
     "data": {
      "text/plain": [
       "array([[1, 2, 3],\n",
       "       [4, 5, 6]])"
      ]
     },
     "execution_count": 25,
     "metadata": {},
     "output_type": "execute_result"
    }
   ],
   "source": [
    "A"
   ]
  },
  {
   "cell_type": "markdown",
   "id": "ca99bb75-0733-43c3-9d51-c3dad03c45d1",
   "metadata": {},
   "source": [
    "There are many built in methods that helps to analyze various features of an array. Some basic methods are\n",
    " 1. dtype- to identify the datatype of the array elements.\n",
    " dtype is also a keyword argument of array function that helps to customize the datatype of   array elements.\n",
    "\n",
    " For example , A.dtype will return the datatype of array elements if A is an array\n",
    " But np.array(L, dtype='f4') will construct an array where each element is of single precisionfloating point format\n",
    "\n",
    "2. ndim - to identify the number of dimensions of the array\n",
    "3. size - to identify the total number of elements present in an array\n",
    "4. shape - In the case of a 2D array, this method returns the rows and columns\n"
   ]
  },
  {
   "cell_type": "code",
   "execution_count": 26,
   "id": "d5e72c67-fc8b-45a6-bacd-dfc469dc5182",
   "metadata": {},
   "outputs": [
    {
     "data": {
      "text/plain": [
       "dtype('int32')"
      ]
     },
     "execution_count": 26,
     "metadata": {},
     "output_type": "execute_result"
    }
   ],
   "source": [
    "A.dtype"
   ]
  },
  {
   "cell_type": "code",
   "execution_count": 27,
   "id": "e1b1e8e0-177c-42e4-96b8-4a154933c082",
   "metadata": {},
   "outputs": [
    {
     "data": {
      "text/plain": [
       "2"
      ]
     },
     "execution_count": 27,
     "metadata": {},
     "output_type": "execute_result"
    }
   ],
   "source": [
    "A.ndim # to check the number of dimensions, n=1 means a row array or column array, n=2 implies two dimensional array (eqvt to matrix)\n"
   ]
  },
  {
   "cell_type": "code",
   "execution_count": 28,
   "id": "18016fd5-3799-4106-8118-8fa55da05b3e",
   "metadata": {},
   "outputs": [
    {
     "data": {
      "text/plain": [
       "6"
      ]
     },
     "execution_count": 28,
     "metadata": {},
     "output_type": "execute_result"
    }
   ],
   "source": [
    "A.size"
   ]
  },
  {
   "cell_type": "code",
   "execution_count": 29,
   "id": "6ca26794-afc1-4352-8b20-546931f3748a",
   "metadata": {},
   "outputs": [],
   "source": [
    "B=np.array(L, dtype='f') # assigning floating point datatype"
   ]
  },
  {
   "cell_type": "code",
   "execution_count": 30,
   "id": "435b307f-c661-4859-a1f9-2824ceb34b33",
   "metadata": {},
   "outputs": [
    {
     "data": {
      "text/plain": [
       "array([[1., 2., 3.],\n",
       "       [4., 5., 6.]], dtype=float32)"
      ]
     },
     "execution_count": 30,
     "metadata": {},
     "output_type": "execute_result"
    }
   ],
   "source": [
    "B"
   ]
  },
  {
   "cell_type": "markdown",
   "id": "c3c6f1a6-0628-41b2-baf0-f2e7954e5ce5",
   "metadata": {},
   "source": [
    "'f' by deafult assigns single precision\n",
    "'f2' gives 16 bit floating point data\n",
    "'f4' single precision\n",
    "'f8' double precision"
   ]
  },
  {
   "cell_type": "code",
   "execution_count": 31,
   "id": "7a191015-e60d-434e-9b19-da9e31afc695",
   "metadata": {},
   "outputs": [],
   "source": [
    "C=np.array(L,dtype='u4') # unsigned integer datatype"
   ]
  },
  {
   "cell_type": "code",
   "execution_count": 32,
   "id": "85d1ebb0-3d9d-4999-a88b-cd02f975dd64",
   "metadata": {},
   "outputs": [
    {
     "data": {
      "text/plain": [
       "array([[1, 2, 3],\n",
       "       [4, 5, 6]], dtype=uint32)"
      ]
     },
     "execution_count": 32,
     "metadata": {},
     "output_type": "execute_result"
    }
   ],
   "source": [
    "C"
   ]
  },
  {
   "cell_type": "code",
   "execution_count": 33,
   "id": "6847f294-9da2-4e46-82be-27a06c709cf6",
   "metadata": {},
   "outputs": [
    {
     "ename": "TypeError",
     "evalue": "data type 'u' not understood",
     "output_type": "error",
     "traceback": [
      "\u001b[1;31m---------------------------------------------------------------------------\u001b[0m",
      "\u001b[1;31mTypeError\u001b[0m                                 Traceback (most recent call last)",
      "Cell \u001b[1;32mIn[33], line 1\u001b[0m\n\u001b[1;32m----> 1\u001b[0m D\u001b[38;5;241m=\u001b[39m\u001b[43mnp\u001b[49m\u001b[38;5;241;43m.\u001b[39;49m\u001b[43marray\u001b[49m\u001b[43m(\u001b[49m\u001b[43mL\u001b[49m\u001b[43m,\u001b[49m\u001b[43mdtype\u001b[49m\u001b[38;5;241;43m=\u001b[39;49m\u001b[38;5;124;43m'\u001b[39;49m\u001b[38;5;124;43mu\u001b[39;49m\u001b[38;5;124;43m'\u001b[39;49m\u001b[43m)\u001b[49m\n",
      "\u001b[1;31mTypeError\u001b[0m: data type 'u' not understood"
     ]
    }
   ],
   "source": [
    "D=np.array(L,dtype='u')"
   ]
  },
  {
   "cell_type": "code",
   "execution_count": 34,
   "id": "0c56eab6-d5c2-4b00-85ac-b74ed8b0af08",
   "metadata": {},
   "outputs": [],
   "source": [
    "D=np.array(L,dtype='u2')"
   ]
  },
  {
   "cell_type": "code",
   "execution_count": 35,
   "id": "e9847eed-ecb5-491d-a3ff-3be9c3e98792",
   "metadata": {},
   "outputs": [
    {
     "data": {
      "text/plain": [
       "array([[1, 2, 3],\n",
       "       [4, 5, 6]], dtype=uint16)"
      ]
     },
     "execution_count": 35,
     "metadata": {},
     "output_type": "execute_result"
    }
   ],
   "source": [
    "D"
   ]
  },
  {
   "cell_type": "code",
   "execution_count": 36,
   "id": "7325eb4d-5771-4ca3-bbc1-7528df2fac35",
   "metadata": {},
   "outputs": [],
   "source": [
    "E=np.array(L,dtype='complex')"
   ]
  },
  {
   "cell_type": "code",
   "execution_count": 37,
   "id": "52069dc5-3586-452c-893f-b72b99f60cb6",
   "metadata": {},
   "outputs": [
    {
     "data": {
      "text/plain": [
       "array([[1.+0.j, 2.+0.j, 3.+0.j],\n",
       "       [4.+0.j, 5.+0.j, 6.+0.j]])"
      ]
     },
     "execution_count": 37,
     "metadata": {},
     "output_type": "execute_result"
    }
   ],
   "source": [
    "E"
   ]
  },
  {
   "cell_type": "code",
   "execution_count": 38,
   "id": "5ca4921a-45a5-4fa1-827f-3e8957a1cdb1",
   "metadata": {},
   "outputs": [
    {
     "data": {
      "text/plain": [
       "dtype('complex128')"
      ]
     },
     "execution_count": 38,
     "metadata": {},
     "output_type": "execute_result"
    }
   ],
   "source": [
    "E.dtype"
   ]
  },
  {
   "cell_type": "markdown",
   "id": "6f70b06a-a210-4f33-8156-42a7989e282c",
   "metadata": {},
   "source": [
    "by default, interpreter assigns 128 bits ( 16 bytes) for complex data (64 bit for real part and 64 bits for imaginery part). "
   ]
  },
  {
   "cell_type": "code",
   "execution_count": 39,
   "id": "d833a319-a184-4dc9-b58b-bced8101095b",
   "metadata": {},
   "outputs": [],
   "source": [
    "F=np.array(L,dtype='c8') # trying to assign 8 bytes for complex datatype"
   ]
  },
  {
   "cell_type": "code",
   "execution_count": 40,
   "id": "2fbe1987-eb45-4353-86e9-161db66cf4fb",
   "metadata": {},
   "outputs": [
    {
     "data": {
      "text/plain": [
       "array([[1.+0.j, 2.+0.j, 3.+0.j],\n",
       "       [4.+0.j, 5.+0.j, 6.+0.j]], dtype=complex64)"
      ]
     },
     "execution_count": 40,
     "metadata": {},
     "output_type": "execute_result"
    }
   ],
   "source": [
    "F"
   ]
  },
  {
   "cell_type": "code",
   "execution_count": 66,
   "id": "3a99c68b-2590-4a6c-ad08-215f891c0f91",
   "metadata": {},
   "outputs": [],
   "source": [
    "F1=np.array(L,dtype='c16') # another  way to assign 16 byte complex data"
   ]
  },
  {
   "cell_type": "code",
   "execution_count": 67,
   "id": "a2b37c3b-5cbb-4c5e-9200-22fac6c22e36",
   "metadata": {},
   "outputs": [
    {
     "ename": "TypeError",
     "evalue": "data type 'c4' not understood",
     "output_type": "error",
     "traceback": [
      "\u001b[1;31m---------------------------------------------------------------------------\u001b[0m",
      "\u001b[1;31mTypeError\u001b[0m                                 Traceback (most recent call last)",
      "Cell \u001b[1;32mIn[67], line 1\u001b[0m\n\u001b[1;32m----> 1\u001b[0m F2\u001b[38;5;241m=\u001b[39m\u001b[43mnp\u001b[49m\u001b[38;5;241;43m.\u001b[39;49m\u001b[43marray\u001b[49m\u001b[43m(\u001b[49m\u001b[43mL\u001b[49m\u001b[43m,\u001b[49m\u001b[43mdtype\u001b[49m\u001b[38;5;241;43m=\u001b[39;49m\u001b[38;5;124;43m'\u001b[39;49m\u001b[38;5;124;43mc4\u001b[39;49m\u001b[38;5;124;43m'\u001b[39;49m\u001b[43m)\u001b[49m\n",
      "\u001b[1;31mTypeError\u001b[0m: data type 'c4' not understood"
     ]
    }
   ],
   "source": [
    "F2=np.array(L,dtype='c4')"
   ]
  },
  {
   "cell_type": "markdown",
   "id": "6cad03d8-8f7b-49eb-ab26-8941851149e7",
   "metadata": {},
   "source": [
    "Complex datatype shall be of either 64 bits or 128 bits. All other formats are invalid"
   ]
  },
  {
   "cell_type": "code",
   "execution_count": 41,
   "id": "d680802e-9716-48d4-949e-83713ab63f7c",
   "metadata": {},
   "outputs": [],
   "source": [
    "G=np.array(L,dtype='c') "
   ]
  },
  {
   "cell_type": "code",
   "execution_count": 42,
   "id": "98d7e56f-f978-4c2f-91c2-1d9c1341301f",
   "metadata": {},
   "outputs": [
    {
     "data": {
      "text/plain": [
       "array([[b'1', b'2', b'3'],\n",
       "       [b'4', b'5', b'6']], dtype='|S1')"
      ]
     },
     "execution_count": 42,
     "metadata": {},
     "output_type": "execute_result"
    }
   ],
   "source": [
    "G "
   ]
  },
  {
   "cell_type": "markdown",
   "id": "58b241ac-dfe5-4528-891a-8a2b45b4f1f7",
   "metadata": {},
   "source": [
    "It is evident that 'c' does not act as short form of complex but it is taken as ' character' by the interpreter.  \n",
    "\n",
    "All elements are converted into byte strings. datatype is 'byte String' where each string has only one character (hence S1)."
   ]
  },
  {
   "cell_type": "code",
   "execution_count": 43,
   "id": "02a1bd2f-775a-4be7-8979-837c28d1325d",
   "metadata": {},
   "outputs": [],
   "source": [
    "L='Made in India'.split()"
   ]
  },
  {
   "cell_type": "code",
   "execution_count": 44,
   "id": "41cf894e-0706-4948-abd6-39e50ffd4e4c",
   "metadata": {},
   "outputs": [
    {
     "data": {
      "text/plain": [
       "['Made', 'in', 'India']"
      ]
     },
     "execution_count": 44,
     "metadata": {},
     "output_type": "execute_result"
    }
   ],
   "source": [
    "L"
   ]
  },
  {
   "cell_type": "code",
   "execution_count": 45,
   "id": "9c810d4a-3ec3-4c35-a722-53ebe71066ce",
   "metadata": {},
   "outputs": [
    {
     "ename": "ValueError",
     "evalue": "setting an array element with a sequence. The requested array has an inhomogeneous shape after 1 dimensions. The detected shape was (3,) + inhomogeneous part.",
     "output_type": "error",
     "traceback": [
      "\u001b[1;31m---------------------------------------------------------------------------\u001b[0m",
      "\u001b[1;31mValueError\u001b[0m                                Traceback (most recent call last)",
      "Cell \u001b[1;32mIn[45], line 1\u001b[0m\n\u001b[1;32m----> 1\u001b[0m H\u001b[38;5;241m=\u001b[39m\u001b[43mnp\u001b[49m\u001b[38;5;241;43m.\u001b[39;49m\u001b[43marray\u001b[49m\u001b[43m(\u001b[49m\u001b[43mL\u001b[49m\u001b[43m,\u001b[49m\u001b[43mdtype\u001b[49m\u001b[38;5;241;43m=\u001b[39;49m\u001b[38;5;124;43m'\u001b[39;49m\u001b[38;5;124;43mc\u001b[39;49m\u001b[38;5;124;43m'\u001b[39;49m\u001b[43m)\u001b[49m\n",
      "\u001b[1;31mValueError\u001b[0m: setting an array element with a sequence. The requested array has an inhomogeneous shape after 1 dimensions. The detected shape was (3,) + inhomogeneous part."
     ]
    }
   ],
   "source": [
    "H=np.array(L,dtype='c')"
   ]
  },
  {
   "cell_type": "code",
   "execution_count": 46,
   "id": "ef3f4d44-bdc3-4f66-8ba7-6328f4a78dc5",
   "metadata": {},
   "outputs": [],
   "source": [
    "I=np.array(L)"
   ]
  },
  {
   "cell_type": "code",
   "execution_count": 47,
   "id": "bcb0cc2a-e87f-4464-90b1-2de95dd811bc",
   "metadata": {},
   "outputs": [
    {
     "data": {
      "text/plain": [
       "array(['Made', 'in', 'India'], dtype='<U5')"
      ]
     },
     "execution_count": 47,
     "metadata": {},
     "output_type": "execute_result"
    }
   ],
   "source": [
    "I"
   ]
  },
  {
   "cell_type": "markdown",
   "id": "77f16a25-7cd9-4ec0-9ed9-f45d6d7e8a22",
   "metadata": {},
   "source": [
    "NOTE: 1. integer elements can be converted into byte strings but strings of unequal length \n",
    "         can't be converted into byte string format.\n",
    "      2. A list of strings by default will be  converted into an array of unicode character \n",
    "         strings by python interpreter. \n",
    "      3. Here '<' indicates  'little endian byte addressing' U indicates 'Unicode' and '5' \n",
    "         indicates maximum length of any array element"
   ]
  },
  {
   "cell_type": "code",
   "execution_count": 48,
   "id": "138ecdcd-9690-4881-a84a-1c18ab02e3c4",
   "metadata": {},
   "outputs": [],
   "source": [
    "J=np.array(L,dtype='S') # 'S' indicates byte strings of unequal length "
   ]
  },
  {
   "cell_type": "code",
   "execution_count": 49,
   "id": "c7f6cd2d-7fe7-4671-8016-96d3ae79a8bf",
   "metadata": {},
   "outputs": [
    {
     "data": {
      "text/plain": [
       "array([b'Made', b'in', b'India'], dtype='|S5')"
      ]
     },
     "execution_count": 49,
     "metadata": {},
     "output_type": "execute_result"
    }
   ],
   "source": [
    "J"
   ]
  },
  {
   "cell_type": "code",
   "execution_count": 50,
   "id": "ec2f168c-deed-44a5-83cc-b8efa44e1530",
   "metadata": {},
   "outputs": [
    {
     "ename": "ValueError",
     "evalue": "invalid literal for int() with base 10: 'Made'",
     "output_type": "error",
     "traceback": [
      "\u001b[1;31m---------------------------------------------------------------------------\u001b[0m",
      "\u001b[1;31mValueError\u001b[0m                                Traceback (most recent call last)",
      "Cell \u001b[1;32mIn[50], line 1\u001b[0m\n\u001b[1;32m----> 1\u001b[0m K\u001b[38;5;241m=\u001b[39m\u001b[43mnp\u001b[49m\u001b[38;5;241;43m.\u001b[39;49m\u001b[43marray\u001b[49m\u001b[43m(\u001b[49m\u001b[43mL\u001b[49m\u001b[43m,\u001b[49m\u001b[43mdtype\u001b[49m\u001b[38;5;241;43m=\u001b[39;49m\u001b[38;5;124;43m'\u001b[39;49m\u001b[38;5;124;43mi\u001b[39;49m\u001b[38;5;124;43m'\u001b[39;49m\u001b[43m)\u001b[49m\n",
      "\u001b[1;31mValueError\u001b[0m: invalid literal for int() with base 10: 'Made'"
     ]
    }
   ],
   "source": [
    "K=np.array(L,dtype='i')"
   ]
  },
  {
   "cell_type": "code",
   "execution_count": 51,
   "id": "60d6fe8a-dfe1-4ed3-98da-eb8b918c4e02",
   "metadata": {},
   "outputs": [],
   "source": [
    "M=np.array(L,dtype=bool)"
   ]
  },
  {
   "cell_type": "code",
   "execution_count": 52,
   "id": "2c56897b-569f-4643-8424-62be20a66fa8",
   "metadata": {},
   "outputs": [
    {
     "data": {
      "text/plain": [
       "array([ True,  True,  True])"
      ]
     },
     "execution_count": 52,
     "metadata": {},
     "output_type": "execute_result"
    }
   ],
   "source": [
    "M"
   ]
  },
  {
   "cell_type": "code",
   "execution_count": 53,
   "id": "123d5931-f25a-47fd-8898-20900c7c7ad2",
   "metadata": {},
   "outputs": [
    {
     "data": {
      "text/plain": [
       "1"
      ]
     },
     "execution_count": 53,
     "metadata": {},
     "output_type": "execute_result"
    }
   ],
   "source": [
    "M.ndim"
   ]
  },
  {
   "cell_type": "code",
   "execution_count": 54,
   "id": "7ddc091e-a362-489c-9c1a-d9df6a1c5d5a",
   "metadata": {},
   "outputs": [
    {
     "data": {
      "text/plain": [
       "dtype('bool')"
      ]
     },
     "execution_count": 54,
     "metadata": {},
     "output_type": "execute_result"
    }
   ],
   "source": [
    "M.dtype"
   ]
  },
  {
   "cell_type": "code",
   "execution_count": 55,
   "id": "4c69c3c8-3ee5-4c1a-8560-f49f0ada732e",
   "metadata": {},
   "outputs": [],
   "source": [
    "L=[1,2,3,4]"
   ]
  },
  {
   "cell_type": "code",
   "execution_count": 57,
   "id": "82257b64-9417-4bfb-8860-6ff9a9955659",
   "metadata": {},
   "outputs": [],
   "source": [
    "MM=np.array(L,dtype='?')"
   ]
  },
  {
   "cell_type": "code",
   "execution_count": 58,
   "id": "ddaf49ef-79fc-4c1e-adad-9734cd1583a6",
   "metadata": {},
   "outputs": [
    {
     "data": {
      "text/plain": [
       "array([ True,  True,  True,  True])"
      ]
     },
     "execution_count": 58,
     "metadata": {},
     "output_type": "execute_result"
    }
   ],
   "source": [
    "MM"
   ]
  },
  {
   "cell_type": "code",
   "execution_count": 59,
   "id": "8fe6f427-530f-427d-a87d-d71f09b76625",
   "metadata": {},
   "outputs": [
    {
     "data": {
      "text/plain": [
       "(2, 3)"
      ]
     },
     "execution_count": 59,
     "metadata": {},
     "output_type": "execute_result"
    }
   ],
   "source": [
    "A.shape"
   ]
  },
  {
   "cell_type": "code",
   "execution_count": 60,
   "id": "1ed41e1a-4c1b-497b-81d9-04a7d0e50e73",
   "metadata": {},
   "outputs": [
    {
     "data": {
      "text/plain": [
       "(2, 3)"
      ]
     },
     "execution_count": 60,
     "metadata": {},
     "output_type": "execute_result"
    }
   ],
   "source": [
    "B.shape"
   ]
  },
  {
   "cell_type": "code",
   "execution_count": 61,
   "id": "276ca81b-1952-4ae4-9838-dc966826a03e",
   "metadata": {},
   "outputs": [
    {
     "data": {
      "text/plain": [
       "(3,)"
      ]
     },
     "execution_count": 61,
     "metadata": {},
     "output_type": "execute_result"
    }
   ],
   "source": [
    "M.shape"
   ]
  },
  {
   "cell_type": "code",
   "execution_count": 62,
   "id": "72b2ff38-1fdf-4fa0-9a2f-d91da287f950",
   "metadata": {},
   "outputs": [
    {
     "data": {
      "text/plain": [
       "(4,)"
      ]
     },
     "execution_count": 62,
     "metadata": {},
     "output_type": "execute_result"
    }
   ],
   "source": [
    "MM.shape"
   ]
  },
  {
   "cell_type": "code",
   "execution_count": 68,
   "id": "8239969e-8914-447f-8edf-dd1ee33c9c09",
   "metadata": {},
   "outputs": [],
   "source": [
    "N=np.asarray(L)"
   ]
  },
  {
   "cell_type": "code",
   "execution_count": 69,
   "id": "01a39183-965c-45fa-ae5c-4eac8d4a732a",
   "metadata": {},
   "outputs": [
    {
     "data": {
      "text/plain": [
       "array([1, 2, 3, 4])"
      ]
     },
     "execution_count": 69,
     "metadata": {},
     "output_type": "execute_result"
    }
   ],
   "source": [
    "N"
   ]
  },
  {
   "cell_type": "code",
   "execution_count": 70,
   "id": "b8a1616a-b8ed-4d00-b00f-4826c589f735",
   "metadata": {},
   "outputs": [
    {
     "data": {
      "text/plain": [
       "dtype('int32')"
      ]
     },
     "execution_count": 70,
     "metadata": {},
     "output_type": "execute_result"
    }
   ],
   "source": [
    "N.dtype"
   ]
  },
  {
   "cell_type": "code",
   "execution_count": 71,
   "id": "233bf2ae-5b7f-44b5-b98c-43ff24e45b31",
   "metadata": {},
   "outputs": [
    {
     "data": {
      "text/plain": [
       "1"
      ]
     },
     "execution_count": 71,
     "metadata": {},
     "output_type": "execute_result"
    }
   ],
   "source": [
    "N.ndim"
   ]
  },
  {
   "cell_type": "code",
   "execution_count": 72,
   "id": "0c7c19ad-ce35-4d8b-b642-f94f8ec881b9",
   "metadata": {},
   "outputs": [
    {
     "data": {
      "text/plain": [
       "(4,)"
      ]
     },
     "execution_count": 72,
     "metadata": {},
     "output_type": "execute_result"
    }
   ],
   "source": [
    "N.shape"
   ]
  },
  {
   "cell_type": "markdown",
   "id": "121e71c4-0423-47f5-ac7e-72b3297e6f87",
   "metadata": {},
   "source": [
    "Similar to array () function, there is  a function 'asarray() in numpy. It will also construct array from the given list, tuple. But if the input is already an array, asarray will generate a pointer to the existing array ( shallow copy). np.array() will always construct a new array object (deep copy)"
   ]
  },
  {
   "cell_type": "code",
   "execution_count": 73,
   "id": "bf7777a9-9066-4b0e-887e-0db2dc34517e",
   "metadata": {},
   "outputs": [],
   "source": [
    "P=np.asarray(N)"
   ]
  },
  {
   "cell_type": "code",
   "execution_count": 74,
   "id": "cd96cdae-ee64-4844-befb-42dffddedb1b",
   "metadata": {},
   "outputs": [
    {
     "data": {
      "text/plain": [
       "array([1, 2, 3, 4])"
      ]
     },
     "execution_count": 74,
     "metadata": {},
     "output_type": "execute_result"
    }
   ],
   "source": [
    "P"
   ]
  },
  {
   "cell_type": "code",
   "execution_count": 75,
   "id": "f21fb1ac-fe85-4433-8491-823a92e55156",
   "metadata": {},
   "outputs": [
    {
     "data": {
      "text/plain": [
       "True"
      ]
     },
     "execution_count": 75,
     "metadata": {},
     "output_type": "execute_result"
    }
   ],
   "source": [
    "P is N"
   ]
  },
  {
   "cell_type": "code",
   "execution_count": 76,
   "id": "f72ad1fd-2d40-46d7-844f-54830e32694d",
   "metadata": {},
   "outputs": [
    {
     "data": {
      "text/plain": [
       "array([ True,  True,  True,  True])"
      ]
     },
     "execution_count": 76,
     "metadata": {},
     "output_type": "execute_result"
    }
   ],
   "source": [
    "P==N"
   ]
  },
  {
   "cell_type": "code",
   "execution_count": 77,
   "id": "4d546f83-027b-4d94-b0c6-3b38d2a95fe9",
   "metadata": {},
   "outputs": [],
   "source": [
    "Q=np.array(N)"
   ]
  },
  {
   "cell_type": "code",
   "execution_count": 78,
   "id": "e0f0893c-4a14-493b-94d7-a598544b5fa0",
   "metadata": {},
   "outputs": [
    {
     "data": {
      "text/plain": [
       "array([1, 2, 3, 4])"
      ]
     },
     "execution_count": 78,
     "metadata": {},
     "output_type": "execute_result"
    }
   ],
   "source": [
    "Q"
   ]
  },
  {
   "cell_type": "code",
   "execution_count": 79,
   "id": "738c03a6-aa85-4cba-9f8c-866a1a770f85",
   "metadata": {},
   "outputs": [
    {
     "data": {
      "text/plain": [
       "False"
      ]
     },
     "execution_count": 79,
     "metadata": {},
     "output_type": "execute_result"
    }
   ],
   "source": [
    "Q is N # 'is' operator checks whether both object names point to the same memory location"
   ]
  },
  {
   "cell_type": "code",
   "execution_count": 80,
   "id": "dad882f4-0f7f-4592-8ab4-dd971c40e939",
   "metadata": {},
   "outputs": [
    {
     "data": {
      "text/plain": [
       "array([ True,  True,  True,  True])"
      ]
     },
     "execution_count": 80,
     "metadata": {},
     "output_type": "execute_result"
    }
   ],
   "source": [
    "Q==N # '==' function checks element by element identity"
   ]
  },
  {
   "cell_type": "code",
   "execution_count": null,
   "id": "051c21c4-778f-4824-af79-77a8e3984177",
   "metadata": {},
   "outputs": [],
   "source": []
  }
 ],
 "metadata": {
  "kernelspec": {
   "display_name": "Python 3 (ipykernel)",
   "language": "python",
   "name": "python3"
  },
  "language_info": {
   "codemirror_mode": {
    "name": "ipython",
    "version": 3
   },
   "file_extension": ".py",
   "mimetype": "text/x-python",
   "name": "python",
   "nbconvert_exporter": "python",
   "pygments_lexer": "ipython3",
   "version": "3.11.4"
  }
 },
 "nbformat": 4,
 "nbformat_minor": 5
}
