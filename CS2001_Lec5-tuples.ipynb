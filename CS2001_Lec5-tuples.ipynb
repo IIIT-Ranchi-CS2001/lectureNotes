{
 "cells": [
  {
   "cell_type": "markdown",
   "id": "f39d2720-633f-4442-bd61-57b913bd406e",
   "metadata": {},
   "source": [
    "# CS2001<span style=\"margin-left: 750px;\"></span>IIIT-Ranchi  \n",
    "### <span style=\"margin-left: 850px;\"></span>                                                    *Shivang Tripathi*"
   ]
  },
  {
   "cell_type": "markdown",
   "id": "7b21aa09-47bf-45bf-81f6-eb04c73c5d62",
   "metadata": {},
   "source": [
    "# Container Type"
   ]
  },
  {
   "cell_type": "markdown",
   "id": "907ebadc-25eb-4abd-906f-49bed1aa59ad",
   "metadata": {
    "editable": true,
    "slideshow": {
     "slide_type": ""
    },
    "tags": []
   },
   "source": [
    "* It refers to a collection of data or objects  \n",
    "    - Can be considered as derived datatypes\n",
    "* Python has a wide variety of container types  \n",
    "* Four different container types are directly available with python\n",
    "     - **List, tuple, set, dictionary**\n",
    "* Many other container types are available as part of the python module “collections”\n",
    "     - namedtuple(), ordereddict(), deque etc\n"
   ]
  },
  {
   "cell_type": "markdown",
   "id": "0793929a-3835-472e-8755-34b93031be0e",
   "metadata": {},
   "source": [
    "# Tuple"
   ]
  },
  {
   "cell_type": "markdown",
   "id": "c5cb310b-ac39-4433-a1f1-985792daf2c9",
   "metadata": {},
   "source": [
    "* A tuple is a collection data type in Python that is used to store multiple items in a single variable.\n",
    "* Unlike lists, tuples are immutable, meaning that once created, their elements cannot be changed.\n",
    "* They are useful for representing fixed collections of items and are often used when the immutability of data is needed."
   ]
  },
  {
   "cell_type": "markdown",
   "id": "f853c209-41d9-472f-9732-91d8501340c9",
   "metadata": {},
   "source": [
    "## Basic Properties of Tuples\n",
    " * ***Ordered:*** The items have a defined order, and that order will not change\n",
    " * ***Immutable:*** You cannot modify (add, change, or remove) elements after the tuple is created.\n",
    " * ***Heterogeneous:*** Tuples can store elements of different data types (integers, strings, other tuples, etc.).\n",
    " * ***Indexed:*** You can access elements by their index (0-based indexing)."
   ]
  },
  {
   "cell_type": "markdown",
   "id": "1f67c3aa-ec2e-4dfb-a2e0-5677037cf243",
   "metadata": {},
   "source": [
    "## Creating a Tuple\n",
    "### You can create a tuple by enclosing elements in parentheses () or simply using commas."
   ]
  },
  {
   "cell_type": "code",
   "execution_count": 4,
   "id": "596c9c3a-ffb5-4e3a-866e-cf82a35fb49c",
   "metadata": {},
   "outputs": [
    {
     "name": "stdout",
     "output_type": "stream",
     "text": [
      "()\n",
      "(1, 2, 3, 4, 5)\n",
      "(1, 'apple', 3.14, True)\n",
      "(1, 2, 3)\n",
      "('A', 'N', 'I', 'L')\n"
     ]
    }
   ],
   "source": [
    "# Empty tuple\n",
    "empty_tuple = ()\n",
    "print(empty_tuple)\n",
    "\n",
    "# Tuple with elements\n",
    "numbers = (1, 2, 3, 4, 5)\n",
    "mixed = (1, \"apple\", 3.14, True)\n",
    "print(numbers)\n",
    "print(mixed)\n",
    "\n",
    "# Tuple without parentheses (using commas)\n",
    "no_parentheses = 1, 2, 3\n",
    "print(no_parentheses)\n",
    "\n",
    "# Convert string or any other data type to tuple using tuple()\n",
    "aString = \"ANIL\"\n",
    "stringTotuple = tuple(aString)\n",
    "print(stringTotuple)"
   ]
  },
  {
   "cell_type": "markdown",
   "id": "2e32ef2b-041a-4c6e-ba05-7769888c704b",
   "metadata": {},
   "source": [
    "## Accessing Tuple Elements\n",
    "### You can access elements using indexing and slicing."
   ]
  },
  {
   "cell_type": "code",
   "execution_count": 5,
   "id": "1066513c-d553-4d7e-bd89-2ed5c695b4c8",
   "metadata": {},
   "outputs": [
    {
     "name": "stdout",
     "output_type": "stream",
     "text": [
      "10\n",
      "50\n",
      "(20, 30)\n"
     ]
    }
   ],
   "source": [
    "# Access by index\n",
    "\n",
    "#-ve index:-5  -4  -3  -2  -1\n",
    "numbers = (10, 20, 30, 40, 50)\n",
    "#+ve index: 0   1   2   3   4\n",
    "print(numbers[0])   # Output: 10 (first element)\n",
    "print(numbers[-1])  # Output: 50 (last element)\n",
    "\n",
    "# Slicing\n",
    "sub_tuple = numbers[1:3]  # Output: (20, 30)\n",
    "print(sub_tuple)\n"
   ]
  },
  {
   "cell_type": "markdown",
   "id": "a4addcfb-a43c-4872-bf02-a68ed3057053",
   "metadata": {},
   "source": [
    "### Tuple Immutability\n",
    "##### Once a tuple is created, you cannot modify its elements (i.e., no appending, inserting, or removing elements)."
   ]
  },
  {
   "cell_type": "code",
   "execution_count": 6,
   "id": "fb770c86-0931-4fee-a3ae-9b4226f9b2ff",
   "metadata": {},
   "outputs": [
    {
     "ename": "TypeError",
     "evalue": "'tuple' object does not support item assignment",
     "output_type": "error",
     "traceback": [
      "\u001b[1;31m---------------------------------------------------------------------------\u001b[0m",
      "\u001b[1;31mTypeError\u001b[0m                                 Traceback (most recent call last)",
      "Cell \u001b[1;32mIn[6], line 2\u001b[0m\n\u001b[0;32m      1\u001b[0m numbers \u001b[38;5;241m=\u001b[39m (\u001b[38;5;241m1\u001b[39m, \u001b[38;5;241m2\u001b[39m, \u001b[38;5;241m3\u001b[39m)\n\u001b[1;32m----> 2\u001b[0m \u001b[43mnumbers\u001b[49m\u001b[43m[\u001b[49m\u001b[38;5;241;43m0\u001b[39;49m\u001b[43m]\u001b[49m \u001b[38;5;241m=\u001b[39m \u001b[38;5;241m100\u001b[39m  \u001b[38;5;66;03m# This will raise a TypeError because tuples are immutable\u001b[39;00m\n",
      "\u001b[1;31mTypeError\u001b[0m: 'tuple' object does not support item assignment"
     ]
    }
   ],
   "source": [
    "numbers = (1, 2, 3)\n",
    "numbers[0] = 100  # This will raise a TypeError because tuples are immutable"
   ]
  },
  {
   "cell_type": "markdown",
   "id": "e47d5792-8b51-4ea9-add6-166d5254205c",
   "metadata": {},
   "source": [
    "#### However, if the tuple contains mutable elements (like lists), the mutable objects inside can be changed."
   ]
  },
  {
   "cell_type": "code",
   "execution_count": 7,
   "id": "c9a15c5f-2d3d-4240-ac1d-878a8f2cf95f",
   "metadata": {},
   "outputs": [
    {
     "name": "stdout",
     "output_type": "stream",
     "text": [
      "([100, 2], 3, 4)\n"
     ]
    }
   ],
   "source": [
    "mutable_inside_tuple = ([1, 2], 3, 4)\n",
    "mutable_inside_tuple[0][0] = 100\n",
    "print(mutable_inside_tuple)  # Output: ([100, 2], 3, 4)"
   ]
  },
  {
   "cell_type": "markdown",
   "id": "6c537122-9899-4795-8e40-c6001f26dd4f",
   "metadata": {},
   "source": [
    "### Tuple Packing and Unpacking\n",
    "#### Packing is the process of combining multiple values into a tuple,  \n",
    "#### and unpacking is the process of extracting the values back from the tuple."
   ]
  },
  {
   "cell_type": "code",
   "execution_count": 8,
   "id": "dd3b39bb-5787-4e44-97d1-f16c524a8a5d",
   "metadata": {},
   "outputs": [
    {
     "name": "stdout",
     "output_type": "stream",
     "text": [
      "(1, 2, 'apple')\n",
      "1\n",
      "2\n",
      "apple\n"
     ]
    }
   ],
   "source": [
    "# Tuple packing\n",
    "packed_tuple = 1, 2, \"apple\"\n",
    "print(packed_tuple)\n",
    "\n",
    "# tuple unpacking\n",
    "a, b, c = packed_tuple\n",
    "print(a)  # Output: 1\n",
    "print(b)  # Output: 2\n",
    "print(c)  # Output: \"apple\"\n"
   ]
  },
  {
   "cell_type": "markdown",
   "id": "404a756e-b369-496c-ba31-3967bc251a68",
   "metadata": {},
   "source": [
    "### Traversing the tuple (iterating over items of a tuple)"
   ]
  },
  {
   "cell_type": "markdown",
   "id": "682f2a0d-53ae-4611-87bb-70c846879dd7",
   "metadata": {},
   "source": [
    "1. **using while loop along with len() fxn to get the length of the list**"
   ]
  },
  {
   "cell_type": "code",
   "execution_count": 9,
   "id": "90ddc0b7-94a4-44bd-b5b9-c6a8ba7c45b0",
   "metadata": {},
   "outputs": [
    {
     "name": "stdout",
     "output_type": "stream",
     "text": [
      "Dog\n",
      "Cat\n",
      "Monkey\n",
      "Lion\n"
     ]
    }
   ],
   "source": [
    "pets = ('Dog', 'Cat', 'Monkey', 'Lion')\n",
    "i = 0\n",
    "while i < len(pets):\n",
    "    print(pets[i])\n",
    "    i += 1"
   ]
  },
  {
   "cell_type": "markdown",
   "id": "706d61df-5083-49a3-bc21-fec46660aba4",
   "metadata": {},
   "source": [
    "2. **Using *for/in* combination along with range() function**"
   ]
  },
  {
   "cell_type": "code",
   "execution_count": 10,
   "id": "76ca817f-32fe-4685-834d-1f0274a6c90e",
   "metadata": {},
   "outputs": [
    {
     "name": "stdout",
     "output_type": "stream",
     "text": [
      "Dog\n",
      "Cat\n",
      "Monkey\n",
      "Lion\n"
     ]
    }
   ],
   "source": [
    "pets = ('Dog', 'Cat', 'Monkey', 'Lion')\n",
    "for i in range(len(pets)):\n",
    "    print(pets[i])\n",
    "    i +=1"
   ]
  },
  {
   "cell_type": "markdown",
   "id": "2d645125-d889-40be-8992-19690770a130",
   "metadata": {},
   "source": [
    "3. **Using *for/in* combination treating the tuple as a collection**"
   ]
  },
  {
   "cell_type": "code",
   "execution_count": 12,
   "id": "b1c40525-274e-4430-abbe-0bfa3b7149d4",
   "metadata": {},
   "outputs": [
    {
     "name": "stdout",
     "output_type": "stream",
     "text": [
      "<class 'tuple'>\n",
      "Dog\n",
      "Cat\n",
      "Monkey\n",
      "Lion\n"
     ]
    }
   ],
   "source": [
    "pets = ('Dog', 'Cat', 'Monkey', 'Lion')\n",
    "print(type(pets))\n",
    "for i in pets:\n",
    "    print(i)"
   ]
  },
  {
   "cell_type": "markdown",
   "id": "82cb563d-59d2-48cc-91e5-ed26ac0172c0",
   "metadata": {},
   "source": [
    "4. **Iteration using enumerate()**"
   ]
  },
  {
   "cell_type": "code",
   "execution_count": 13,
   "id": "c07b4f8b-7821-4410-b657-a4acd0612297",
   "metadata": {},
   "outputs": [
    {
     "name": "stdout",
     "output_type": "stream",
     "text": [
      "0 Dog\n",
      "1 Cat\n",
      "2 Monkey\n",
      "3 Lion\n"
     ]
    }
   ],
   "source": [
    "pets = ('Dog', 'Cat', 'Monkey', 'Lion')\n",
    "for index, pet in enumerate(pets):\n",
    "    print(index, pet)"
   ]
  },
  {
   "attachments": {},
   "cell_type": "markdown",
   "id": "b53b7b31-5492-4cbf-8624-e8df66e8c571",
   "metadata": {},
   "source": [
    "### SWAPPING OF DATA\n",
    "* Tuple assignment can be used to swap between the data assigned to variables"
   ]
  },
  {
   "cell_type": "code",
   "execution_count": 14,
   "id": "23a70385-c68f-406f-9710-4688d501cafc",
   "metadata": {},
   "outputs": [
    {
     "name": "stdout",
     "output_type": "stream",
     "text": [
      "30 20\n",
      "30 10 20\n"
     ]
    }
   ],
   "source": [
    "\n",
    "a, b = 20, 30\n",
    "a, b = b, a\n",
    "print(a, b)\n",
    "\n",
    "a, b, c = 10, 20, 30\n",
    "a, b, c = c, a, b\n",
    "print(a, b, c)"
   ]
  },
  {
   "cell_type": "markdown",
   "id": "82fbb719-35cf-43b8-9453-fa4623ffa5bb",
   "metadata": {},
   "source": [
    "\n",
    "## Common Tuple Operations\n"
   ]
  },
  {
   "cell_type": "markdown",
   "id": "cb689f5a-837e-47a4-bef7-c67c1c07d111",
   "metadata": {},
   "source": [
    "| Operation            | Example             | Description                                      |\n",
    "|----------------------|---------------------|--------------------------------------------------|\n",
    "| **Length of tuple**  | len(numbers)        | Returns the number of elements in the tuple.     |\n",
    "| **Concatenation**\t   | (1, 2) + (3, 4)     |  Combines two tuples.                            |\n",
    "| **Repetition**\t   | ('apple') * 3\t     | Repeats the tuple elements.                      |\n",
    "| **Membership test**  | 20 in numbers\t     | Checks if an element exists in the tuple.        |\n",
    "| **Indexing**\t       | numbers[2]\t         | Accesses the element at index 2.                 |\n",
    "| **Slicing**\t       | numbers[1:3]\t     | Extracts a subtuple from index 1 to 2.           |\n",
    "| **Find max value**| max(numbers)    | to find maximum value of a tuple |\n",
    "| **Find min**       | min(numbers)   | to find minimum       |\n",
    "| **sum** | sum(numbers) | to find sum of all elements|\n",
    "| **any()** | any(numbers) | returns True if any of the tuple element is True |\n",
    "| **all()** | all(numbers) | returns True if all of the tuple element is True |\n",
    "| **sorted()**| sorted(numbers) | create a sorted version of the tuple |"
   ]
  },
  {
   "cell_type": "code",
   "execution_count": 27,
   "id": "b7660ba2-ef52-46f1-9f6f-fc3025454a08",
   "metadata": {},
   "outputs": [
    {
     "name": "stdout",
     "output_type": "stream",
     "text": [
      "5\n",
      "appleappleapple\n",
      "True\n",
      "number at index [2] is  30\n",
      "no. of occurence for number 30 is  1\n",
      "index of element 40 is  3\n",
      "True\n",
      "True\n",
      "150\n",
      "(24, 12, 4, 67, 9)\n",
      "[4, 9, 12, 24, 67]\n"
     ]
    }
   ],
   "source": [
    "numbers = (10, 20, 30, 40, 50)\n",
    "print(len(numbers))\n",
    "print(('apple') * 3)\n",
    "print(20 in numbers)\n",
    "print(\"number at index [2] is \", numbers[2])\n",
    "print(\"no. of occurence for number 30 is \", numbers.count(30))\n",
    "print(\"index of element 40 is \", numbers.index(40))\n",
    "print(any(numbers))\n",
    "print(all(numbers))\n",
    "print(sum(numbers))\n",
    "numb = (24, 12, 4, 67, 9)\n",
    "sorted_numb = sorted(numb)\n",
    "print(numb)\n",
    "print(sorted_numb)"
   ]
  },
  {
   "cell_type": "code",
   "execution_count": 19,
   "id": "92251860-10c7-46d3-85dd-1a3b76ab587b",
   "metadata": {},
   "outputs": [
    {
     "data": {
      "text/plain": [
       "(10, 20, 30, 40, 50, 60, 70)"
      ]
     },
     "execution_count": 19,
     "metadata": {},
     "output_type": "execute_result"
    }
   ],
   "source": [
    "# concatenation\n",
    "numbers + (60, 70)\t"
   ]
  },
  {
   "cell_type": "code",
   "execution_count": 20,
   "id": "1319dfd6-2fcb-4f5f-9e03-c039cbf31d21",
   "metadata": {},
   "outputs": [
    {
     "name": "stdout",
     "output_type": "stream",
     "text": [
      "True\n"
     ]
    }
   ],
   "source": [
    "# Identity test\n",
    "num1 = (1, 2, 3)\n",
    "num2 = num1\n",
    "output = num1 is num2\n",
    "print(output)"
   ]
  },
  {
   "cell_type": "markdown",
   "id": "a94ade16-3d2e-4f6f-84e4-5a794c22a0bb",
   "metadata": {},
   "source": [
    "------------\n",
    "## Tuple Methods\n",
    "#### Tuples have only two built-in methods due to their immutability:"
   ]
  },
  {
   "cell_type": "markdown",
   "id": "e5481398-ece3-4074-b047-75ea40aeec95",
   "metadata": {},
   "source": [
    "| Method                    | Description                                                     | Example                 |\n",
    "|---------------------------|-----------------------------------------------------------------|-------------------------|\n",
    "| **count(x)**             | Returns the number of times x appears in the tuple.\t                      | num.count(2)      |\n",
    "| **index(x)**      | Returns the index of the first occurrence of x in the tuple.|\tnum.index(2)|"
   ]
  },
  {
   "cell_type": "code",
   "execution_count": 22,
   "id": "9a60c7ad-ba2d-4dd2-965f-942df0384c09",
   "metadata": {},
   "outputs": [
    {
     "name": "stdout",
     "output_type": "stream",
     "text": [
      "4\n",
      "0\n"
     ]
    }
   ],
   "source": [
    "num = (2, 1, 2, 5, 1, 2, 2, 3, 4)\n",
    "print(num.count(2))\n",
    "print(num.index(2))"
   ]
  },
  {
   "cell_type": "markdown",
   "id": "0e95c389-0b43-4af5-af53-d993ae82493b",
   "metadata": {},
   "source": [
    "### Nested Tuples\n",
    "- Tuples can contain other tuples, making them multi-dimensional.\n",
    "- We could also have tuples of list, tuples of set etc."
   ]
  },
  {
   "cell_type": "code",
   "execution_count": 28,
   "id": "13d077d3-9542-44e3-8c05-0504ebcbef5d",
   "metadata": {},
   "outputs": [
    {
     "name": "stdout",
     "output_type": "stream",
     "text": [
      "(3, 4)\n",
      "3\n"
     ]
    }
   ],
   "source": [
    "nested_tuple = ((1, 2), (3, 4), (5, 6))\n",
    "print(nested_tuple[1])    # Output: (3, 4)\n",
    "print(nested_tuple[1][0]) # Output: 3"
   ]
  },
  {
   "cell_type": "code",
   "execution_count": 31,
   "id": "b289504e-4a07-4799-bd61-81699363c06c",
   "metadata": {},
   "outputs": [
    {
     "name": "stdout",
     "output_type": "stream",
     "text": [
      "([1, 2, 3], [4, 5, 6])\n"
     ]
    }
   ],
   "source": [
    "L = [1, 2, 3]\n",
    "L2 = [4, 5, 6]\n",
    "tup = L, L2\n",
    "print(tup)"
   ]
  },
  {
   "cell_type": "markdown",
   "id": "f8092124-c57c-48b8-97c6-ccb38c431588",
   "metadata": {},
   "source": [
    "### Unpacking a Tuple\n",
    "- Using **\\*** operator"
   ]
  },
  {
   "cell_type": "code",
   "execution_count": 33,
   "id": "15868e46-45da-4504-b9cb-bc24d932dc72",
   "metadata": {},
   "outputs": [
    {
     "name": "stdout",
     "output_type": "stream",
     "text": [
      "(5, 4, (3, 2, 1), 0)\n"
     ]
    }
   ],
   "source": [
    "T1 = 3, 2, 1\n",
    "T2 = 5, 4, T1, 0\n",
    "print(T2)"
   ]
  },
  {
   "cell_type": "code",
   "execution_count": 34,
   "id": "fdf6a458-d378-4a4c-987b-db8293ed2b7c",
   "metadata": {},
   "outputs": [
    {
     "name": "stdout",
     "output_type": "stream",
     "text": [
      "(5, 4, 3, 2, 1, 0)\n"
     ]
    }
   ],
   "source": [
    "T1 = 3, 2, 1\n",
    "T2 = 5, 4, *T1, 0\n",
    "print(T2)"
   ]
  },
  {
   "cell_type": "markdown",
   "id": "9e3337d4-2e56-4990-b9ce-777141292489",
   "metadata": {},
   "source": [
    "### ZIP Function\n",
    "- The **zip()** function in Python is used to combine multiple iterables (like lists, tuples, etc.) into a single iterable of tuples.\n",
    "- It pairs the elements from each iterable based on their positions.\n",
    "- Syntax:\n",
    "      - zip(iterables)"
   ]
  },
  {
   "cell_type": "code",
   "execution_count": 50,
   "id": "b871ee1f-7dad-4607-9bd9-dda76ba208d8",
   "metadata": {},
   "outputs": [
    {
     "name": "stdout",
     "output_type": "stream",
     "text": [
      "<zip object at 0x000001F14C3E7280>\n",
      "[(1, 'a'), (2, 'b'), (3, 'c')]\n",
      "((1, 'a'), (2, 'b'), (3, 'c'))\n",
      "{1: 'a', 2: 'b', 3: 'c'}\n"
     ]
    }
   ],
   "source": [
    "# Two lists of equal length\n",
    "list1 = [1, 2, 3]\n",
    "list2 = ['a', 'b', 'c']\n",
    "\n",
    "# Using zip to combine the two lists\n",
    "result = zip(list1, list2)\n",
    "print(result)\n",
    "print(list(result))\n",
    "\n",
    "result = zip(list1, list2)\n",
    "print(tuple(result))\n",
    "\n",
    "result = zip(list1, list2)\n",
    "print(dict(result))\n"
   ]
  },
  {
   "cell_type": "code",
   "execution_count": 40,
   "id": "d839f83b-5642-4b22-bc49-54126df8f8f9",
   "metadata": {},
   "outputs": [
    {
     "name": "stdout",
     "output_type": "stream",
     "text": [
      "[(1, 'a'), (2, 'b')]\n"
     ]
    }
   ],
   "source": [
    "# when both lists have different lengths, it stops at the shortest iterable.\n",
    "list1 = [1, 2, 3]\n",
    "list2 = ['a', 'b']\n",
    "\n",
    "result = zip(list1, list2)\n",
    "print(list(result))  # Output: [(1, 'a'), (2, 'b')]"
   ]
  },
  {
   "attachments": {},
   "cell_type": "markdown",
   "id": "ad8b77d8-13c5-4b36-9a9c-f771cbccc005",
   "metadata": {},
   "source": [
    "### UNzipping a zipped object\n",
    "- You can unzip a zipped object back into separate iterables using **\\*** (the unpacking operator).\n"
   ]
  },
  {
   "cell_type": "code",
   "execution_count": 2,
   "id": "d6a4a041-27e1-498b-96c3-d5673c2201d2",
   "metadata": {},
   "outputs": [
    {
     "name": "stdout",
     "output_type": "stream",
     "text": [
      "(1, 2, 3)\n",
      "('a', 'b', 'c')\n"
     ]
    }
   ],
   "source": [
    "# Zipped list\n",
    "zipped = [(1, 'a'), (2, 'b'), (3, 'c')]\n",
    "\n",
    "# Unzipping\n",
    "numbers, letters = zip(*zipped)\n",
    "print(numbers)  # Output: (1, 2, 3)\n",
    "print(letters)  # Output: ('a', 'b', 'c')\n"
   ]
  },
  {
   "cell_type": "markdown",
   "id": "47d5faf8-5491-4507-814d-25ced7a3c20c",
   "metadata": {},
   "source": [
    "#### Zipping More Than Two Iterables\n",
    "- You can zip more than two iterables together. The output will contain tuples with as many elements as there are iterables."
   ]
  },
  {
   "cell_type": "code",
   "execution_count": 42,
   "id": "4b4aca9d-68ff-4bb9-b858-788bbd26a958",
   "metadata": {},
   "outputs": [
    {
     "name": "stdout",
     "output_type": "stream",
     "text": [
      "[(1, 'a', True), (2, 'b', False), (3, 'c', True)]\n"
     ]
    }
   ],
   "source": [
    "list1 = [1, 2, 3]\n",
    "list2 = ['a', 'b', 'c']\n",
    "list3 = [True, False, True]\n",
    "\n",
    "result = zip(list1, list2, list3)\n",
    "print(list(result))  # Output: [(1, 'a', True), (2, 'b', False), (3, 'c', True)]\n"
   ]
  },
  {
   "cell_type": "markdown",
   "id": "aa8f13c1-762a-4924-a08d-f59f6c57eb51",
   "metadata": {},
   "source": [
    "#### Using zip() with Strings\n",
    "- zip() works with any iterables, including strings."
   ]
  },
  {
   "cell_type": "code",
   "execution_count": 43,
   "id": "ddbb5589-28a9-477c-9449-855859e06669",
   "metadata": {},
   "outputs": [
    {
     "name": "stdout",
     "output_type": "stream",
     "text": [
      "[('a', '1'), ('b', '2'), ('c', '3')]\n"
     ]
    }
   ],
   "source": [
    "str1 = 'abc'\n",
    "str2 = '123'\n",
    "\n",
    "result = zip(str1, str2)\n",
    "print(list(result)) "
   ]
  },
  {
   "cell_type": "markdown",
   "id": "0d0995c9-7cea-4f5d-a61c-e717cbf73dca",
   "metadata": {},
   "source": [
    "#### practical applications of zip()\n",
    "- Creating a dictionary from two lists...\n",
    "- iterating over multiple list simulatenously\n",
    "|\n",
    "- Try it"
   ]
  },
  {
   "cell_type": "code",
   "execution_count": 6,
   "id": "94483948-efac-429c-ac88-52b203d6d869",
   "metadata": {},
   "outputs": [
    {
     "name": "stdout",
     "output_type": "stream",
     "text": [
      "{'name': 'Tarun', 'age': 20, 'city': 'Ranchi'}\n"
     ]
    }
   ],
   "source": [
    "keys = ['name', 'age', 'city']\n",
    "values = ['Tarun', 20, 'Ranchi']\n",
    "\n",
    "# Creating a dictionary using zip\n",
    "dictionary = zip(keys, values)\n",
    "print(dict(dictionary))  # Output: {'name': 'Tarun', 'age': 20, 'city': 'Ranchi'}\n"
   ]
  },
  {
   "cell_type": "code",
   "execution_count": 51,
   "id": "fa6f850e-3551-48d0-8e62-ee9af52a66b1",
   "metadata": {},
   "outputs": [
    {
     "name": "stdout",
     "output_type": "stream",
     "text": [
      "1: one\n",
      "2: two\n",
      "3: three\n"
     ]
    }
   ],
   "source": [
    "#Iterating Over Multiple Lists Simultaneously\n",
    "list1 = [1, 2, 3]\n",
    "list2 = ['one', 'two', 'three']\n",
    "\n",
    "# Iterating over both lists\n",
    "for num, word in zip(list1, list2):\n",
    "    print(f\"{num}: {word}\")\n",
    "    \n",
    "# Output:\n",
    "# 1: one\n",
    "# 2: two\n",
    "# 3: three\n"
   ]
  },
  {
   "cell_type": "markdown",
   "id": "534a528c-4ab0-4868-b7b3-f3eb6094bcb6",
   "metadata": {},
   "source": [
    "------------"
   ]
  },
  {
   "cell_type": "markdown",
   "id": "ed7e1264-833d-4dd5-8122-8ad86374ff56",
   "metadata": {},
   "source": [
    "### Partition and Join\n",
    "- The partition( ) **(a string method, not a tuple method)** method splits a string into three parts (basically, creates a tuple of 3 items):\n",
    "- the part before the specified separator,\n",
    "- the separator itself, and\n",
    "- the part after the separator."
   ]
  },
  {
   "cell_type": "code",
   "execution_count": 53,
   "id": "aa9ae30e-08ab-4df5-8fe7-134957f2ffd6",
   "metadata": {},
   "outputs": [
    {
     "name": "stdout",
     "output_type": "stream",
     "text": [
      "('Mera', ' ', 'IIIT Mahan')\n"
     ]
    },
    {
     "data": {
      "text/plain": [
       "tuple"
      ]
     },
     "execution_count": 53,
     "metadata": {},
     "output_type": "execute_result"
    }
   ],
   "source": [
    "S1 = 'Mera IIIT Mahan'\n",
    "S2 = S1.partition(' ')\n",
    "print(S2)\n",
    "type(S2)"
   ]
  },
  {
   "attachments": {},
   "cell_type": "markdown",
   "id": "4f232775-4229-47c4-93c9-9b853eec54b7",
   "metadata": {},
   "source": [
    "### join ()\n",
    "- The join() method takes an iterable (like a tuple or list) and joins its elements into a single string,\n",
    "- separated by the specified string (often used to join characters or words)."
   ]
  },
  {
   "cell_type": "code",
   "execution_count": 55,
   "id": "9b40efec-17c5-451f-bc56-b5ba26e31617",
   "metadata": {},
   "outputs": [
    {
     "name": "stdout",
     "output_type": "stream",
     "text": [
      "apple-orange-banana\n"
     ]
    },
    {
     "data": {
      "text/plain": [
       "str"
      ]
     },
     "execution_count": 55,
     "metadata": {},
     "output_type": "execute_result"
    }
   ],
   "source": [
    "tuple_elements = ('apple', 'orange', 'banana')\n",
    "result = '-'.join(tuple_elements)\n",
    "\n",
    "print(result)  # Output: 'apple-orange-banana'\n",
    "type(result)"
   ]
  },
  {
   "cell_type": "markdown",
   "id": "684d3059-328b-4ee7-9303-3ac3b69cb5ee",
   "metadata": {},
   "source": [
    "--------"
   ]
  },
  {
   "cell_type": "markdown",
   "id": "7efca0a9-3ba3-4558-8236-a787daf7f504",
   "metadata": {},
   "source": [
    "### Tuple vs List\n",
    "- Tuples are immutable, while lists are mutable.\n",
    "- Tuples are generally faster than lists due to immutability.\n",
    "- Tuples are used for read-only data, while lists are used for dynamic data.\n",
    "### Advantages of Tuples\n",
    "- Immutability makes them suitable for use as keys in dictionaries.\n",
    "- Faster than lists because of immutability.\n",
    "- They provide data integrity, ensuring that values cannot be accidentally modified."
   ]
  },
  {
   "cell_type": "markdown",
   "id": "e3c58bca-a4cf-4bee-985b-e04657f3ebec",
   "metadata": {},
   "source": [
    "### Home work Exercise: Once done, copy the code in a tuple_HW.py file and upload it to your lab code repo\n",
    "### Student ranking system\n",
    "\n",
    "* You are given two tuples:\n",
    "\n",
    "- students = (\"Bibek\", \"Pahul\", \"Yugraj\", \"Sonny\", \"Parnab\")\n",
    "- marks = (67, 82, 91, 55, 78)\n",
    "\n"
   ]
  },
  {
   "cell_type": "markdown",
   "id": "a6fdd8e0-2c0a-4c07-a47a-d88502f86e09",
   "metadata": {},
   "source": [
    "#### Perform the following tasks:\n",
    "\n",
    "- **Combine** the students and marks into a tuple of tuples, where each tuple contains a student's name and their corresponding marks.\n",
    "\n",
    "- **Sort** the combined tuple by the marks in ascending order without using lambda or any custom functions.\n",
    "\n",
    "- **Find the highest and lowest marks** and print the corresponding students' names.\n",
    "\n",
    "- **Find the second-highest marks** and print the corresponding student's name.\n",
    "\n",
    "- **Determine how many students** scored above 75 marks."
   ]
  },
  {
   "cell_type": "code",
   "execution_count": 26,
   "id": "2237ed83-77c4-4dbc-980c-cf2a3fbd7e39",
   "metadata": {},
   "outputs": [
    {
     "name": "stdout",
     "output_type": "stream",
     "text": [
      "(('pankaj', 73), ('rahul', 56), ('abhinav', 84), ('devansh', 47), ('amrit', 66))\n",
      "[('devansh', 47), ('rahul', 56), ('amrit', 66), ('pankaj', 73), ('abhinav', 84)]\n",
      "('devansh', 47)\n",
      "('abhinav', 84)\n",
      "devansh\n",
      "47\n",
      "('pankaj', 73)\n",
      "pankaj\n"
     ]
    }
   ],
   "source": [
    "# write solution here\n",
    "students =(\"pankaj\",\"rahul\",\"abhinav\",\"devansh\",\"amrit\")\n",
    "marks = (73,56,84,47,66)\n",
    "d = tuple(zip(students,marks))\n",
    "print(d)\n",
    "l=list(d)\n",
    "l.sort(key=lambda x:x[1])\n",
    "print(l)\n",
    "print(l[0])\n",
    "print(l[4])\n",
    "print(l[0][0])\n",
    "print(l[0][1])\n",
    "print(l[3])\n",
    "print(l[3][0])"
   ]
  },
  {
   "cell_type": "code",
   "execution_count": 23,
   "id": "a8f45708-71e4-4e8a-a98e-a1c263635f0e",
   "metadata": {},
   "outputs": [
    {
     "data": {
      "text/plain": [
       "[('devansh', 47),\n",
       " ('rahul', 56),\n",
       " ('amrit', 66),\n",
       " ('pankaj', 73),\n",
       " ('abhinav', 84)]"
      ]
     },
     "execution_count": 23,
     "metadata": {},
     "output_type": "execute_result"
    }
   ],
   "source": [
    "students =(\"pankaj\",\"rahul\",\"abhinav\",\"devansh\",\"amrit\")\n",
    "marks = (73,56,84,47,66)\n",
    "\n",
    "comb = tuple(zip(marks, students))\n",
    "nc = sorted(comb)\n",
    "nl = [tuple(reversed(i)) for i in nc]\n",
    "nl"
   ]
  },
  {
   "cell_type": "markdown",
   "id": "2c07715c-65b6-4a2b-b50a-033c3c379720",
   "metadata": {},
   "source": [
    "##### expected output\n",
    "Combined Tuple: (('Bibek', 67), ('Pahul', 82), ('Yugraj', 91), ('Sonny', 55), ('Parnab', 78))  \n",
    "Sorted by Marks (Ascending): [('Sonny', 55), ('Bibek', 67), ('Parnab', 78), ('Pahul', 82), ('Yugraj', 91)]  \n",
    "Student with Lowest Marks: Sonny, Marks: 55  \n",
    "Student with Highest Marks: Yugraj, Marks: 91  \n",
    "Student with Second-Highest Marks: Pahul, Marks: 82  \n",
    "Number of students scoring above 75: 3"
   ]
  },
  {
   "cell_type": "markdown",
   "id": "5806190b-1af0-4eca-917b-4b6ba385fd42",
   "metadata": {},
   "source": [
    "## This should be enough for the tuples\n",
    "## See ya'll in next topic: Dictionary (dict)"
   ]
  },
  {
   "cell_type": "code",
   "execution_count": 29,
   "id": "90883c49-62c6-403d-ae4e-4d2b1db38841",
   "metadata": {},
   "outputs": [
    {
     "name": "stdout",
     "output_type": "stream",
     "text": [
      "1\n"
     ]
    }
   ],
   "source": [
    "print(len([i for i in nl if i[1]>75]))\n"
   ]
  },
  {
   "cell_type": "code",
   "execution_count": null,
   "id": "c88e4905-5ef1-4407-89da-7bccfb48d50d",
   "metadata": {},
   "outputs": [],
   "source": []
  }
 ],
 "metadata": {
  "kernelspec": {
   "display_name": "Python 3 (ipykernel)",
   "language": "python",
   "name": "python3"
  },
  "language_info": {
   "codemirror_mode": {
    "name": "ipython",
    "version": 3
   },
   "file_extension": ".py",
   "mimetype": "text/x-python",
   "name": "python",
   "nbconvert_exporter": "python",
   "pygments_lexer": "ipython3",
   "version": "3.12.6"
  }
 },
 "nbformat": 4,
 "nbformat_minor": 5
}
