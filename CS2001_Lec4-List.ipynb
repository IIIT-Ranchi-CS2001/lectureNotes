{
 "cells": [
  {
   "cell_type": "markdown",
   "id": "f39d2720-633f-4442-bd61-57b913bd406e",
   "metadata": {},
   "source": [
    "# CS2001<span style=\"margin-left: 750px;\"></span>IIIT-Ranchi  \n",
    "### <span style=\"margin-left: 850px;\"></span>                                                    *Shivang Tripathi*"
   ]
  },
  {
   "cell_type": "markdown",
   "id": "7b21aa09-47bf-45bf-81f6-eb04c73c5d62",
   "metadata": {},
   "source": [
    "# Container Type"
   ]
  },
  {
   "cell_type": "markdown",
   "id": "907ebadc-25eb-4abd-906f-49bed1aa59ad",
   "metadata": {
    "editable": true,
    "slideshow": {
     "slide_type": ""
    },
    "tags": []
   },
   "source": [
    "* It refers to a collection of data or objects  \n",
    "    - Can be considered as derived datatypes\n",
    "* Python has a wide variety of container types  \n",
    "* Four different container types are directly available with python\n",
    "     - **List, tuple, set, dictionary**\n",
    "* Many other container types are available as part of the python module “collections”\n",
    "     - namedtuple(), ordereddict(), deque etc\n"
   ]
  },
  {
   "cell_type": "markdown",
   "id": "0793929a-3835-472e-8755-34b93031be0e",
   "metadata": {},
   "source": [
    "## List"
   ]
  },
  {
   "cell_type": "markdown",
   "id": "c5cb310b-ac39-4433-a1f1-985792daf2c9",
   "metadata": {},
   "source": [
    "### A list in Python is a built-in data structure used to store a collection of items.\n",
    "### Lists are **ordered, mutable,** and can store elements of **different data types**.\n",
    "#### List are flexible and provide many operations for working with collections of data."
   ]
  },
  {
   "cell_type": "markdown",
   "id": "f853c209-41d9-472f-9732-91d8501340c9",
   "metadata": {},
   "source": [
    "## Basic Properties of Lists\n",
    " * ***Ordered:*** Elements in a list maintain the order in which they were inserted.\n",
    " * ***Mutable:*** Lists can be modified after creation (i.e., elements can be added, removed, or changed).\n",
    " * ***Dynamic:*** You can add, delete, or modify elements at any time.\n",
    " * ***Heterogeneous:*** Lists can store elements of different types, like integers, strings, other lists, etc."
   ]
  },
  {
   "cell_type": "markdown",
   "id": "1f67c3aa-ec2e-4dfb-a2e0-5677037cf243",
   "metadata": {},
   "source": [
    "## Creating a List\n",
    "### You can create a list using square brackets [] or the list() constructor."
   ]
  },
  {
   "cell_type": "code",
   "execution_count": 215,
   "id": "596c9c3a-ffb5-4e3a-866e-cf82a35fb49c",
   "metadata": {},
   "outputs": [
    {
     "name": "stdout",
     "output_type": "stream",
     "text": [
      "[]\n",
      "[1, 2, 3, 4, 5]\n",
      "['Aditya', 'Rishabh', 'Sunny']\n",
      "[1, 'apple', 3.14, True]\n",
      "['A', 'N', 'I', 'L']\n"
     ]
    }
   ],
   "source": [
    "# Example 1: Empty list\n",
    "empty_list = []\n",
    "print(empty_list)\n",
    "\n",
    "# Example 2: List with elements\n",
    "numbers = [1, 2, 3, 4, 5]\n",
    "names = ['Aditya', 'Rishabh', 'Sunny']\n",
    "print(numbers)\n",
    "print(names)\n",
    "\n",
    "# Example 3: Mixed types\n",
    "mixed = [1, \"apple\", 3.14, True]\n",
    "print(mixed)\n",
    "\n",
    "# Example 4: Convert string or any other data type to list using list()\n",
    "aString = \"ANIL\"\n",
    "stringTolist = list(aString)\n",
    "print(stringTolist)\n",
    "\n",
    "# There's another way to construct list using List comprehension (covered later)\n"
   ]
  },
  {
   "attachments": {},
   "cell_type": "markdown",
   "id": "3a0c4d79-4bde-4701-8d18-29155bb5ef0a",
   "metadata": {},
   "source": [
    "### split() and join()\n",
    "\n",
    "* A string can be **split()** to form a list\n",
    "* List items can be joined to form a string\n"
   ]
  },
  {
   "cell_type": "code",
   "execution_count": 225,
   "id": "03b5a31f-7c96-4f94-b240-db9029208cac",
   "metadata": {},
   "outputs": [
    {
     "name": "stdout",
     "output_type": "stream",
     "text": [
      "<class 'str'>\n",
      "['India', 'is', 'my', 'country']\n",
      "<class 'list'>\n"
     ]
    }
   ],
   "source": [
    "S1='India is my country'\n",
    "print(type(S1))    #str type\n",
    "\n",
    "L1=S1.split()      # splitted into a list\n",
    "print(L1)\n",
    "print(type(L1))"
   ]
  },
  {
   "cell_type": "code",
   "execution_count": 227,
   "id": "cd4299bf-0cd9-4578-836c-0796132a7e9e",
   "metadata": {},
   "outputs": [
    {
     "data": {
      "text/plain": [
       "\u001b[1;31mSignature:\u001b[0m \u001b[0ms\u001b[0m\u001b[1;33m.\u001b[0m\u001b[0msplit\u001b[0m\u001b[1;33m(\u001b[0m\u001b[0msep\u001b[0m\u001b[1;33m=\u001b[0m\u001b[1;32mNone\u001b[0m\u001b[1;33m,\u001b[0m \u001b[0mmaxsplit\u001b[0m\u001b[1;33m=\u001b[0m\u001b[1;33m-\u001b[0m\u001b[1;36m1\u001b[0m\u001b[1;33m)\u001b[0m\u001b[1;33m\u001b[0m\u001b[1;33m\u001b[0m\u001b[0m\n",
       "\u001b[1;31mDocstring:\u001b[0m\n",
       "Return a list of the substrings in the string, using sep as the separator string.\n",
       "\n",
       "  sep\n",
       "    The separator used to split the string.\n",
       "\n",
       "    When set to None (the default value), will split on any whitespace\n",
       "    character (including \\n \\r \\t \\f and spaces) and will discard\n",
       "    empty strings from the result.\n",
       "  maxsplit\n",
       "    Maximum number of splits.\n",
       "    -1 (the default value) means no limit.\n",
       "\n",
       "Splitting starts at the front of the string and works to the end.\n",
       "\n",
       "Note, str.split() is mainly useful for data that has been intentionally\n",
       "delimited.  With natural text that includes punctuation, consider using\n",
       "the regular expression module.\n",
       "\u001b[1;31mType:\u001b[0m      builtin_function_or_method"
      ]
     },
     "metadata": {},
     "output_type": "display_data"
    }
   ],
   "source": [
    "s ='a'\n",
    "s.split?"
   ]
  },
  {
   "cell_type": "code",
   "execution_count": 115,
   "id": "f8f73e5e-6aa0-42ca-a94f-af7bb476d8bb",
   "metadata": {},
   "outputs": [
    {
     "name": "stdout",
     "output_type": "stream",
     "text": [
      "['I', 'n', 'd', 'i', 'a', ' ', 'i', 's', ' ', 'm', 'y', ' ', 'c', 'o', 'u', 'n', 't', 'r', 'y']\n"
     ]
    }
   ],
   "source": [
    "print(list(S1))"
   ]
  },
  {
   "cell_type": "markdown",
   "id": "6e9dd780-1dac-447a-9d25-f934b4f16926",
   "metadata": {},
   "source": [
    "***Note the difference in using list() fnx to convert string to list and  \n",
    "split() method of converting string to list***\n",
    "- **split()** method omits the white_spaces and returns list of words\n",
    "- **list()** function type cast all characters including whitespaces as an individual item in a list"
   ]
  },
  {
   "cell_type": "code",
   "execution_count": 229,
   "id": "edde2f99-000a-4236-8878-59d7f04a6a6f",
   "metadata": {},
   "outputs": [
    {
     "name": "stdout",
     "output_type": "stream",
     "text": [
      "['country', 'my', 'is', 'India']\n",
      "<class 'list'>\n",
      "country_my_is_India\n",
      "<class 'str'>\n"
     ]
    }
   ],
   "source": [
    "# use join method (str class) to convert items of a list in to a string\n",
    "L2=L1[::-1]\n",
    "print(L2)\n",
    "print(type(L2))\n",
    "S2='_'.join(L2)\n",
    "print(S2)\n",
    "print(type(S2))"
   ]
  },
  {
   "cell_type": "code",
   "execution_count": 117,
   "id": "8d238865-6bc3-4024-b407-ae97bbff5bc2",
   "metadata": {},
   "outputs": [
    {
     "data": {
      "text/plain": [
       "\u001b[1;31mSignature:\u001b[0m \u001b[0mstr\u001b[0m\u001b[1;33m.\u001b[0m\u001b[0mjoin\u001b[0m\u001b[1;33m(\u001b[0m\u001b[0mself\u001b[0m\u001b[1;33m,\u001b[0m \u001b[0miterable\u001b[0m\u001b[1;33m,\u001b[0m \u001b[1;33m/\u001b[0m\u001b[1;33m)\u001b[0m\u001b[1;33m\u001b[0m\u001b[1;33m\u001b[0m\u001b[0m\n",
       "\u001b[1;31mDocstring:\u001b[0m\n",
       "Concatenate any number of strings.\n",
       "\n",
       "The string whose method is called is inserted in between each given string.\n",
       "The result is returned as a new string.\n",
       "\n",
       "Example: '.'.join(['ab', 'pq', 'rs']) -> 'ab.pq.rs'\n",
       "\u001b[1;31mType:\u001b[0m      method_descriptor"
      ]
     },
     "metadata": {},
     "output_type": "display_data"
    }
   ],
   "source": [
    "str.join?"
   ]
  },
  {
   "cell_type": "markdown",
   "id": "2e32ef2b-041a-4c6e-ba05-7769888c704b",
   "metadata": {},
   "source": [
    "## Accessing List Elements\n",
    "### You can access elements using indexing (0-based)."
   ]
  },
  {
   "cell_type": "code",
   "execution_count": 230,
   "id": "1066513c-d553-4d7e-bd89-2ed5c695b4c8",
   "metadata": {},
   "outputs": [
    {
     "name": "stdout",
     "output_type": "stream",
     "text": [
      "30\n",
      "50\n"
     ]
    }
   ],
   "source": [
    "#-ve index:-5  -4  -3  -2  -1\n",
    "numbers = [10, 20, 30, 40, 50]\n",
    "#+ve index: 0   1   2   3   4\n",
    "print(numbers[2])   # Output: 10 (first element)\n",
    "print(numbers[-1])  # Output: 50 (last element)"
   ]
  },
  {
   "cell_type": "markdown",
   "id": "a4addcfb-a43c-4872-bf02-a68ed3057053",
   "metadata": {},
   "source": [
    "### Mutability of list"
   ]
  },
  {
   "cell_type": "code",
   "execution_count": 232,
   "id": "fb770c86-0931-4fee-a3ae-9b4226f9b2ff",
   "metadata": {},
   "outputs": [
    {
     "name": "stdout",
     "output_type": "stream",
     "text": [
      "Numbers list earlier: [10, 20, 30, 40, 50]\n",
      "New listnumbers [5, 20, 30, 40, 50]\n"
     ]
    }
   ],
   "source": [
    "print(\"Numbers list earlier:\", numbers)\n",
    "numbers[0] = 5\n",
    "print(\"New listnumbers\", numbers)"
   ]
  },
  {
   "cell_type": "markdown",
   "id": "404a756e-b369-496c-ba31-3967bc251a68",
   "metadata": {},
   "source": [
    "### Traversing the list (iterating over items of a list)"
   ]
  },
  {
   "cell_type": "markdown",
   "id": "682f2a0d-53ae-4611-87bb-70c846879dd7",
   "metadata": {},
   "source": [
    "1. **using while loop along with len() fxn to get the length of the list**"
   ]
  },
  {
   "cell_type": "code",
   "execution_count": 233,
   "id": "90ddc0b7-94a4-44bd-b5b9-c6a8ba7c45b0",
   "metadata": {},
   "outputs": [
    {
     "name": "stdout",
     "output_type": "stream",
     "text": [
      "Dog\n",
      "Cat\n",
      "Monkey\n",
      "Lion\n"
     ]
    }
   ],
   "source": [
    "pets = ['Dog', 'Cat', 'Monkey', 'Lion']\n",
    "i = 0\n",
    "while i < len(pets):\n",
    "    print(pets[i])\n",
    "    i += 1"
   ]
  },
  {
   "cell_type": "markdown",
   "id": "706d61df-5083-49a3-bc21-fec46660aba4",
   "metadata": {},
   "source": [
    "2. **Using *for/in* combination along with range() function**"
   ]
  },
  {
   "cell_type": "code",
   "execution_count": 238,
   "id": "76ca817f-32fe-4685-834d-1f0274a6c90e",
   "metadata": {},
   "outputs": [
    {
     "name": "stdout",
     "output_type": "stream",
     "text": [
      "Dog\n",
      "Cat\n",
      "Monkey\n",
      "Lion\n"
     ]
    }
   ],
   "source": [
    "pets = ['Dog', 'Cat', 'Monkey', 'Lion']\n",
    "for i in range(len(pets)):\n",
    "    print(pets[i])\n",
    "    #i +=2"
   ]
  },
  {
   "cell_type": "markdown",
   "id": "2d645125-d889-40be-8992-19690770a130",
   "metadata": {},
   "source": [
    "3. **Using *for/in* combination treating the list as a collection**"
   ]
  },
  {
   "cell_type": "code",
   "execution_count": 240,
   "id": "b1c40525-274e-4430-abbe-0bfa3b7149d4",
   "metadata": {},
   "outputs": [
    {
     "name": "stdout",
     "output_type": "stream",
     "text": [
      "Dog\n",
      "Cat\n",
      "Monkey\n",
      "Lion\n"
     ]
    }
   ],
   "source": [
    "pets = ['Dog', 'Cat', 'Monkey', 'Lion']\n",
    "for i in pets:\n",
    "    print(i)"
   ]
  },
  {
   "cell_type": "markdown",
   "id": "82cb563d-59d2-48cc-91e5-ed26ac0172c0",
   "metadata": {},
   "source": [
    "4. **Iteration using enumerate()**"
   ]
  },
  {
   "cell_type": "code",
   "execution_count": 100,
   "id": "c07b4f8b-7821-4410-b657-a4acd0612297",
   "metadata": {},
   "outputs": [
    {
     "name": "stdout",
     "output_type": "stream",
     "text": [
      "0 Dog\n",
      "1 Cat\n",
      "2 Monkey\n",
      "3 Lion\n"
     ]
    }
   ],
   "source": [
    "pets = ['Dog', 'Cat', 'Monkey', 'Lion']\n",
    "for index, pet in enumerate(pets):\n",
    "    print(index, pet)"
   ]
  },
  {
   "attachments": {},
   "cell_type": "markdown",
   "id": "684da8bc-2df0-4047-a76d-b82e098f5121",
   "metadata": {},
   "source": [
    "\n",
    "\n",
    "## Slicing a List\n",
    "### You can extract sublists using slicing.\n",
    "    - start index is inclusive, end is exclusive\n",
    "    - means?? just like strings slicing will be done till end-1"
   ]
  },
  {
   "cell_type": "code",
   "execution_count": 9,
   "id": "a0fcf5f3-f39d-4b5f-80d5-dbcf49b83eb6",
   "metadata": {},
   "outputs": [
    {
     "name": "stdout",
     "output_type": "stream",
     "text": [
      "[20, 30, 40]\n"
     ]
    }
   ],
   "source": [
    "sublist = numbers[1:4]   # Output: [20, 30, 40]\n",
    "print(sublist)"
   ]
  },
  {
   "cell_type": "markdown",
   "id": "82fbb719-35cf-43b8-9453-fa4623ffa5bb",
   "metadata": {},
   "source": [
    "## Common List Operations\n"
   ]
  },
  {
   "cell_type": "markdown",
   "id": "cb689f5a-837e-47a4-bef7-c67c1c07d111",
   "metadata": {},
   "source": [
    "| Operation            | Example             | Description                                 |\n",
    "|----------------------|---------------------|---------------------------------------------|\n",
    "| **Length of list**   |\tlen(numbers)     |\tReturns the number of elements in the list.|\n",
    "| **Concatenation**\t   | numbers + [60, 70]  |\tCombines two lists.                        |\n",
    "| **Repetition**\t   | ['apple'] * 3\t     | Repeats the list elements.                  |\n",
    "| **Membership test**  |\t20 in numbers\t | Checks if an element exists in the list.    |\n",
    "| **Indexing**\t       | numbers[2]\t         | Accesses the element at index 2.            |\n",
    "| **Slicing**\t       | numbers[1:3]\t     | Extracts a sublist from index 1 to 2.       |\n",
    "| **Identity Test**    | L1 is L2            | Check if both refers to same object         |"
   ]
  },
  {
   "cell_type": "code",
   "execution_count": 161,
   "id": "b7660ba2-ef52-46f1-9f6f-fc3025454a08",
   "metadata": {},
   "outputs": [
    {
     "data": {
      "text/plain": [
       "['apple', 'apple', 'apple']"
      ]
     },
     "execution_count": 161,
     "metadata": {},
     "output_type": "execute_result"
    }
   ],
   "source": [
    "# Repitition\n",
    "['apple'] * 3"
   ]
  },
  {
   "cell_type": "code",
   "execution_count": 162,
   "id": "7a673279-8b72-46d3-b721-cdded0303ad1",
   "metadata": {},
   "outputs": [
    {
     "name": "stdout",
     "output_type": "stream",
     "text": [
      "False\n"
     ]
    }
   ],
   "source": [
    "# Membership test\n",
    "print(20 in numbers)"
   ]
  },
  {
   "cell_type": "code",
   "execution_count": 163,
   "id": "92251860-10c7-46d3-85dd-1a3b76ab587b",
   "metadata": {},
   "outputs": [
    {
     "data": {
      "text/plain": [
       "[10, 25, 30, 60, 70]"
      ]
     },
     "execution_count": 163,
     "metadata": {},
     "output_type": "execute_result"
    }
   ],
   "source": [
    "# concatenation\n",
    "numbers + [60, 70]\t"
   ]
  },
  {
   "cell_type": "code",
   "execution_count": 164,
   "id": "1319dfd6-2fcb-4f5f-9e03-c039cbf31d21",
   "metadata": {},
   "outputs": [
    {
     "name": "stdout",
     "output_type": "stream",
     "text": [
      "True\n"
     ]
    }
   ],
   "source": [
    "# Identity test\n",
    "num1 = [1, 2, 3]\n",
    "num2 = num1\n",
    "output = num1 is num2\n",
    "print(output)"
   ]
  },
  {
   "cell_type": "markdown",
   "id": "60fe7a86-7e93-409b-be72-5ffb5adc0ec1",
   "metadata": {},
   "source": [
    "-----------------------\n",
    "## Modifying a List\n",
    "### Lists are mutable, so you can modify, add, or remove elements.\n",
    "\n",
    "**1. Changing an element**"
   ]
  },
  {
   "cell_type": "code",
   "execution_count": 241,
   "id": "8fe8a0a9-ddd0-46b0-b020-3da2eee18faf",
   "metadata": {},
   "outputs": [
    {
     "name": "stdout",
     "output_type": "stream",
     "text": [
      "[10, 25, 30]\n"
     ]
    }
   ],
   "source": [
    "numbers = [10, 20, 30]\n",
    "numbers[1] = 25   # Change the second element\n",
    "print(numbers)    # Output: [10, 25, 30]"
   ]
  },
  {
   "cell_type": "markdown",
   "id": "12761bc3-43fe-4db1-a18c-0c40561e52a1",
   "metadata": {},
   "source": [
    "##### **2. Ways of adding to a list**\n",
    "**2.1 Appending an Element: append()**"
   ]
  },
  {
   "cell_type": "code",
   "execution_count": 242,
   "id": "1f3356c5-0496-4704-b487-d1e7b23e6856",
   "metadata": {},
   "outputs": [
    {
     "name": "stdout",
     "output_type": "stream",
     "text": [
      "[10, 25, 30, 40]\n"
     ]
    }
   ],
   "source": [
    "numbers.append(40)  # Adds 40 at the end\n",
    "print(numbers)      # Output: [10, 25, 30, 40]"
   ]
  },
  {
   "cell_type": "markdown",
   "id": "ed50b081-c05a-4489-9a0d-e27e46a48107",
   "metadata": {},
   "source": [
    "**2.2 Inserting an Element: insert()**"
   ]
  },
  {
   "cell_type": "code",
   "execution_count": 248,
   "id": "b4ef4bce-3d8f-476a-9e85-03b837c1a504",
   "metadata": {},
   "outputs": [
    {
     "name": "stdout",
     "output_type": "stream",
     "text": [
      "[10, 24, ' ', '', 25, 30, 40]\n"
     ]
    }
   ],
   "source": [
    "numbers.insert(1,24)  # Inserts 15 at index 1\n",
    "print(numbers)         # Output: [10, 15, 25, 30, 40]"
   ]
  },
  {
   "cell_type": "markdown",
   "id": "3d886ba7-0a81-4e18-841f-56c5a8c20ee3",
   "metadata": {},
   "source": [
    "**2.3 Using the + operator**"
   ]
  },
  {
   "cell_type": "code",
   "execution_count": 119,
   "id": "f345c057-4902-4aac-8805-d31e5be27736",
   "metadata": {},
   "outputs": [
    {
     "name": "stdout",
     "output_type": "stream",
     "text": [
      "[10, 15, 25, 30, 40, 50]\n"
     ]
    }
   ],
   "source": [
    "num1 = [10, 15, 25]\n",
    "num2 = [30, 40, 50]\n",
    "numbers = num1 + num2\n",
    "print(numbers)"
   ]
  },
  {
   "cell_type": "markdown",
   "id": "7b4bb345-48a4-4570-9ff3-f96891fa3932",
   "metadata": {},
   "source": [
    "**2.4 Using extend() function**"
   ]
  },
  {
   "cell_type": "code",
   "execution_count": 135,
   "id": "f23d9372-532a-47d9-9191-4196a735d4ed",
   "metadata": {},
   "outputs": [
    {
     "name": "stdout",
     "output_type": "stream",
     "text": [
      "[10, 15, 25, 30, 40, 50]\n",
      "[10, 15, 25, 30, 40, 50, 55, 60]\n"
     ]
    }
   ],
   "source": [
    "L1 = [10, 15, 25]\n",
    "L2 = [30, 40, 50]\n",
    "L1.extend(L2)    #Argument to .extend() must be a list --> Here it is Lnum2\n",
    "print(L1)\n",
    "L1.extend([55, 60])\n",
    "print(L1)"
   ]
  },
  {
   "cell_type": "markdown",
   "id": "3ea51f6b-c44c-4bf2-90bd-f93cee517efe",
   "metadata": {},
   "source": [
    "**3. Removing an Element**"
   ]
  },
  {
   "cell_type": "code",
   "execution_count": 37,
   "id": "319be37e-2741-4a58-b694-b8152cf0e454",
   "metadata": {},
   "outputs": [
    {
     "name": "stdout",
     "output_type": "stream",
     "text": [
      "[10, 15, 30, 40]\n"
     ]
    }
   ],
   "source": [
    "numbers.remove()  # Removes the first occurrence of 25\n",
    "print(numbers)      # Output: [10, 15, 30, 40]"
   ]
  },
  {
   "cell_type": "markdown",
   "id": "747cd852-1543-43b8-8502-48892af6dd50",
   "metadata": {},
   "source": [
    "**4. Popping an Element**"
   ]
  },
  {
   "cell_type": "code",
   "execution_count": 136,
   "id": "012088a0-4804-4d40-ac37-24a632587056",
   "metadata": {},
   "outputs": [
    {
     "name": "stdout",
     "output_type": "stream",
     "text": [
      "40\n"
     ]
    }
   ],
   "source": [
    "a = numbers.pop()       # Removes and returns the last element\n",
    "print(a)                # Output: last element from the list"
   ]
  },
  {
   "cell_type": "code",
   "execution_count": 137,
   "id": "f1570ced-66ed-42d4-a6f6-1af7c206376a",
   "metadata": {},
   "outputs": [
    {
     "name": "stdout",
     "output_type": "stream",
     "text": [
      "[10, 25, 30]\n"
     ]
    }
   ],
   "source": [
    "print(numbers)      # Output: [10, 15, 30] --> The list is now without the popped number"
   ]
  },
  {
   "cell_type": "code",
   "execution_count": 40,
   "id": "f5a1f412-833d-4256-9977-072092834dbf",
   "metadata": {},
   "outputs": [
    {
     "name": "stdout",
     "output_type": "stream",
     "text": [
      "[10, 30]\n"
     ]
    }
   ],
   "source": [
    "numbers.pop(1)      # Removes the element at index 1\n",
    "print(numbers)      # Output: [10, 30]"
   ]
  },
  {
   "cell_type": "markdown",
   "id": "4a17a881-4c5e-41ee-aadc-c7a6797ca448",
   "metadata": {},
   "source": [
    "**5. Clearing the List**"
   ]
  },
  {
   "cell_type": "code",
   "execution_count": 30,
   "id": "92d4e33f-b5ab-4819-9bfc-9953d9444fb7",
   "metadata": {},
   "outputs": [
    {
     "name": "stdout",
     "output_type": "stream",
     "text": [
      "[]\n"
     ]
    }
   ],
   "source": [
    "numbers.clear()     # Removes all elements from the list\n",
    "print(numbers)      # Output: []"
   ]
  },
  {
   "cell_type": "markdown",
   "id": "bb2e6984-9393-4785-a602-e2c2476af290",
   "metadata": {},
   "source": [
    "**6. Sorting a List**"
   ]
  },
  {
   "cell_type": "code",
   "execution_count": 31,
   "id": "3aa1deff-3509-4b14-b82f-bc5f04fe00e2",
   "metadata": {},
   "outputs": [
    {
     "name": "stdout",
     "output_type": "stream",
     "text": [
      "[10, 20, 30, 40]\n",
      "[40, 30, 20, 10]\n"
     ]
    }
   ],
   "source": [
    "numbers = [40, 10, 30, 20]\n",
    "numbers.sort()      # Sorts in ascending order\n",
    "print(numbers)      # Output: [10, 20, 30, 40]\n",
    "\n",
    "numbers.sort(reverse=True)  # Sorts in descending order\n",
    "print(numbers)              # Output: [40, 30, 20, 10]\n"
   ]
  },
  {
   "cell_type": "code",
   "execution_count": 32,
   "id": "0a1133fd-7261-4a28-81f9-827a7030a44f",
   "metadata": {},
   "outputs": [
    {
     "data": {
      "text/plain": [
       "\u001b[1;31mSignature:\u001b[0m \u001b[0mnumbers\u001b[0m\u001b[1;33m.\u001b[0m\u001b[0msort\u001b[0m\u001b[1;33m(\u001b[0m\u001b[1;33m*\u001b[0m\u001b[1;33m,\u001b[0m \u001b[0mkey\u001b[0m\u001b[1;33m=\u001b[0m\u001b[1;32mNone\u001b[0m\u001b[1;33m,\u001b[0m \u001b[0mreverse\u001b[0m\u001b[1;33m=\u001b[0m\u001b[1;32mFalse\u001b[0m\u001b[1;33m)\u001b[0m\u001b[1;33m\u001b[0m\u001b[1;33m\u001b[0m\u001b[0m\n",
       "\u001b[1;31mDocstring:\u001b[0m\n",
       "Sort the list in ascending order and return None.\n",
       "\n",
       "The sort is in-place (i.e. the list itself is modified) and stable (i.e. the\n",
       "order of two equal elements is maintained).\n",
       "\n",
       "If a key function is given, apply it once to each list item and sort them,\n",
       "ascending or descending, according to their function values.\n",
       "\n",
       "The reverse flag can be set to sort in descending order.\n",
       "\u001b[1;31mType:\u001b[0m      builtin_function_or_method"
      ]
     },
     "metadata": {},
     "output_type": "display_data"
    }
   ],
   "source": [
    "numbers.sort?"
   ]
  },
  {
   "cell_type": "markdown",
   "id": "2d04066d-bd47-45b9-9ccf-d1bda1812917",
   "metadata": {},
   "source": [
    "- The ***key*** parameter in the sort() method allows you to specify a  \n",
    "    function that acts as a key for sorting, \n",
    "    meaning it determines the criteria by which the list will be sorted.\n",
    "  - You can use built-in functions, lambda functions, or custom functions with the key parameter."
   ]
  },
  {
   "cell_type": "code",
   "execution_count": 44,
   "id": "cc6f10d1-7786-499a-ac19-a0ed21bd77b5",
   "metadata": {},
   "outputs": [
    {
     "name": "stdout",
     "output_type": "stream",
     "text": [
      "['date', 'apple', 'banana', 'cherry']\n"
     ]
    }
   ],
   "source": [
    "# Example\n",
    "words = ['apple', 'banana', 'cherry', 'date']\n",
    "words.sort(key=len)\n",
    "print(words)  # Output: ['date', 'apple', 'banana', 'cherry']"
   ]
  },
  {
   "cell_type": "markdown",
   "id": "48f313fb-9c15-4680-9777-7928c6d7e8fc",
   "metadata": {},
   "source": [
    "**7. Sorting using sorted function**\n",
    "- ***sort()*** is a method of list while ***sorted()*** is a function that takes a list as an argument\n",
    "- **NOTE**: sorted() doesn't change the original list"
   ]
  },
  {
   "cell_type": "code",
   "execution_count": 249,
   "id": "9d2dc27e-0f95-4a48-8a55-87fcb8099bdb",
   "metadata": {},
   "outputs": [
    {
     "name": "stdout",
     "output_type": "stream",
     "text": [
      "[0, 3, 6, 8, 9]\n",
      "[3, 6, 8, 9, 0]\n"
     ]
    }
   ],
   "source": [
    "# There's a function called sorted() which takes a list objecr and sorts it\n",
    "# sort() method is method of list class, thus works only on lists\n",
    "# whereas sorted function can take any iterable including dictionaries\n",
    "L = [3, 6, 8, 9, 0]\n",
    "L_sorted = sorted(L)\n",
    "print(L_sorted)\n",
    "print(L)"
   ]
  },
  {
   "cell_type": "code",
   "execution_count": 213,
   "id": "3e250b98-cb54-4fb9-8698-f3e05ce33721",
   "metadata": {},
   "outputs": [
    {
     "name": "stdout",
     "output_type": "stream",
     "text": [
      "[9, 8, 6, 3, 0]\n"
     ]
    }
   ],
   "source": [
    "L_sorted_rev = sorted(L, reverse=True)\n",
    "print(L_sorted_rev)"
   ]
  },
  {
   "cell_type": "code",
   "execution_count": 214,
   "id": "6d76494b-0b14-4f2f-b38a-79eca89e4baa",
   "metadata": {},
   "outputs": [
    {
     "data": {
      "text/plain": [
       "list"
      ]
     },
     "execution_count": 214,
     "metadata": {},
     "output_type": "execute_result"
    }
   ],
   "source": [
    "type(L_sorted)"
   ]
  },
  {
   "cell_type": "markdown",
   "id": "89b59249-68dc-4384-b701-84cd0ac5654a",
   "metadata": {},
   "source": [
    "-------------------------------\n",
    "**8. Reversing a List**"
   ]
  },
  {
   "cell_type": "code",
   "execution_count": 33,
   "id": "dd5e1f19-5f16-4730-a66d-0991642cf746",
   "metadata": {},
   "outputs": [
    {
     "name": "stdout",
     "output_type": "stream",
     "text": [
      "[10, 20, 30, 40]\n"
     ]
    }
   ],
   "source": [
    "numbers.reverse()   # Reverses the order of elements\n",
    "print(numbers)      # Output: [10, 30, 20, 40]"
   ]
  },
  {
   "cell_type": "markdown",
   "id": "a94ade16-3d2e-4f6f-84e4-5a794c22a0bb",
   "metadata": {},
   "source": [
    "------------\n",
    "## List Methods\n",
    "#### Here are some important methods associated with lists:"
   ]
  },
  {
   "cell_type": "markdown",
   "id": "e5481398-ece3-4074-b047-75ea40aeec95",
   "metadata": {},
   "source": [
    "| Method                    | Description                                                     | Example                 |\n",
    "|---------------------------|-----------------------------------------------------------------|-------------------------|\n",
    "| **append(x)**             | Adds an element x to the end of the list.\t                      | numbers.append(50)      |\n",
    "| **extend(iterable)**      | Adds all elements of an iterable (e.g., list, tuple) to the end.|\tnumbers.extend([60, 70])|\n",
    "| **insert(i, x)**          | Inserts an element x at index i.                                |\tnumbers.insert(2, 25)   |\n",
    "| **remove(x)**             | Removes the first occurrence of x.\t                          |numbers.remove(30)       |\n",
    "| **pop([i])**              | Removes and returns the element at index i (default is last).   |\tnumbers.pop(2)          |\n",
    "| **clear()**               | Removes all elements from the list.                             |\tnumbers.clear()         |\n",
    "| **index(x)**\t            | Returns the index of the first occurrence of x.\t              |numbers.index(20)        |\n",
    "| **count(x)**\t            | Returns the number of occurrences of x in the list.             |\tnumbers.count(20)       |\n",
    "| **sort([key, reverse])**\t| Sorts the list in place (can be customized with key or reverse).|\tnumbers.sort()          |\n",
    "| **reverse()**\t            | Reverses the elements of the list.                              |\tnumbers.reverse()       |\n",
    "| **copy()**\t            | Returns a shallow copy of the list.\t                          |new_list = numbers.copy()|"
   ]
  },
  {
   "cell_type": "code",
   "execution_count": 41,
   "id": "9a60c7ad-ba2d-4dd2-965f-942df0384c09",
   "metadata": {},
   "outputs": [],
   "source": [
    "nums = [20, 30, 40, 50]"
   ]
  },
  {
   "cell_type": "code",
   "execution_count": 43,
   "id": "68efb224-c498-4f4f-9b38-50431b20fde8",
   "metadata": {},
   "outputs": [
    {
     "name": "stdout",
     "output_type": "stream",
     "text": [
      "[20, 30, 40, 50]\n"
     ]
    }
   ],
   "source": [
    "numbs = nums.copy()\n",
    "print(numbs)"
   ]
  },
  {
   "cell_type": "markdown",
   "id": "0e95c389-0b43-4af5-af53-d993ae82493b",
   "metadata": {},
   "source": [
    "### Aliasing (alternate name for same object)  \n",
    "- just like copy"
   ]
  },
  {
   "cell_type": "markdown",
   "id": "770253e7-7609-455d-9b12-3f7f2ab00758",
   "metadata": {},
   "source": [
    "In python, variables refer to objects, if you assign a variable to another, both variables will refer to the same object and an alias is created  \n",
    "- if object is immutable (like a sting), then creating a alias will not make a difference\n",
    "- However, if object is mutable (like a list), then aliasing (shallow copying) can lead to unexpected bugs."
   ]
  },
  {
   "cell_type": "code",
   "execution_count": 145,
   "id": "13d077d3-9542-44e3-8c05-0504ebcbef5d",
   "metadata": {},
   "outputs": [
    {
     "name": "stdout",
     "output_type": "stream",
     "text": [
      "1833874879280\n",
      "1833874879280\n"
     ]
    }
   ],
   "source": [
    "s1 = 'happy'\n",
    "s2 = s1\n",
    "print(id(s1))   \n",
    "print(id(s2))"
   ]
  },
  {
   "cell_type": "code",
   "execution_count": 146,
   "id": "b289504e-4a07-4799-bd61-81699363c06c",
   "metadata": {},
   "outputs": [
    {
     "name": "stdout",
     "output_type": "stream",
     "text": [
      "sad\n",
      "happy\n",
      "1833874879280\n",
      "1833880134704\n"
     ]
    }
   ],
   "source": [
    "s2 = 'sad' # s2 is assgined with new value\n",
    "print(s2)\n",
    "print(s1)   # s1 is not changed\n",
    "print(id(s1))\n",
    "print(id(s2)) # now s2 has different location in memory"
   ]
  },
  {
   "cell_type": "markdown",
   "id": "f8092124-c57c-48b8-97c6-ccb38c431588",
   "metadata": {},
   "source": [
    "Now, try same on mutable (list)"
   ]
  },
  {
   "cell_type": "code",
   "execution_count": 150,
   "id": "15868e46-45da-4504-b9cb-bc24d932dc72",
   "metadata": {},
   "outputs": [
    {
     "name": "stdout",
     "output_type": "stream",
     "text": [
      "l1: 1833886969088 l2: 1833886969088\n"
     ]
    }
   ],
   "source": [
    "l1 = [1,2,3]\n",
    "l2 = l1\n",
    "print('l1:', id(l1), 'l2:', id(l2))"
   ]
  },
  {
   "cell_type": "code",
   "execution_count": 151,
   "id": "fdf6a458-d378-4a4c-987b-db8293ed2b7c",
   "metadata": {},
   "outputs": [
    {
     "name": "stdout",
     "output_type": "stream",
     "text": [
      "[1, 2, 3, 4]\n",
      "[1, 2, 3, 4]\n",
      "1833886969088\n",
      "1833886969088\n"
     ]
    }
   ],
   "source": [
    "l2.append(4)  # change l2\n",
    "print(l2)\n",
    "print(l1)    # l1 also changed\n",
    "print(id(l1))\n",
    "print(id(l2))"
   ]
  },
  {
   "cell_type": "markdown",
   "id": "9e3337d4-2e56-4990-b9ce-777141292489",
   "metadata": {},
   "source": [
    "##### If you pass a list to a function call, and list is modified in the function definition,  \n",
    "##### then the change will also reflect in the original list outside function  \n",
    "- so be careful when calling a mutable object in a function"
   ]
  },
  {
   "cell_type": "code",
   "execution_count": 152,
   "id": "b871ee1f-7dad-4607-9bd9-dda76ba208d8",
   "metadata": {},
   "outputs": [
    {
     "name": "stdout",
     "output_type": "stream",
     "text": [
      "List before ['Old', 'Wine']\n",
      "List after ['New', 'Bottle']\n"
     ]
    }
   ],
   "source": [
    "def f1(L):               # function definition : don't worry just an example. We will study functions\n",
    "    L[0] = 'New'\n",
    "    L[1] = 'Bottle'\n",
    "\n",
    "L1 = ['Old', 'Wine']\n",
    "print('List before', L1)\n",
    "f1(L1)             # function f1 is called here with list L1 as an input argument\n",
    "print('List after', L1)"
   ]
  },
  {
   "attachments": {},
   "cell_type": "markdown",
   "id": "ad8b77d8-13c5-4b36-9a9c-f771cbccc005",
   "metadata": {},
   "source": [
    "### Cloning\n",
    "- Copying the content of one list to another list\n",
    "- In this case, two objects will be created\n",
    "- The lists will refer to two different objects.\n",
    "- Modification in one list will not affect the other.\n"
   ]
  },
  {
   "cell_type": "code",
   "execution_count": 156,
   "id": "d6a4a041-27e1-498b-96c3-d5673c2201d2",
   "metadata": {},
   "outputs": [
    {
     "name": "stdout",
     "output_type": "stream",
     "text": [
      "[1, 2, 3, 4, 5]\n",
      "[1, 2, 3, 4, 5]\n",
      "1833886291456\n",
      "1833886071680\n",
      "[1, 6, 3, 4, 5] \n",
      " [1, 2, 3, 4, 5]\n"
     ]
    }
   ],
   "source": [
    "L1=[1,2,3,4,5]\n",
    "L2=[]\n",
    "L2=L2+L1 #or L2[:]=L1 ( Both are valid statements)\n",
    "print(L1)\n",
    "print(L2)\n",
    "print(id(L1))\n",
    "print(id(L2))\n",
    "# now change one list\n",
    "L1[1]=6\n",
    "print(L1,'\\n',L2)"
   ]
  },
  {
   "cell_type": "code",
   "execution_count": 159,
   "id": "4b4aca9d-68ff-4bb9-b858-788bbd26a958",
   "metadata": {},
   "outputs": [
    {
     "name": "stdout",
     "output_type": "stream",
     "text": [
      "[1, 2, 3, 4, 5] \n",
      " [1, 2, 3, 4, 5]\n",
      "1833895667328 \n",
      " 1833895662016\n"
     ]
    }
   ],
   "source": [
    "L3=[1,2,3,4,5]\n",
    "L4=[]\n",
    "L4[:] = L3\n",
    "print(L3,'\\n',L4)\n",
    "print(id(L3), '\\n', id(L4))"
   ]
  },
  {
   "cell_type": "markdown",
   "id": "aa8f13c1-762a-4924-a08d-f59f6c57eb51",
   "metadata": {},
   "source": [
    "### Copying Lists\n",
    "\n",
    "#### **Shallow Copy:**  **(similar to Aliasing)**\n",
    "- Copies the reference of the nested objects. The changes in nested objects are reflected in both the original and the shallow copy.\n",
    "#### **Deep Copy:**    **(similar to cloning)**\n",
    "- Creates a fully independent copy of both the object and all of its nested objects. Changes in any part of the deep-copied object do not affect the original."
   ]
  },
  {
   "cell_type": "code",
   "execution_count": 78,
   "id": "ddbb5589-28a9-477c-9449-855859e06669",
   "metadata": {},
   "outputs": [
    {
     "name": "stdout",
     "output_type": "stream",
     "text": [
      "Original: [[100, 2], [3, 4]]\n",
      "Shallow Copy: [[100, 2], [3, 4]]\n",
      "Deep Copy: [[200, 2], [3, 4]]\n"
     ]
    }
   ],
   "source": [
    "import copy\n",
    "\n",
    "# Original nested list\n",
    "original = [[1, 2], [3, 4]]\n",
    "\n",
    "# Shallow copy\n",
    "shallow_copy = copy.copy(original)\n",
    "\n",
    "# Deep copy\n",
    "deep_copy = copy.deepcopy(original)\n",
    "\n",
    "# Modify the first element of the first list in shallow copy\n",
    "shallow_copy[0][0] = 100\n",
    "\n",
    "# Modify the first element of the first list in deep copy\n",
    "deep_copy[0][0] = 200\n",
    "\n",
    "# Output\n",
    "print(\"Original:\", original)           # Output: [[100, 2], [3, 4]]\n",
    "print(\"Shallow Copy:\", shallow_copy)   # Output: [[100, 2], [3, 4]]\n",
    "print(\"Deep Copy:\", deep_copy)         # Output: [[200, 2], [3, 4]]\n"
   ]
  },
  {
   "cell_type": "markdown",
   "id": "534a528c-4ab0-4868-b7b3-f3eb6094bcb6",
   "metadata": {},
   "source": [
    "------------"
   ]
  },
  {
   "cell_type": "markdown",
   "id": "ed7e1264-833d-4dd5-8122-8ad86374ff56",
   "metadata": {},
   "source": [
    "### Functions for list (passing list object)"
   ]
  },
  {
   "attachments": {},
   "cell_type": "markdown",
   "id": "3995ebce-943b-4f45-94c6-88a600f0556b",
   "metadata": {},
   "source": [
    "* **len(list)** – to find the number of elements present in a list\n",
    "* **max(list)** – to find the maximum value of a list\n",
    "* **min(list)** – to find the minimum\n",
    "* **sum()** – to find the sum of all elements\n",
    "* **any()** – returns True if any of the list element is True\n",
    "* **all()** – returns True if all of the list elements are True\n",
    "* **del()** – to delete a complete list object or any item of the list from the memory\n",
    "* **sorted()** – to create a new list object which is a sorted version of the original list"
   ]
  },
  {
   "cell_type": "code",
   "execution_count": 173,
   "id": "aa9ae30e-08ab-4df5-8fe7-134957f2ffd6",
   "metadata": {},
   "outputs": [
    {
     "name": "stdout",
     "output_type": "stream",
     "text": [
      "9\n",
      "9\n",
      "1\n",
      "45\n",
      "True\n",
      "True\n",
      "[1, 2, 3, 4, 5, 6, 7, 8, 9]\n",
      "1833894135936 \n",
      " 1833894146240\n",
      "[1, 4, 3, 2, 7, 9, 5, 6, 8]\n"
     ]
    },
    {
     "ename": "NameError",
     "evalue": "name 'L' is not defined",
     "output_type": "error",
     "traceback": [
      "\u001b[1;31m---------------------------------------------------------------------------\u001b[0m",
      "\u001b[1;31mNameError\u001b[0m                                 Traceback (most recent call last)",
      "Cell \u001b[1;32mIn[173], line 13\u001b[0m\n\u001b[0;32m     11\u001b[0m \u001b[38;5;28mprint\u001b[39m(L)\n\u001b[0;32m     12\u001b[0m \u001b[38;5;28;01mdel\u001b[39;00m(L)\n\u001b[1;32m---> 13\u001b[0m \u001b[38;5;28mprint\u001b[39m(\u001b[43mL\u001b[49m)   \u001b[38;5;66;03m# throw error bcz L is already deleted\u001b[39;00m\n",
      "\u001b[1;31mNameError\u001b[0m: name 'L' is not defined"
     ]
    }
   ],
   "source": [
    "L = [1, 4, 3, 2, 7, 9, 5, 6, 8]\n",
    "print(len(L))\n",
    "print(max(L))\n",
    "print(min(L))\n",
    "print(sum(L))\n",
    "print(any(L))\n",
    "print(all(L))\n",
    "L2= sorted(L)\n",
    "print(L2)\n",
    "print(id(L),'\\n',id(L2))\n",
    "print(L)\n",
    "del(L)\n",
    "print(L)   # throw error bcz L is already deleted"
   ]
  },
  {
   "attachments": {},
   "cell_type": "markdown",
   "id": "4f232775-4229-47c4-93c9-9b853eec54b7",
   "metadata": {},
   "source": [
    "### Unpacking a string or list"
   ]
  },
  {
   "cell_type": "code",
   "execution_count": 175,
   "id": "9b40efec-17c5-451f-bc56-b5ba26e31617",
   "metadata": {},
   "outputs": [
    {
     "name": "stdout",
     "output_type": "stream",
     "text": [
      "['U', 'N', 'P', 'A', 'C', 'K']\n",
      "<class 'str'> \t <class 'list'>\n",
      "[7, 8, 9, [1, 2, 5], 10]\n",
      "[7, 8, 9, 1, 2, 5, 10]\n"
     ]
    }
   ],
   "source": [
    "S=\"UNPACK\"\n",
    "S1=[*S]\n",
    "print(S1)\n",
    "print(type(S), '\\t', type(S1))\n",
    "L1=[1,2,5]\n",
    "L2=[7,8,9,L1,10]\n",
    "print(L2)\n",
    "L3=[7,8,9,*L1,10]  # Note the difference in lists L2 and L3\n",
    "print(L3)"
   ]
  },
  {
   "cell_type": "code",
   "execution_count": null,
   "id": "5f6caf5a-b824-4977-ae9e-59cfe86a7b06",
   "metadata": {},
   "outputs": [],
   "source": []
  },
  {
   "cell_type": "code",
   "execution_count": null,
   "id": "66a2d539-ba72-41dc-a2e0-06b87fbb0854",
   "metadata": {},
   "outputs": [],
   "source": []
  },
  {
   "attachments": {},
   "cell_type": "markdown",
   "id": "e4554dc8-de9e-4654-86bc-97370de208a0",
   "metadata": {},
   "source": [
    "-------------------\n",
    "## List Comprehension\n",
    "#### Python allows list creation in a concise way using list comprehensions.\n",
    "\n",
    "* Feature provided by python to generate a list with a single line of code according to the requirements\n",
    "* or to create sequence from another sequence\n",
    "* Need:\n",
    "  - An input sequence\n",
    "  - A variable representing a member of the input sequence\n",
    "  - An output expression\n",
    "  - An optional condition\n",
    "* Syntax:\n",
    "      **[expression (or variable)<space> ***for*** loop <space>zero or more for loop or if clause]**\n",
    "* Comprehension helps to reduce the number of lines in the program\n",
    "* There are various code segments which can be replaced by list comprehension\n",
    "* It helps to store the output in the form of a list object"
   ]
  },
  {
   "cell_type": "raw",
   "id": "c9b7fe1c-d09d-47d3-96ea-c4bbff28ff5c",
   "metadata": {},
   "source": [
    "  output expression                          optional condition\n",
    "      |                                              |\n",
    "  [ x**2               for x in L1              if x//2 !=0]\n",
    "                            |\n",
    "                      Input sequence"
   ]
  },
  {
   "cell_type": "code",
   "execution_count": 187,
   "id": "c3c2f4ff-d8fd-4554-99f3-bcb39545cae1",
   "metadata": {},
   "outputs": [
    {
     "name": "stdout",
     "output_type": "stream",
     "text": [
      "[1, 4, 9, 16, 25, 36, 49, 64, 81, 100]\n",
      "[4, 16, 36, 64, 100]\n"
     ]
    }
   ],
   "source": [
    "L1 = [1,2,3,4,5,6,7,8,9,10]\n",
    "L2 = [x**2 for x in L1]\n",
    "L3 = [x**2 for x in L1 if x%2== 0]\n",
    "print(L2)\n",
    "print(L3)"
   ]
  },
  {
   "cell_type": "code",
   "execution_count": 46,
   "id": "a4c1c41b-5d32-4703-bfa2-4abb0147b6ca",
   "metadata": {},
   "outputs": [
    {
     "name": "stdout",
     "output_type": "stream",
     "text": [
      "[0, 1, 4, 9, 16]\n",
      "[0, 2, 4, 6, 8]\n"
     ]
    }
   ],
   "source": [
    "squares = [x**2 for x in range(5)]\n",
    "print(squares)  # Output: [0, 1, 4, 9, 16]\n",
    "\n",
    "# With condition\n",
    "evens = [x for x in range(10) if x % 2 == 0]\n",
    "print(evens)  # Output: [0, 2, 4, 6, 8]\n"
   ]
  },
  {
   "cell_type": "code",
   "execution_count": 194,
   "id": "e6d97bf1-0ab7-48af-a82f-ebc1f300cff4",
   "metadata": {},
   "outputs": [
    {
     "name": "stdout",
     "output_type": "stream",
     "text": [
      "['Anil', 'Aditya', 'Mogambo']\n",
      "['Radha']\n"
     ]
    }
   ],
   "source": [
    "names = ['Anil', 'Aditya', 'Radha', 'Ujjawal', 'Mogambo']\n",
    "first_letter = ['A', \"M\"]\n",
    "sel_names = [x for x in names if x[0] in first_letter]\n",
    "sel_names2 = [name for name in names if name.startswith('R')]\n",
    "print(sel_names)\n",
    "print(sel_names2)"
   ]
  },
  {
   "cell_type": "code",
   "execution_count": 196,
   "id": "8b53f294-86a8-45a3-9913-e9face3a1619",
   "metadata": {},
   "outputs": [
    {
     "name": "stdout",
     "output_type": "stream",
     "text": [
      "Help on built-in function startswith:\n",
      "\n",
      "startswith(...) method of builtins.str instance\n",
      "    S.startswith(prefix[, start[, end]]) -> bool\n",
      "\n",
      "    Return True if S starts with the specified prefix, False otherwise.\n",
      "    With optional start, test S beginning at that position.\n",
      "    With optional end, stop comparing S at that position.\n",
      "    prefix can also be a tuple of strings to try.\n",
      "\n"
     ]
    }
   ],
   "source": [
    "help(i.startswith)"
   ]
  },
  {
   "cell_type": "markdown",
   "id": "e3c58bca-a4cf-4bee-985b-e04657f3ebec",
   "metadata": {},
   "source": [
    "### Exercise:\n",
    "### Generate a list of all even numbers within the range of 20 to 50 using list comprehension\n"
   ]
  },
  {
   "cell_type": "code",
   "execution_count": null,
   "id": "2237ed83-77c4-4dbc-980c-cf2a3fbd7e39",
   "metadata": {},
   "outputs": [],
   "source": [
    "# write solution here"
   ]
  },
  {
   "cell_type": "markdown",
   "id": "b6841d6d-5e28-4264-ad0b-7b69466ccfc0",
   "metadata": {},
   "source": [
    "### Comprehension with If and else"
   ]
  },
  {
   "cell_type": "code",
   "execution_count": 201,
   "id": "ef92f85a-9b8e-4678-bdeb-c16e41af3c59",
   "metadata": {},
   "outputs": [
    {
     "name": "stdout",
     "output_type": "stream",
     "text": [
      "[-1000, -729, -512, -343, -216, -125, -64, -27, -8, -1, 0, 1, 8, 27, 64, 125, 36, 49, 64, 81]\n"
     ]
    }
   ],
   "source": [
    "'''\n",
    "In this case, if clause and else will be written before for loop\n",
    "To generate n*n if n>5 and n*n*n if n<=5\n",
    "'''\n",
    "Lt=[n*n if n>5 else n*n*n for n in range(-10,10)]\n",
    "print(Lt)"
   ]
  },
  {
   "cell_type": "code",
   "execution_count": 199,
   "id": "0a658955-3372-455a-a388-423171924021",
   "metadata": {},
   "outputs": [
    {
     "name": "stdout",
     "output_type": "stream",
     "text": [
      "['*', 'd', '*', 'c', '*', 't', '*', '*', 'n']\n"
     ]
    }
   ],
   "source": [
    "StringNew=['*' if letter in 'aeiouAEIOU' else letter for letter in 'Education']\n",
    "print(StringNew)"
   ]
  },
  {
   "cell_type": "markdown",
   "id": "6ec31f77-1e40-41a1-855d-b9d75a01aacc",
   "metadata": {},
   "source": [
    "### Comprehension with nested for"
   ]
  },
  {
   "cell_type": "code",
   "execution_count": 202,
   "id": "e7008d9a-a829-4a44-bbdc-186b0a29fb20",
   "metadata": {},
   "outputs": [
    {
     "name": "stdout",
     "output_type": "stream",
     "text": [
      "[1, 2, 3, 4, 5, 6, 7, 8, 9]\n"
     ]
    }
   ],
   "source": [
    "'''\n",
    "- One for loop followed by another for loop within the comprehension\n",
    "- Flattening a list of lists\n",
    "'''\n",
    "List =[[1,2,3],[4,5,6],[7,8,9]]\n",
    "L=[n for row in List for n in row]\n",
    "print(L)"
   ]
  },
  {
   "attachments": {},
   "cell_type": "markdown",
   "id": "36b1a6d5-b94c-4cbb-8ae5-c71113e7585c",
   "metadata": {},
   "source": [
    "### Nested comprehension"
   ]
  },
  {
   "cell_type": "code",
   "execution_count": 203,
   "id": "5394d866-6d72-4d87-b75f-b55498d4ca4c",
   "metadata": {},
   "outputs": [
    {
     "name": "stdout",
     "output_type": "stream",
     "text": [
      "[1, 2, 3, 4, 2, 4, 6, 8, 3, 6, 9, 12, 4, 8, 12, 16]\n",
      "[[1, 2, 3, 4], [2, 4, 6, 8], [3, 6, 9, 12], [4, 8, 12, 16]]\n"
     ]
    }
   ],
   "source": [
    "List_P1=[i*j for i in range(1,5) for j in range(1,5)]\n",
    "print(List_P1)\n",
    "List_P2=[[i*j for i in range(1,5)] for j in range(1,5)]\n",
    "print(List_P2)"
   ]
  },
  {
   "cell_type": "markdown",
   "id": "3f4be9fb-e947-4689-8fbd-9c700241777e",
   "metadata": {},
   "source": [
    "## Nested Lists\n",
    "#### Lists can contain other lists, making them multi-dimensional."
   ]
  },
  {
   "cell_type": "code",
   "execution_count": 178,
   "id": "8edca775-f23a-4278-b5b2-c021f276cc7c",
   "metadata": {},
   "outputs": [
    {
     "name": "stdout",
     "output_type": "stream",
     "text": [
      "[1, 2, 3]\n",
      "2\n"
     ]
    }
   ],
   "source": [
    "matrix = [[1, 2, 3], [4, 5, 6], [7, 8, 9]]\n",
    "print(matrix[0])       # Output: [1, 2, 3]\n",
    "print(matrix[0][1])    # Output: 2 (Accessing element from nested list)"
   ]
  },
  {
   "cell_type": "raw",
   "id": "b93c6774-7baa-4e38-a5cf-16cd21efd875",
   "metadata": {},
   "source": [
    "Could you print it this way?\n",
    "[1, 2, 3]\n",
    "[4, 5, 6]\n",
    "[7, 8, 9]   "
   ]
  },
  {
   "cell_type": "code",
   "execution_count": 180,
   "id": "b1f65ff0-dea9-458e-be53-74ed26cce84a",
   "metadata": {},
   "outputs": [],
   "source": [
    "# Hint: use for loop\n"
   ]
  },
  {
   "cell_type": "markdown",
   "id": "94e5b21d-a1a7-43f1-ba52-847583a205bf",
   "metadata": {},
   "source": [
    "### Entering multiple inputs"
   ]
  },
  {
   "cell_type": "code",
   "execution_count": 207,
   "id": "e64dc157-bdf3-4702-82be-9c46fdfc80d8",
   "metadata": {},
   "outputs": [
    {
     "name": "stdin",
     "output_type": "stream",
     "text": [
      " 2 45 76 90\n"
     ]
    },
    {
     "name": "stdout",
     "output_type": "stream",
     "text": [
      "[2, 45, 76, 90]\n"
     ]
    },
    {
     "name": "stdin",
     "output_type": "stream",
     "text": [
      " ankush sandeep umang\n"
     ]
    },
    {
     "name": "stdout",
     "output_type": "stream",
     "text": [
      "['ankush', 'sandeep', 'umang']\n"
     ]
    }
   ],
   "source": [
    "# To instantiate multiple integer objects at run time\n",
    "Nlist= [int(n) for n in input().split()]\n",
    "print(Nlist)\n",
    "\n",
    "#It is also possible to create a list of strings\n",
    "Namelist=[name for name in input().split()]\n",
    "print(Namelist)\n",
    "#In both the cases, the length of the list is determined at run time\n"
   ]
  },
  {
   "cell_type": "markdown",
   "id": "5806190b-1af0-4eca-917b-4b6ba385fd42",
   "metadata": {},
   "source": [
    "## This should be enough for the list\n",
    "## See ya'll in next topic: tuple"
   ]
  }
 ],
 "metadata": {
  "kernelspec": {
   "display_name": "Python 3 (ipykernel)",
   "language": "python",
   "name": "python3"
  },
  "language_info": {
   "codemirror_mode": {
    "name": "ipython",
    "version": 3
   },
   "file_extension": ".py",
   "mimetype": "text/x-python",
   "name": "python",
   "nbconvert_exporter": "python",
   "pygments_lexer": "ipython3",
   "version": "3.12.5"
  }
 },
 "nbformat": 4,
 "nbformat_minor": 5
}
