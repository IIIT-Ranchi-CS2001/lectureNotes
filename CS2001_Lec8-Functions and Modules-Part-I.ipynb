{
 "cells": [
  {
   "cell_type": "markdown",
   "id": "83088aee-7db3-4b9e-88ca-e878339c69e9",
   "metadata": {},
   "source": [
    "# Functions"
   ]
  },
  {
   "attachments": {},
   "cell_type": "markdown",
   "id": "78ae45b2-5e77-4ae1-944a-9a1f691da195",
   "metadata": {},
   "source": [
    "#### A function is a block of reusable code that performs a specific task. \n",
    "##### It allows you to break your program into:\n",
    "* smaller,\n",
    "* manageable parts,\n",
    "* improving code reusability and organization.\n"
   ]
  },
  {
   "cell_type": "markdown",
   "id": "b44fd476-93b4-4c9a-bb91-53909aab052e",
   "metadata": {},
   "source": [
    "* Functions can do:\n",
    "  - take parameters\n",
    "  - return a result/value/object\n",
    "\n",
    "================\n",
    "\n",
    "* Why do we need functions??\n",
    "  - decomposition of code into smaller units\n",
    "  - avoid repeating of same operations over and over\n",
    "  - easier to manage big projects...\n"
   ]
  },
  {
   "cell_type": "markdown",
   "id": "72385571-75e8-48c0-a853-48b4163f9936",
   "metadata": {},
   "source": [
    "#### Could be classified in three types:\n",
    "- **Built-in Functions**\n",
    "- **Functions in modules**\n",
    "- **user-defined functions** (functions written by you as a programmer)\n"
   ]
  },
  {
   "cell_type": "markdown",
   "id": "e3a0b6e3-08d6-4752-bf0c-a4344d3593e6",
   "metadata": {},
   "source": [
    "### 1. Built-in Functions"
   ]
  },
  {
   "cell_type": "markdown",
   "id": "bc7b91e9-7e24-437e-a872-0ef9cac51678",
   "metadata": {},
   "source": [
    "* Built into Python, already available in Python basic library and are available for use out of the box\n",
    "* As of Python 3.11, there are **69 built-in functions** in Python.\n",
    "* These functions are always available for use without needing to import any modules.\n",
    "* They cover a wide range of tasks, including data conversion, mathematical operations, input/output, and more.\n",
    "\n",
    "**Common Examples of Python Built-in Functions:**\n",
    "* **Type Conversion:** int( ), float( ), str( ), bool( ), list( ), tuple( )\n",
    "* **Mathematical:** abs( ), max( ), min( ), sum( ), round( ), pow( )\n",
    "* **Iterators and Sequences:** len( ), range( ), enumerate( ), zip( ), sorted( )\n",
    "* **Input/Output:** print( ), input( )\n",
    "* **Object and Type Handling:** type( ), isinstance( ), id( ), dir( )\n",
    "* **Functional Programming:** map( ), filter( ), reduce( ), lambda, any( ), all( )\n",
    "* **Others:** help( ), eval( ), exec( ), open( ), globals( )\n",
    "\n",
    "For the complete list, you can refer to Python’s official documentation: Python Built-in Functions. https://docs.python.org/3/library/functions.html"
   ]
  },
  {
   "cell_type": "markdown",
   "id": "db2fa7c4-4c48-41c8-90de-09d34b09f01b",
   "metadata": {},
   "source": [
    "### 2. Functions in modules"
   ]
  },
  {
   "cell_type": "markdown",
   "id": "7cc1ce7f-d75d-4662-9c39-f873b0a6341b",
   "metadata": {},
   "source": [
    "A **module** is simply a file containing Python code (usually with a **.py** extension) that can define functions/methods, variables, and classes.  \n",
    "- These functions in modules help organize code, making it easier to maintain, reuse, and avoid conflicts between function names.\n",
    "- The methods of the module are accessed by using the **dot**, i.e., '**.**' operator."
   ]
  },
  {
   "cell_type": "markdown",
   "id": "ff671f22-1484-4b54-86a2-982480f70fb7",
   "metadata": {},
   "source": [
    "#### You can just call the built-in function, e.g. print('something')\n",
    "#### But if the function is defined in some module, you have to import the module and then use the dot notation, e.g., math.sqrt( )\n",
    "#### A module could be user-defined, e.g, myPackages.print_database()"
   ]
  },
  {
   "cell_type": "markdown",
   "id": "6698c135-eaa3-4d12-a143-8f4c04ca3574",
   "metadata": {},
   "source": [
    "##### During a function call, your function:\n",
    "- May or may not take arguments\n",
    "- May or May not do something\n",
    "- May or may not return objects.\n",
    "  - In Python, every function returns a value\n",
    "  - if you don't explicitly specify, it will return **None**\n",
    "\n",
    "Note: None is Python's equivalent of NULL in C/C++. It is a data type of its own"
   ]
  },
  {
   "cell_type": "code",
   "execution_count": 2,
   "id": "e1cb43e2-6185-402f-885f-1ccb71634b49",
   "metadata": {},
   "outputs": [
    {
     "name": "stdout",
     "output_type": "stream",
     "text": [
      "D:\\Teaching-related\\CS2001-2101 (Python)\\Demos\n"
     ]
    }
   ],
   "source": [
    "import os\n",
    "print(os.getcwd())"
   ]
  },
  {
   "cell_type": "markdown",
   "id": "98f041d9-ee28-4995-98be-2cc5e51a5f4e",
   "metadata": {},
   "source": [
    "This is a function from os module, doesn't take any parameter/argument, it doesn't perform any operation. But it returns a string containing the path of current working directory."
   ]
  },
  {
   "cell_type": "code",
   "execution_count": 149,
   "id": "f71c7e12-75e1-4b17-b6fc-ea4c9d0006dc",
   "metadata": {},
   "outputs": [
    {
     "name": "stdout",
     "output_type": "stream",
     "text": [
      "9\n",
      "a\n",
      "A\n",
      "False\n",
      "False\n",
      "True\n",
      "97\n"
     ]
    }
   ],
   "source": [
    "# some built-in function as an example\n",
    "print(abs(-9))   # abs(x) : returns absolute value of a number x\n",
    "print(chr(97))   # chr(x) : returns the corresponding character to the given integer (x) as parameter\n",
    "print(chr(65))\n",
    "print(bool())\n",
    "print(bool([]))\n",
    "print(bool(-1))\n",
    "print(ord('a'))"
   ]
  },
  {
   "cell_type": "code",
   "execution_count": 11,
   "id": "36e16aac-0d54-4c30-a4bc-9ae6f3a45a0d",
   "metadata": {},
   "outputs": [
    {
     "data": {
      "text/plain": [
       "2"
      ]
     },
     "execution_count": 11,
     "metadata": {},
     "output_type": "execute_result"
    }
   ],
   "source": [
    "True + True  # when Python 'sees' a plus between two True, it cast them to int"
   ]
  },
  {
   "cell_type": "code",
   "execution_count": 13,
   "id": "8a38e1be-395f-464b-9b92-3c2fa6063f2f",
   "metadata": {},
   "outputs": [
    {
     "data": {
      "text/plain": [
       "1"
      ]
     },
     "execution_count": 13,
     "metadata": {},
     "output_type": "execute_result"
    }
   ],
   "source": [
    "True + False # false is cast into int 0"
   ]
  },
  {
   "cell_type": "code",
   "execution_count": 14,
   "id": "21534364-bf23-4dab-9995-1dfa00ee6c48",
   "metadata": {},
   "outputs": [
    {
     "data": {
      "text/plain": [
       "0"
      ]
     },
     "execution_count": 14,
     "metadata": {},
     "output_type": "execute_result"
    }
   ],
   "source": [
    "False + False"
   ]
  },
  {
   "cell_type": "code",
   "execution_count": 17,
   "id": "1239584a-43c2-4a1a-abf6-68ffbda12cc8",
   "metadata": {},
   "outputs": [
    {
     "data": {
      "text/plain": [
       "2"
      ]
     },
     "execution_count": 17,
     "metadata": {},
     "output_type": "execute_result"
    }
   ],
   "source": [
    "(4 > 3) + (5 > 4)  # implicit case to bool to int"
   ]
  },
  {
   "cell_type": "code",
   "execution_count": 18,
   "id": "94326ee3-f575-4163-99ae-de37ec0fc75a",
   "metadata": {},
   "outputs": [
    {
     "name": "stdout",
     "output_type": "stream",
     "text": [
      "(4, 2)\n"
     ]
    }
   ],
   "source": [
    "print(divmod(14,3))    # take two arguments and return tuple (q, r), where q is quotient and r is remainder"
   ]
  },
  {
   "cell_type": "code",
   "execution_count": 48,
   "id": "c39d8ea2-b243-4284-8eb9-e357cb79d5ab",
   "metadata": {},
   "outputs": [
    {
     "name": "stdout",
     "output_type": "stream",
     "text": [
      "2\n",
      "2.3\n",
      "2.35\n",
      "2\n",
      "3\n",
      "4\n"
     ]
    }
   ],
   "source": [
    "# round(number[,ndigits])\n",
    "# Takes two arguments and returns rounded off value of the given number\n",
    "# The 2nd parameter (which is in square brackets) is optional, and \n",
    "# denotes the number of digits to which the rounding off is to be done\n",
    "#\n",
    "#\n",
    "print(round(2.345))\n",
    "print(round(2.345, 1))\n",
    "print(round(2.345, 2))\n",
    "print(round(2.5))\n",
    "print(round(2.51))\n",
    "print(round(3.5))     # it always choses even number"
   ]
  },
  {
   "cell_type": "code",
   "execution_count": 53,
   "id": "9399acbe-ef4b-476f-aef5-ea70a33e29c2",
   "metadata": {},
   "outputs": [
    {
     "name": "stdout",
     "output_type": "stream",
     "text": [
      "2 + 4 = 24\n"
     ]
    }
   ],
   "source": [
    "print(round(2.5), round(3.5), sep = ' + ', end=' = ')\n",
    "print('2'+'4')"
   ]
  },
  {
   "cell_type": "markdown",
   "id": "9cfb68d7-a0b3-4f1a-a14a-bd066fa90689",
   "metadata": {},
   "source": [
    "### Some important functions in modules in Python"
   ]
  },
  {
   "cell_type": "markdown",
   "id": "8ff5417a-665a-4d78-855c-562525eb8fc8",
   "metadata": {},
   "source": [
    "#### math module"
   ]
  },
  {
   "cell_type": "code",
   "execution_count": 38,
   "id": "d999476e-6814-4937-83f8-06101e6c5e55",
   "metadata": {},
   "outputs": [],
   "source": [
    "import math"
   ]
  },
  {
   "cell_type": "code",
   "execution_count": 39,
   "id": "82b195f6-a212-4ec7-92e9-9dec74d23dd2",
   "metadata": {},
   "outputs": [
    {
     "data": {
      "text/plain": [
       "4"
      ]
     },
     "execution_count": 39,
     "metadata": {},
     "output_type": "execute_result"
    }
   ],
   "source": [
    "# math.ceil(x)    : returns smallest integer not less than x\n",
    "\n",
    "math.ceil(3.3)"
   ]
  },
  {
   "cell_type": "code",
   "execution_count": 41,
   "id": "b1b0c634-8b56-4639-85d4-e780f8666aa2",
   "metadata": {},
   "outputs": [
    {
     "data": {
      "text/plain": [
       "3"
      ]
     },
     "execution_count": 41,
     "metadata": {},
     "output_type": "execute_result"
    }
   ],
   "source": [
    "math.floor(3.3)   # returns largest integer not greater than input paramter"
   ]
  },
  {
   "cell_type": "code",
   "execution_count": 42,
   "id": "5fdfe707-c649-4292-a0a2-ec104d0d8404",
   "metadata": {},
   "outputs": [
    {
     "data": {
      "text/plain": [
       "-3"
      ]
     },
     "execution_count": 42,
     "metadata": {},
     "output_type": "execute_result"
    }
   ],
   "source": [
    "math.ceil(-3.4)"
   ]
  },
  {
   "cell_type": "code",
   "execution_count": 43,
   "id": "bd4404cc-18d8-44f4-ad07-3648bcf92996",
   "metadata": {},
   "outputs": [
    {
     "data": {
      "text/plain": [
       "-4"
      ]
     },
     "execution_count": 43,
     "metadata": {},
     "output_type": "execute_result"
    }
   ],
   "source": [
    "math.floor(-3.4)"
   ]
  },
  {
   "cell_type": "code",
   "execution_count": 49,
   "id": "b4ad3fe3-0254-4976-a6e3-24aa6296f9f1",
   "metadata": {},
   "outputs": [
    {
     "name": "stdout",
     "output_type": "stream",
     "text": [
      "8\n",
      "7\n",
      "8\n"
     ]
    }
   ],
   "source": [
    "print(round(7.5))\n",
    "print(math.floor(7.5))\n",
    "print(math.ceil(7.5))"
   ]
  },
  {
   "cell_type": "code",
   "execution_count": 51,
   "id": "5f03ae63-44fc-452e-b818-470e012a837a",
   "metadata": {},
   "outputs": [
    {
     "data": {
      "text/plain": [
       "7.38905609893065"
      ]
     },
     "execution_count": 51,
     "metadata": {},
     "output_type": "execute_result"
    }
   ],
   "source": [
    "math.exp(2)     # = e**2"
   ]
  },
  {
   "cell_type": "code",
   "execution_count": 52,
   "id": "2309f6ac-904f-4d3f-8e06-5bf8b70fc843",
   "metadata": {},
   "outputs": [
    {
     "name": "stdout",
     "output_type": "stream",
     "text": [
      "2.302585092994046\n",
      "1.0\n"
     ]
    }
   ],
   "source": [
    "# math.log(x[,base])   - base is optional, default value 'e'\n",
    "print(math.log(10))\n",
    "print(math.log(10,10))"
   ]
  },
  {
   "cell_type": "code",
   "execution_count": 53,
   "id": "3af87c55-8262-4ceb-9815-9278c548d68e",
   "metadata": {},
   "outputs": [
    {
     "data": {
      "text/plain": [
       "2.0"
      ]
     },
     "execution_count": 53,
     "metadata": {},
     "output_type": "execute_result"
    }
   ],
   "source": [
    "math.log10(100)"
   ]
  },
  {
   "cell_type": "code",
   "execution_count": 56,
   "id": "81e5ee28-66ff-4e22-8205-4fb069ca13e2",
   "metadata": {},
   "outputs": [
    {
     "name": "stdout",
     "output_type": "stream",
     "text": [
      "4.0\n",
      "4\n",
      "4\n"
     ]
    }
   ],
   "source": [
    "# math.pow(x, y)    - x^y == x**y  however, it converts both its arguments to float\n",
    "\n",
    "print(math.pow(2,2))  # pow fxn from math module returns float\n",
    "print(2**2)           # in-built exponential operator returns int\n",
    "print(pow(2,2))       # in-built pow fxn returns int"
   ]
  },
  {
   "cell_type": "code",
   "execution_count": 57,
   "id": "56767768-afd1-4971-a186-259aa1190c45",
   "metadata": {},
   "outputs": [
    {
     "data": {
      "text/plain": [
       "3.141592653589793"
      ]
     },
     "execution_count": 57,
     "metadata": {},
     "output_type": "execute_result"
    }
   ],
   "source": [
    "math.pi"
   ]
  },
  {
   "cell_type": "markdown",
   "id": "57f0b4bc-ebe3-4235-8388-c151a56999f1",
   "metadata": {},
   "source": [
    "#### Random module\n",
    " ##### Pseudo-random number generator"
   ]
  },
  {
   "cell_type": "markdown",
   "id": "3e773936-896d-4f24-9e36-88a3bdf15481",
   "metadata": {},
   "source": [
    "##### random.random()\n",
    "* basic method of random module\n",
    "* it generates a random number in semi-open range [0.0, 1.0)\n",
    "* [ -> indicates 0.0 is possible\n",
    "* ) -> inditcates 1.0 is not possible\n",
    "* Therefore, number generated will be 0 <= x < 1"
   ]
  },
  {
   "cell_type": "code",
   "execution_count": 38,
   "id": "72390d1d-7ddd-4f30-bb78-66fed955083b",
   "metadata": {},
   "outputs": [
    {
     "data": {
      "text/plain": [
       "0.8148196103953758"
      ]
     },
     "execution_count": 38,
     "metadata": {},
     "output_type": "execute_result"
    }
   ],
   "source": [
    "import random\n",
    "random.random()    #generates random number in range [0, 1)\n"
   ]
  },
  {
   "cell_type": "markdown",
   "id": "e9cf787f-c7be-48bf-a2af-7902cd620b21",
   "metadata": {},
   "source": [
    "##### What if I want random number between [0, 10)"
   ]
  },
  {
   "cell_type": "code",
   "execution_count": 60,
   "id": "8dfa0804-8dae-4474-84d0-02f05db42e8d",
   "metadata": {},
   "outputs": [
    {
     "data": {
      "text/plain": [
       "8.432689470143321"
      ]
     },
     "execution_count": 60,
     "metadata": {},
     "output_type": "execute_result"
    }
   ],
   "source": [
    "random.random() * 10 "
   ]
  },
  {
   "cell_type": "code",
   "execution_count": 67,
   "id": "3c2c8302-c1ce-4223-8b44-8c5dd46f16f5",
   "metadata": {},
   "outputs": [
    {
     "data": {
      "text/plain": [
       "8"
      ]
     },
     "execution_count": 67,
     "metadata": {},
     "output_type": "execute_result"
    }
   ],
   "source": [
    "int(random.random() * 10)"
   ]
  },
  {
   "cell_type": "code",
   "execution_count": null,
   "id": "692a802f-e616-41c7-9e17-39e5c85c99a6",
   "metadata": {},
   "outputs": [],
   "source": [
    "#  random.seed([a=None])\n",
    "# this method takes an optional parameter with default value of None\n",
    "# By default the method uses the current system time as seed value\n",
    "# you may give an object as a seed value but it must be hashable object\n",
    "# generally immutable objects such as int, str, tuples are hashable"
   ]
  },
  {
   "cell_type": "code",
   "execution_count": 171,
   "id": "58aead26-3e4c-4b11-a1bb-0a16d84ed479",
   "metadata": {},
   "outputs": [
    {
     "data": {
      "text/plain": [
       "13"
      ]
     },
     "execution_count": 171,
     "metadata": {},
     "output_type": "execute_result"
    }
   ],
   "source": [
    "random.seed(1)\n",
    "int(random.random()*100)"
   ]
  },
  {
   "cell_type": "code",
   "execution_count": 156,
   "id": "80649308-e83c-4bb5-8af9-87b41fd2a461",
   "metadata": {},
   "outputs": [
    {
     "name": "stdout",
     "output_type": "stream",
     "text": [
      "96\n",
      "53\n"
     ]
    }
   ],
   "source": [
    "print(int(random.random()*100))\n",
    "print(int(random.random()*100))"
   ]
  },
  {
   "cell_type": "code",
   "execution_count": 157,
   "id": "bd8ad0f5-584c-424b-9917-29a4cdeae641",
   "metadata": {},
   "outputs": [
    {
     "name": "stdout",
     "output_type": "stream",
     "text": [
      "84\n",
      "75\n",
      "42\n"
     ]
    }
   ],
   "source": [
    "random.seed(0)\n",
    "print(int(random.random()*100))\n",
    "print(int(random.random()*100))\n",
    "print(int(random.random()*100))"
   ]
  },
  {
   "cell_type": "code",
   "execution_count": 75,
   "id": "5200b09e-3ac6-47a3-ac9d-f4a79c59fc38",
   "metadata": {},
   "outputs": [
    {
     "name": "stdout",
     "output_type": "stream",
     "text": [
      "90\n",
      "68\n",
      "76\n"
     ]
    }
   ],
   "source": [
    "random.seed(20)\n",
    "print(int(random.random()*100))\n",
    "print(int(random.random()*100))\n",
    "print(int(random.random()*100))"
   ]
  },
  {
   "cell_type": "code",
   "execution_count": 76,
   "id": "ad7d3c2e-1e91-4a28-8319-6abb4baec549",
   "metadata": {},
   "outputs": [
    {
     "name": "stdout",
     "output_type": "stream",
     "text": [
      "90\n",
      "68\n",
      "76\n"
     ]
    }
   ],
   "source": [
    "random.seed(20)\n",
    "print(int(random.random()*100))\n",
    "print(int(random.random()*100))\n",
    "print(int(random.random()*100))"
   ]
  },
  {
   "cell_type": "markdown",
   "id": "6ac11c6c-f561-4c05-a082-c25d95c781f9",
   "metadata": {},
   "source": [
    "**if you seed it with same int, the series is repeated**  \n",
    "**Now, arya will ask, \"doesn't it violate the concept of randomness??\"\"** "
   ]
  },
  {
   "cell_type": "markdown",
   "id": "faf4307a-24eb-488b-a4ca-5469ab13dc1b",
   "metadata": {},
   "source": [
    "==== Yes, if you initiate the random number generator using seed(x) then same sequence of random numbers will be generated every time.\n",
    "\n",
    "##### **That's why it's called *pseudo-random number* generator**"
   ]
  },
  {
   "cell_type": "code",
   "execution_count": 77,
   "id": "ba9f205e-a030-4a3e-ac93-19683d14f9be",
   "metadata": {},
   "outputs": [
    {
     "data": {
      "text/plain": [
       "4"
      ]
     },
     "execution_count": 77,
     "metadata": {},
     "output_type": "execute_result"
    }
   ],
   "source": [
    "# random.randint(x, y)  - gives an int n in the rane x <= n <= y \n",
    "# note: both x and y are included unlike other things in Python\n",
    "random.randint(2, 9)"
   ]
  },
  {
   "cell_type": "code",
   "execution_count": 78,
   "id": "5c5e9034-2d9b-4d58-b3c5-f94d6ae0511c",
   "metadata": {},
   "outputs": [
    {
     "data": {
      "text/plain": [
       "'i'"
      ]
     },
     "execution_count": 78,
     "metadata": {},
     "output_type": "execute_result"
    }
   ],
   "source": [
    "# random.choice(sequence)      # seq could be string, list or tuple\n",
    "# returns item randomly from the given sequence\n",
    "random.choice('abcdefghijklmnopqrstuvwxyz')"
   ]
  },
  {
   "cell_type": "code",
   "execution_count": 80,
   "id": "42e4df21-76de-4497-9750-0665cb1efbab",
   "metadata": {},
   "outputs": [
    {
     "data": {
      "text/plain": [
       "6"
      ]
     },
     "execution_count": 80,
     "metadata": {},
     "output_type": "execute_result"
    }
   ],
   "source": [
    "# randrange([start], stop, [step])  # stop only is mandatory, but excluded\n",
    "random.randrange(2, 12, 2)   # possible outcomes: 2, 4, 6, 8, 10"
   ]
  },
  {
   "cell_type": "code",
   "execution_count": 43,
   "id": "357a4536-5d0f-4181-87ec-e760e79f0744",
   "metadata": {},
   "outputs": [
    {
     "name": "stdout",
     "output_type": "stream",
     "text": [
      "None\n",
      "[9, 1, 4, 7, 5, 6, 2, 3, 8]\n"
     ]
    },
    {
     "data": {
      "text/plain": [
       "'\\nSince, it is changing the sequence in place\\nCan we apply this method on str or tuple??   ==> NO\\n'"
      ]
     },
     "execution_count": 43,
     "metadata": {},
     "output_type": "execute_result"
    }
   ],
   "source": [
    "# shuffle(self, x)\n",
    "# Shuffle list x in place, and return None.\n",
    "\n",
    "l = [1, 2, 3, 4, 5, 6, 7, 8, 9]\n",
    "print(random.shuffle(l))   # shuffle list in place and returns None, just like sort() method but does opposite to sort\n",
    "print(l)\n",
    "\n",
    "'''\n",
    "Since, it is changing the sequence in place\n",
    "Can we apply this method on str or tuple??   ==> NO\n",
    "'''"
   ]
  },
  {
   "cell_type": "code",
   "execution_count": 42,
   "id": "e6989708-b945-4878-8da0-2676fb211575",
   "metadata": {},
   "outputs": [
    {
     "ename": "TypeError",
     "evalue": "'tuple' object does not support item assignment",
     "output_type": "error",
     "traceback": [
      "\u001b[1;31m---------------------------------------------------------------------------\u001b[0m",
      "\u001b[1;31mTypeError\u001b[0m                                 Traceback (most recent call last)",
      "Cell \u001b[1;32mIn[42], line 2\u001b[0m\n\u001b[0;32m      1\u001b[0m tupe \u001b[38;5;241m=\u001b[39m (\u001b[38;5;241m4\u001b[39m, \u001b[38;5;241m2\u001b[39m, \u001b[38;5;241m1\u001b[39m, \u001b[38;5;241m9\u001b[39m)\n\u001b[1;32m----> 2\u001b[0m \u001b[43mrandom\u001b[49m\u001b[38;5;241;43m.\u001b[39;49m\u001b[43mshuffle\u001b[49m\u001b[43m(\u001b[49m\u001b[43mtupe\u001b[49m\u001b[43m)\u001b[49m\n\u001b[0;32m      3\u001b[0m \u001b[38;5;28mprint\u001b[39m(tupe)\n",
      "File \u001b[1;32mC:\\Program Files\\WindowsApps\\PythonSoftwareFoundation.Python.3.12_3.12.1776.0_x64__qbz5n2kfra8p0\\Lib\\random.py:357\u001b[0m, in \u001b[0;36mRandom.shuffle\u001b[1;34m(self, x)\u001b[0m\n\u001b[0;32m    354\u001b[0m \u001b[38;5;28;01mfor\u001b[39;00m i \u001b[38;5;129;01min\u001b[39;00m \u001b[38;5;28mreversed\u001b[39m(\u001b[38;5;28mrange\u001b[39m(\u001b[38;5;241m1\u001b[39m, \u001b[38;5;28mlen\u001b[39m(x))):\n\u001b[0;32m    355\u001b[0m     \u001b[38;5;66;03m# pick an element in x[:i+1] with which to exchange x[i]\u001b[39;00m\n\u001b[0;32m    356\u001b[0m     j \u001b[38;5;241m=\u001b[39m randbelow(i \u001b[38;5;241m+\u001b[39m \u001b[38;5;241m1\u001b[39m)\n\u001b[1;32m--> 357\u001b[0m     \u001b[43mx\u001b[49m\u001b[43m[\u001b[49m\u001b[43mi\u001b[49m\u001b[43m]\u001b[49m, x[j] \u001b[38;5;241m=\u001b[39m x[j], x[i]\n",
      "\u001b[1;31mTypeError\u001b[0m: 'tuple' object does not support item assignment"
     ]
    }
   ],
   "source": [
    "tupe = (4, 2, 1, 9)\n",
    "random.shuffle(tupe)\n",
    "print(tupe)"
   ]
  },
  {
   "cell_type": "code",
   "execution_count": 89,
   "id": "705c1a49-48cb-444c-b825-b1922d9ce70f",
   "metadata": {
    "scrolled": true
   },
   "outputs": [
    {
     "name": "stdout",
     "output_type": "stream",
     "text": [
      "Help on module random:\n",
      "\n",
      "NAME\n",
      "    random - Random variable generators.\n",
      "\n",
      "MODULE REFERENCE\n",
      "    https://docs.python.org/3.12/library/random.html\n",
      "\n",
      "    The following documentation is automatically generated from the Python\n",
      "    source files.  It may be incomplete, incorrect or include features that\n",
      "    are considered implementation detail and may vary between Python\n",
      "    implementations.  When in doubt, consult the module reference at the\n",
      "    location listed above.\n",
      "\n",
      "DESCRIPTION\n",
      "        bytes\n",
      "        -----\n",
      "               uniform bytes (values between 0 and 255)\n",
      "\n",
      "        integers\n",
      "        --------\n",
      "               uniform within range\n",
      "\n",
      "        sequences\n",
      "        ---------\n",
      "               pick random element\n",
      "               pick random sample\n",
      "               pick weighted random sample\n",
      "               generate random permutation\n",
      "\n",
      "        distributions on the real line:\n",
      "        ------------------------------\n",
      "               uniform\n",
      "               triangular\n",
      "               normal (Gaussian)\n",
      "               lognormal\n",
      "               negative exponential\n",
      "               gamma\n",
      "               beta\n",
      "               pareto\n",
      "               Weibull\n",
      "\n",
      "        distributions on the circle (angles 0 to 2pi)\n",
      "        ---------------------------------------------\n",
      "               circular uniform\n",
      "               von Mises\n",
      "\n",
      "        discrete distributions\n",
      "        ----------------------\n",
      "               binomial\n",
      "\n",
      "\n",
      "    General notes on the underlying Mersenne Twister core generator:\n",
      "\n",
      "    * The period is 2**19937-1.\n",
      "    * It is one of the most extensively tested generators in existence.\n",
      "    * The random() method is implemented in C, executes in a single Python step,\n",
      "      and is, therefore, threadsafe.\n",
      "\n",
      "CLASSES\n",
      "    _random.Random(builtins.object)\n",
      "        Random\n",
      "            SystemRandom\n",
      "\n",
      "    class Random(_random.Random)\n",
      "     |  Random(x=None)\n",
      "     |\n",
      "     |  Random number generator base class used by bound module functions.\n",
      "     |\n",
      "     |  Used to instantiate instances of Random to get generators that don't\n",
      "     |  share state.\n",
      "     |\n",
      "     |  Class Random can also be subclassed if you want to use a different basic\n",
      "     |  generator of your own devising: in that case, override the following\n",
      "     |  methods:  random(), seed(), getstate(), and setstate().\n",
      "     |  Optionally, implement a getrandbits() method so that randrange()\n",
      "     |  can cover arbitrarily large ranges.\n",
      "     |\n",
      "     |  Method resolution order:\n",
      "     |      Random\n",
      "     |      _random.Random\n",
      "     |      builtins.object\n",
      "     |\n",
      "     |  Methods defined here:\n",
      "     |\n",
      "     |  __getstate__(self)\n",
      "     |      Helper for pickle.\n",
      "     |\n",
      "     |  __init__(self, x=None)\n",
      "     |      Initialize an instance.\n",
      "     |\n",
      "     |      Optional argument x controls seeding, as for Random.seed().\n",
      "     |\n",
      "     |  __reduce__(self)\n",
      "     |      Helper for pickle.\n",
      "     |\n",
      "     |  __setstate__(self, state)\n",
      "     |\n",
      "     |  betavariate(self, alpha, beta)\n",
      "     |      Beta distribution.\n",
      "     |\n",
      "     |      Conditions on the parameters are alpha > 0 and beta > 0.\n",
      "     |      Returned values range between 0 and 1.\n",
      "     |\n",
      "     |      The mean (expected value) and variance of the random variable are:\n",
      "     |\n",
      "     |          E[X] = alpha / (alpha + beta)\n",
      "     |          Var[X] = alpha * beta / ((alpha + beta)**2 * (alpha + beta + 1))\n",
      "     |\n",
      "     |  binomialvariate(self, n=1, p=0.5)\n",
      "     |      Binomial random variable.\n",
      "     |\n",
      "     |      Gives the number of successes for *n* independent trials\n",
      "     |      with the probability of success in each trial being *p*:\n",
      "     |\n",
      "     |          sum(random() < p for i in range(n))\n",
      "     |\n",
      "     |      Returns an integer in the range:   0 <= X <= n\n",
      "     |\n",
      "     |      The mean (expected value) and variance of the random variable are:\n",
      "     |\n",
      "     |          E[X] = n * p\n",
      "     |          Var[x] = n * p * (1 - p)\n",
      "     |\n",
      "     |  choice(self, seq)\n",
      "     |      Choose a random element from a non-empty sequence.\n",
      "     |\n",
      "     |  choices(self, population, weights=None, *, cum_weights=None, k=1)\n",
      "     |      Return a k sized list of population elements chosen with replacement.\n",
      "     |\n",
      "     |      If the relative weights or cumulative weights are not specified,\n",
      "     |      the selections are made with equal probability.\n",
      "     |\n",
      "     |  expovariate(self, lambd=1.0)\n",
      "     |      Exponential distribution.\n",
      "     |\n",
      "     |      lambd is 1.0 divided by the desired mean.  It should be\n",
      "     |      nonzero.  (The parameter would be called \"lambda\", but that is\n",
      "     |      a reserved word in Python.)  Returned values range from 0 to\n",
      "     |      positive infinity if lambd is positive, and from negative\n",
      "     |      infinity to 0 if lambd is negative.\n",
      "     |\n",
      "     |      The mean (expected value) and variance of the random variable are:\n",
      "     |\n",
      "     |          E[X] = 1 / lambd\n",
      "     |          Var[X] = 1 / lambd ** 2\n",
      "     |\n",
      "     |  gammavariate(self, alpha, beta)\n",
      "     |      Gamma distribution.  Not the gamma function!\n",
      "     |\n",
      "     |      Conditions on the parameters are alpha > 0 and beta > 0.\n",
      "     |\n",
      "     |      The probability distribution function is:\n",
      "     |\n",
      "     |                  x ** (alpha - 1) * math.exp(-x / beta)\n",
      "     |        pdf(x) =  --------------------------------------\n",
      "     |                    math.gamma(alpha) * beta ** alpha\n",
      "     |\n",
      "     |      The mean (expected value) and variance of the random variable are:\n",
      "     |\n",
      "     |          E[X] = alpha * beta\n",
      "     |          Var[X] = alpha * beta ** 2\n",
      "     |\n",
      "     |  gauss(self, mu=0.0, sigma=1.0)\n",
      "     |      Gaussian distribution.\n",
      "     |\n",
      "     |      mu is the mean, and sigma is the standard deviation.  This is\n",
      "     |      slightly faster than the normalvariate() function.\n",
      "     |\n",
      "     |      Not thread-safe without a lock around calls.\n",
      "     |\n",
      "     |  getstate(self)\n",
      "     |      Return internal state; can be passed to setstate() later.\n",
      "     |\n",
      "     |  lognormvariate(self, mu, sigma)\n",
      "     |      Log normal distribution.\n",
      "     |\n",
      "     |      If you take the natural logarithm of this distribution, you'll get a\n",
      "     |      normal distribution with mean mu and standard deviation sigma.\n",
      "     |      mu can have any value, and sigma must be greater than zero.\n",
      "     |\n",
      "     |  normalvariate(self, mu=0.0, sigma=1.0)\n",
      "     |      Normal distribution.\n",
      "     |\n",
      "     |      mu is the mean, and sigma is the standard deviation.\n",
      "     |\n",
      "     |  paretovariate(self, alpha)\n",
      "     |      Pareto distribution.  alpha is the shape parameter.\n",
      "     |\n",
      "     |  randbytes(self, n)\n",
      "     |      Generate n random bytes.\n",
      "     |\n",
      "     |  randint(self, a, b)\n",
      "     |      Return random integer in range [a, b], including both end points.\n",
      "     |\n",
      "     |  randrange(self, start, stop=None, step=1)\n",
      "     |      Choose a random item from range(stop) or range(start, stop[, step]).\n",
      "     |\n",
      "     |      Roughly equivalent to ``choice(range(start, stop, step))`` but\n",
      "     |      supports arbitrarily large ranges and is optimized for common cases.\n",
      "     |\n",
      "     |  sample(self, population, k, *, counts=None)\n",
      "     |      Chooses k unique random elements from a population sequence.\n",
      "     |\n",
      "     |      Returns a new list containing elements from the population while\n",
      "     |      leaving the original population unchanged.  The resulting list is\n",
      "     |      in selection order so that all sub-slices will also be valid random\n",
      "     |      samples.  This allows raffle winners (the sample) to be partitioned\n",
      "     |      into grand prize and second place winners (the subslices).\n",
      "     |\n",
      "     |      Members of the population need not be hashable or unique.  If the\n",
      "     |      population contains repeats, then each occurrence is a possible\n",
      "     |      selection in the sample.\n",
      "     |\n",
      "     |      Repeated elements can be specified one at a time or with the optional\n",
      "     |      counts parameter.  For example:\n",
      "     |\n",
      "     |          sample(['red', 'blue'], counts=[4, 2], k=5)\n",
      "     |\n",
      "     |      is equivalent to:\n",
      "     |\n",
      "     |          sample(['red', 'red', 'red', 'red', 'blue', 'blue'], k=5)\n",
      "     |\n",
      "     |      To choose a sample from a range of integers, use range() for the\n",
      "     |      population argument.  This is especially fast and space efficient\n",
      "     |      for sampling from a large population:\n",
      "     |\n",
      "     |          sample(range(10000000), 60)\n",
      "     |\n",
      "     |  seed(self, a=None, version=2)\n",
      "     |      Initialize internal state from a seed.\n",
      "     |\n",
      "     |      The only supported seed types are None, int, float,\n",
      "     |      str, bytes, and bytearray.\n",
      "     |\n",
      "     |      None or no argument seeds from current time or from an operating\n",
      "     |      system specific randomness source if available.\n",
      "     |\n",
      "     |      If *a* is an int, all bits are used.\n",
      "     |\n",
      "     |      For version 2 (the default), all of the bits are used if *a* is a str,\n",
      "     |      bytes, or bytearray.  For version 1 (provided for reproducing random\n",
      "     |      sequences from older versions of Python), the algorithm for str and\n",
      "     |      bytes generates a narrower range of seeds.\n",
      "     |\n",
      "     |  setstate(self, state)\n",
      "     |      Restore internal state from object returned by getstate().\n",
      "     |\n",
      "     |  shuffle(self, x)\n",
      "     |      Shuffle list x in place, and return None.\n",
      "     |\n",
      "     |  triangular(self, low=0.0, high=1.0, mode=None)\n",
      "     |      Triangular distribution.\n",
      "     |\n",
      "     |      Continuous distribution bounded by given lower and upper limits,\n",
      "     |      and having a given mode value in-between.\n",
      "     |\n",
      "     |      http://en.wikipedia.org/wiki/Triangular_distribution\n",
      "     |\n",
      "     |      The mean (expected value) and variance of the random variable are:\n",
      "     |\n",
      "     |          E[X] = (low + high + mode) / 3\n",
      "     |          Var[X] = (low**2 + high**2 + mode**2 - low*high - low*mode - high*mode) / 18\n",
      "     |\n",
      "     |  uniform(self, a, b)\n",
      "     |      Get a random number in the range [a, b) or [a, b] depending on rounding.\n",
      "     |\n",
      "     |      The mean (expected value) and variance of the random variable are:\n",
      "     |\n",
      "     |          E[X] = (a + b) / 2\n",
      "     |          Var[X] = (b - a) ** 2 / 12\n",
      "     |\n",
      "     |  vonmisesvariate(self, mu, kappa)\n",
      "     |      Circular data distribution.\n",
      "     |\n",
      "     |      mu is the mean angle, expressed in radians between 0 and 2*pi, and\n",
      "     |      kappa is the concentration parameter, which must be greater than or\n",
      "     |      equal to zero.  If kappa is equal to zero, this distribution reduces\n",
      "     |      to a uniform random angle over the range 0 to 2*pi.\n",
      "     |\n",
      "     |  weibullvariate(self, alpha, beta)\n",
      "     |      Weibull distribution.\n",
      "     |\n",
      "     |      alpha is the scale parameter and beta is the shape parameter.\n",
      "     |\n",
      "     |  ----------------------------------------------------------------------\n",
      "     |  Class methods defined here:\n",
      "     |\n",
      "     |  __init_subclass__(**kwargs)\n",
      "     |      Control how subclasses generate random integers.\n",
      "     |\n",
      "     |      The algorithm a subclass can use depends on the random() and/or\n",
      "     |      getrandbits() implementation available to it and determines\n",
      "     |      whether it can generate random integers from arbitrarily large\n",
      "     |      ranges.\n",
      "     |\n",
      "     |  ----------------------------------------------------------------------\n",
      "     |  Data descriptors defined here:\n",
      "     |\n",
      "     |  __dict__\n",
      "     |      dictionary for instance variables\n",
      "     |\n",
      "     |  __weakref__\n",
      "     |      list of weak references to the object\n",
      "     |\n",
      "     |  ----------------------------------------------------------------------\n",
      "     |  Data and other attributes defined here:\n",
      "     |\n",
      "     |  VERSION = 3\n",
      "     |\n",
      "     |  ----------------------------------------------------------------------\n",
      "     |  Methods inherited from _random.Random:\n",
      "     |\n",
      "     |  getrandbits(self, k, /)\n",
      "     |      getrandbits(k) -> x.  Generates an int with k random bits.\n",
      "     |\n",
      "     |  random(self, /)\n",
      "     |      random() -> x in the interval [0, 1).\n",
      "     |\n",
      "     |  ----------------------------------------------------------------------\n",
      "     |  Static methods inherited from _random.Random:\n",
      "     |\n",
      "     |  __new__(*args, **kwargs) class method of _random.Random\n",
      "     |      Create and return a new object.  See help(type) for accurate signature.\n",
      "\n",
      "    class SystemRandom(Random)\n",
      "     |  SystemRandom(x=None)\n",
      "     |\n",
      "     |  Alternate random number generator using sources provided\n",
      "     |  by the operating system (such as /dev/urandom on Unix or\n",
      "     |  CryptGenRandom on Windows).\n",
      "     |\n",
      "     |   Not available on all systems (see os.urandom() for details).\n",
      "     |\n",
      "     |  Method resolution order:\n",
      "     |      SystemRandom\n",
      "     |      Random\n",
      "     |      _random.Random\n",
      "     |      builtins.object\n",
      "     |\n",
      "     |  Methods defined here:\n",
      "     |\n",
      "     |  getrandbits(self, k)\n",
      "     |      getrandbits(k) -> x.  Generates an int with k random bits.\n",
      "     |\n",
      "     |  getstate = _notimplemented(self, *args, **kwds)\n",
      "     |\n",
      "     |  randbytes(self, n)\n",
      "     |      Generate n random bytes.\n",
      "     |\n",
      "     |  random(self)\n",
      "     |      Get the next random number in the range 0.0 <= X < 1.0.\n",
      "     |\n",
      "     |  seed(self, *args, **kwds)\n",
      "     |      Stub method.  Not used for a system random number generator.\n",
      "     |\n",
      "     |  setstate = _notimplemented(self, *args, **kwds)\n",
      "     |\n",
      "     |  ----------------------------------------------------------------------\n",
      "     |  Methods inherited from Random:\n",
      "     |\n",
      "     |  __getstate__(self)\n",
      "     |      Helper for pickle.\n",
      "     |\n",
      "     |  __init__(self, x=None)\n",
      "     |      Initialize an instance.\n",
      "     |\n",
      "     |      Optional argument x controls seeding, as for Random.seed().\n",
      "     |\n",
      "     |  __reduce__(self)\n",
      "     |      Helper for pickle.\n",
      "     |\n",
      "     |  __setstate__(self, state)\n",
      "     |\n",
      "     |  betavariate(self, alpha, beta)\n",
      "     |      Beta distribution.\n",
      "     |\n",
      "     |      Conditions on the parameters are alpha > 0 and beta > 0.\n",
      "     |      Returned values range between 0 and 1.\n",
      "     |\n",
      "     |      The mean (expected value) and variance of the random variable are:\n",
      "     |\n",
      "     |          E[X] = alpha / (alpha + beta)\n",
      "     |          Var[X] = alpha * beta / ((alpha + beta)**2 * (alpha + beta + 1))\n",
      "     |\n",
      "     |  binomialvariate(self, n=1, p=0.5)\n",
      "     |      Binomial random variable.\n",
      "     |\n",
      "     |      Gives the number of successes for *n* independent trials\n",
      "     |      with the probability of success in each trial being *p*:\n",
      "     |\n",
      "     |          sum(random() < p for i in range(n))\n",
      "     |\n",
      "     |      Returns an integer in the range:   0 <= X <= n\n",
      "     |\n",
      "     |      The mean (expected value) and variance of the random variable are:\n",
      "     |\n",
      "     |          E[X] = n * p\n",
      "     |          Var[x] = n * p * (1 - p)\n",
      "     |\n",
      "     |  choice(self, seq)\n",
      "     |      Choose a random element from a non-empty sequence.\n",
      "     |\n",
      "     |  choices(self, population, weights=None, *, cum_weights=None, k=1)\n",
      "     |      Return a k sized list of population elements chosen with replacement.\n",
      "     |\n",
      "     |      If the relative weights or cumulative weights are not specified,\n",
      "     |      the selections are made with equal probability.\n",
      "     |\n",
      "     |  expovariate(self, lambd=1.0)\n",
      "     |      Exponential distribution.\n",
      "     |\n",
      "     |      lambd is 1.0 divided by the desired mean.  It should be\n",
      "     |      nonzero.  (The parameter would be called \"lambda\", but that is\n",
      "     |      a reserved word in Python.)  Returned values range from 0 to\n",
      "     |      positive infinity if lambd is positive, and from negative\n",
      "     |      infinity to 0 if lambd is negative.\n",
      "     |\n",
      "     |      The mean (expected value) and variance of the random variable are:\n",
      "     |\n",
      "     |          E[X] = 1 / lambd\n",
      "     |          Var[X] = 1 / lambd ** 2\n",
      "     |\n",
      "     |  gammavariate(self, alpha, beta)\n",
      "     |      Gamma distribution.  Not the gamma function!\n",
      "     |\n",
      "     |      Conditions on the parameters are alpha > 0 and beta > 0.\n",
      "     |\n",
      "     |      The probability distribution function is:\n",
      "     |\n",
      "     |                  x ** (alpha - 1) * math.exp(-x / beta)\n",
      "     |        pdf(x) =  --------------------------------------\n",
      "     |                    math.gamma(alpha) * beta ** alpha\n",
      "     |\n",
      "     |      The mean (expected value) and variance of the random variable are:\n",
      "     |\n",
      "     |          E[X] = alpha * beta\n",
      "     |          Var[X] = alpha * beta ** 2\n",
      "     |\n",
      "     |  gauss(self, mu=0.0, sigma=1.0)\n",
      "     |      Gaussian distribution.\n",
      "     |\n",
      "     |      mu is the mean, and sigma is the standard deviation.  This is\n",
      "     |      slightly faster than the normalvariate() function.\n",
      "     |\n",
      "     |      Not thread-safe without a lock around calls.\n",
      "     |\n",
      "     |  lognormvariate(self, mu, sigma)\n",
      "     |      Log normal distribution.\n",
      "     |\n",
      "     |      If you take the natural logarithm of this distribution, you'll get a\n",
      "     |      normal distribution with mean mu and standard deviation sigma.\n",
      "     |      mu can have any value, and sigma must be greater than zero.\n",
      "     |\n",
      "     |  normalvariate(self, mu=0.0, sigma=1.0)\n",
      "     |      Normal distribution.\n",
      "     |\n",
      "     |      mu is the mean, and sigma is the standard deviation.\n",
      "     |\n",
      "     |  paretovariate(self, alpha)\n",
      "     |      Pareto distribution.  alpha is the shape parameter.\n",
      "     |\n",
      "     |  randint(self, a, b)\n",
      "     |      Return random integer in range [a, b], including both end points.\n",
      "     |\n",
      "     |  randrange(self, start, stop=None, step=1)\n",
      "     |      Choose a random item from range(stop) or range(start, stop[, step]).\n",
      "     |\n",
      "     |      Roughly equivalent to ``choice(range(start, stop, step))`` but\n",
      "     |      supports arbitrarily large ranges and is optimized for common cases.\n",
      "     |\n",
      "     |  sample(self, population, k, *, counts=None)\n",
      "     |      Chooses k unique random elements from a population sequence.\n",
      "     |\n",
      "     |      Returns a new list containing elements from the population while\n",
      "     |      leaving the original population unchanged.  The resulting list is\n",
      "     |      in selection order so that all sub-slices will also be valid random\n",
      "     |      samples.  This allows raffle winners (the sample) to be partitioned\n",
      "     |      into grand prize and second place winners (the subslices).\n",
      "     |\n",
      "     |      Members of the population need not be hashable or unique.  If the\n",
      "     |      population contains repeats, then each occurrence is a possible\n",
      "     |      selection in the sample.\n",
      "     |\n",
      "     |      Repeated elements can be specified one at a time or with the optional\n",
      "     |      counts parameter.  For example:\n",
      "     |\n",
      "     |          sample(['red', 'blue'], counts=[4, 2], k=5)\n",
      "     |\n",
      "     |      is equivalent to:\n",
      "     |\n",
      "     |          sample(['red', 'red', 'red', 'red', 'blue', 'blue'], k=5)\n",
      "     |\n",
      "     |      To choose a sample from a range of integers, use range() for the\n",
      "     |      population argument.  This is especially fast and space efficient\n",
      "     |      for sampling from a large population:\n",
      "     |\n",
      "     |          sample(range(10000000), 60)\n",
      "     |\n",
      "     |  shuffle(self, x)\n",
      "     |      Shuffle list x in place, and return None.\n",
      "     |\n",
      "     |  triangular(self, low=0.0, high=1.0, mode=None)\n",
      "     |      Triangular distribution.\n",
      "     |\n",
      "     |      Continuous distribution bounded by given lower and upper limits,\n",
      "     |      and having a given mode value in-between.\n",
      "     |\n",
      "     |      http://en.wikipedia.org/wiki/Triangular_distribution\n",
      "     |\n",
      "     |      The mean (expected value) and variance of the random variable are:\n",
      "     |\n",
      "     |          E[X] = (low + high + mode) / 3\n",
      "     |          Var[X] = (low**2 + high**2 + mode**2 - low*high - low*mode - high*mode) / 18\n",
      "     |\n",
      "     |  uniform(self, a, b)\n",
      "     |      Get a random number in the range [a, b) or [a, b] depending on rounding.\n",
      "     |\n",
      "     |      The mean (expected value) and variance of the random variable are:\n",
      "     |\n",
      "     |          E[X] = (a + b) / 2\n",
      "     |          Var[X] = (b - a) ** 2 / 12\n",
      "     |\n",
      "     |  vonmisesvariate(self, mu, kappa)\n",
      "     |      Circular data distribution.\n",
      "     |\n",
      "     |      mu is the mean angle, expressed in radians between 0 and 2*pi, and\n",
      "     |      kappa is the concentration parameter, which must be greater than or\n",
      "     |      equal to zero.  If kappa is equal to zero, this distribution reduces\n",
      "     |      to a uniform random angle over the range 0 to 2*pi.\n",
      "     |\n",
      "     |  weibullvariate(self, alpha, beta)\n",
      "     |      Weibull distribution.\n",
      "     |\n",
      "     |      alpha is the scale parameter and beta is the shape parameter.\n",
      "     |\n",
      "     |  ----------------------------------------------------------------------\n",
      "     |  Class methods inherited from Random:\n",
      "     |\n",
      "     |  __init_subclass__(**kwargs)\n",
      "     |      Control how subclasses generate random integers.\n",
      "     |\n",
      "     |      The algorithm a subclass can use depends on the random() and/or\n",
      "     |      getrandbits() implementation available to it and determines\n",
      "     |      whether it can generate random integers from arbitrarily large\n",
      "     |      ranges.\n",
      "     |\n",
      "     |  ----------------------------------------------------------------------\n",
      "     |  Data descriptors inherited from Random:\n",
      "     |\n",
      "     |  __dict__\n",
      "     |      dictionary for instance variables\n",
      "     |\n",
      "     |  __weakref__\n",
      "     |      list of weak references to the object\n",
      "     |\n",
      "     |  ----------------------------------------------------------------------\n",
      "     |  Data and other attributes inherited from Random:\n",
      "     |\n",
      "     |  VERSION = 3\n",
      "     |\n",
      "     |  ----------------------------------------------------------------------\n",
      "     |  Static methods inherited from _random.Random:\n",
      "     |\n",
      "     |  __new__(*args, **kwargs) class method of _random.Random\n",
      "     |      Create and return a new object.  See help(type) for accurate signature.\n",
      "\n",
      "FUNCTIONS\n",
      "    betavariate(alpha, beta) method of Random instance\n",
      "        Beta distribution.\n",
      "\n",
      "        Conditions on the parameters are alpha > 0 and beta > 0.\n",
      "        Returned values range between 0 and 1.\n",
      "\n",
      "        The mean (expected value) and variance of the random variable are:\n",
      "\n",
      "            E[X] = alpha / (alpha + beta)\n",
      "            Var[X] = alpha * beta / ((alpha + beta)**2 * (alpha + beta + 1))\n",
      "\n",
      "    binomialvariate(n=1, p=0.5) method of Random instance\n",
      "        Binomial random variable.\n",
      "\n",
      "        Gives the number of successes for *n* independent trials\n",
      "        with the probability of success in each trial being *p*:\n",
      "\n",
      "            sum(random() < p for i in range(n))\n",
      "\n",
      "        Returns an integer in the range:   0 <= X <= n\n",
      "\n",
      "        The mean (expected value) and variance of the random variable are:\n",
      "\n",
      "            E[X] = n * p\n",
      "            Var[x] = n * p * (1 - p)\n",
      "\n",
      "    choice(seq) method of Random instance\n",
      "        Choose a random element from a non-empty sequence.\n",
      "\n",
      "    choices(population, weights=None, *, cum_weights=None, k=1) method of Random instance\n",
      "        Return a k sized list of population elements chosen with replacement.\n",
      "\n",
      "        If the relative weights or cumulative weights are not specified,\n",
      "        the selections are made with equal probability.\n",
      "\n",
      "    expovariate(lambd=1.0) method of Random instance\n",
      "        Exponential distribution.\n",
      "\n",
      "        lambd is 1.0 divided by the desired mean.  It should be\n",
      "        nonzero.  (The parameter would be called \"lambda\", but that is\n",
      "        a reserved word in Python.)  Returned values range from 0 to\n",
      "        positive infinity if lambd is positive, and from negative\n",
      "        infinity to 0 if lambd is negative.\n",
      "\n",
      "        The mean (expected value) and variance of the random variable are:\n",
      "\n",
      "            E[X] = 1 / lambd\n",
      "            Var[X] = 1 / lambd ** 2\n",
      "\n",
      "    gammavariate(alpha, beta) method of Random instance\n",
      "        Gamma distribution.  Not the gamma function!\n",
      "\n",
      "        Conditions on the parameters are alpha > 0 and beta > 0.\n",
      "\n",
      "        The probability distribution function is:\n",
      "\n",
      "                    x ** (alpha - 1) * math.exp(-x / beta)\n",
      "          pdf(x) =  --------------------------------------\n",
      "                      math.gamma(alpha) * beta ** alpha\n",
      "\n",
      "        The mean (expected value) and variance of the random variable are:\n",
      "\n",
      "            E[X] = alpha * beta\n",
      "            Var[X] = alpha * beta ** 2\n",
      "\n",
      "    gauss(mu=0.0, sigma=1.0) method of Random instance\n",
      "        Gaussian distribution.\n",
      "\n",
      "        mu is the mean, and sigma is the standard deviation.  This is\n",
      "        slightly faster than the normalvariate() function.\n",
      "\n",
      "        Not thread-safe without a lock around calls.\n",
      "\n",
      "    getrandbits(k, /) method of Random instance\n",
      "        getrandbits(k) -> x.  Generates an int with k random bits.\n",
      "\n",
      "    getstate() method of Random instance\n",
      "        Return internal state; can be passed to setstate() later.\n",
      "\n",
      "    lognormvariate(mu, sigma) method of Random instance\n",
      "        Log normal distribution.\n",
      "\n",
      "        If you take the natural logarithm of this distribution, you'll get a\n",
      "        normal distribution with mean mu and standard deviation sigma.\n",
      "        mu can have any value, and sigma must be greater than zero.\n",
      "\n",
      "    normalvariate(mu=0.0, sigma=1.0) method of Random instance\n",
      "        Normal distribution.\n",
      "\n",
      "        mu is the mean, and sigma is the standard deviation.\n",
      "\n",
      "    paretovariate(alpha) method of Random instance\n",
      "        Pareto distribution.  alpha is the shape parameter.\n",
      "\n",
      "    randbytes(n) method of Random instance\n",
      "        Generate n random bytes.\n",
      "\n",
      "    randint(a, b) method of Random instance\n",
      "        Return random integer in range [a, b], including both end points.\n",
      "\n",
      "    random() method of Random instance\n",
      "        random() -> x in the interval [0, 1).\n",
      "\n",
      "    randrange(start, stop=None, step=1) method of Random instance\n",
      "        Choose a random item from range(stop) or range(start, stop[, step]).\n",
      "\n",
      "        Roughly equivalent to ``choice(range(start, stop, step))`` but\n",
      "        supports arbitrarily large ranges and is optimized for common cases.\n",
      "\n",
      "    sample(population, k, *, counts=None) method of Random instance\n",
      "        Chooses k unique random elements from a population sequence.\n",
      "\n",
      "        Returns a new list containing elements from the population while\n",
      "        leaving the original population unchanged.  The resulting list is\n",
      "        in selection order so that all sub-slices will also be valid random\n",
      "        samples.  This allows raffle winners (the sample) to be partitioned\n",
      "        into grand prize and second place winners (the subslices).\n",
      "\n",
      "        Members of the population need not be hashable or unique.  If the\n",
      "        population contains repeats, then each occurrence is a possible\n",
      "        selection in the sample.\n",
      "\n",
      "        Repeated elements can be specified one at a time or with the optional\n",
      "        counts parameter.  For example:\n",
      "\n",
      "            sample(['red', 'blue'], counts=[4, 2], k=5)\n",
      "\n",
      "        is equivalent to:\n",
      "\n",
      "            sample(['red', 'red', 'red', 'red', 'blue', 'blue'], k=5)\n",
      "\n",
      "        To choose a sample from a range of integers, use range() for the\n",
      "        population argument.  This is especially fast and space efficient\n",
      "        for sampling from a large population:\n",
      "\n",
      "            sample(range(10000000), 60)\n",
      "\n",
      "    seed(a=None, version=2) method of Random instance\n",
      "        Initialize internal state from a seed.\n",
      "\n",
      "        The only supported seed types are None, int, float,\n",
      "        str, bytes, and bytearray.\n",
      "\n",
      "        None or no argument seeds from current time or from an operating\n",
      "        system specific randomness source if available.\n",
      "\n",
      "        If *a* is an int, all bits are used.\n",
      "\n",
      "        For version 2 (the default), all of the bits are used if *a* is a str,\n",
      "        bytes, or bytearray.  For version 1 (provided for reproducing random\n",
      "        sequences from older versions of Python), the algorithm for str and\n",
      "        bytes generates a narrower range of seeds.\n",
      "\n",
      "    setstate(state) method of Random instance\n",
      "        Restore internal state from object returned by getstate().\n",
      "\n",
      "    shuffle(x) method of Random instance\n",
      "        Shuffle list x in place, and return None.\n",
      "\n",
      "    triangular(low=0.0, high=1.0, mode=None) method of Random instance\n",
      "        Triangular distribution.\n",
      "\n",
      "        Continuous distribution bounded by given lower and upper limits,\n",
      "        and having a given mode value in-between.\n",
      "\n",
      "        http://en.wikipedia.org/wiki/Triangular_distribution\n",
      "\n",
      "        The mean (expected value) and variance of the random variable are:\n",
      "\n",
      "            E[X] = (low + high + mode) / 3\n",
      "            Var[X] = (low**2 + high**2 + mode**2 - low*high - low*mode - high*mode) / 18\n",
      "\n",
      "    uniform(a, b) method of Random instance\n",
      "        Get a random number in the range [a, b) or [a, b] depending on rounding.\n",
      "\n",
      "        The mean (expected value) and variance of the random variable are:\n",
      "\n",
      "            E[X] = (a + b) / 2\n",
      "            Var[X] = (b - a) ** 2 / 12\n",
      "\n",
      "    vonmisesvariate(mu, kappa) method of Random instance\n",
      "        Circular data distribution.\n",
      "\n",
      "        mu is the mean angle, expressed in radians between 0 and 2*pi, and\n",
      "        kappa is the concentration parameter, which must be greater than or\n",
      "        equal to zero.  If kappa is equal to zero, this distribution reduces\n",
      "        to a uniform random angle over the range 0 to 2*pi.\n",
      "\n",
      "    weibullvariate(alpha, beta) method of Random instance\n",
      "        Weibull distribution.\n",
      "\n",
      "        alpha is the scale parameter and beta is the shape parameter.\n",
      "\n",
      "DATA\n",
      "    __all__ = ['Random', 'SystemRandom', 'betavariate', 'binomialvariate',...\n",
      "\n",
      "FILE\n",
      "    c:\\program files\\windowsapps\\pythonsoftwarefoundation.python.3.12_3.12.1776.0_x64__qbz5n2kfra8p0\\lib\\random.py\n",
      "\n",
      "\n"
     ]
    }
   ],
   "source": [
    "help(random)"
   ]
  },
  {
   "cell_type": "markdown",
   "id": "653aeb15-3de0-466b-88bb-04a348353b40",
   "metadata": {},
   "source": [
    "### 3. User-Defined Functions (defining your own functions)"
   ]
  },
  {
   "attachments": {},
   "cell_type": "markdown",
   "id": "50ee7837-bed4-486d-b719-4d1f36ab9ba2",
   "metadata": {},
   "source": [
    "#### To implement a user defined function in python, we need to have\n",
    "##### 1. Definition of the function\n",
    "##### 2. Function call that can be done within the main part of the code.\n",
    "\n",
    "#### 1. functions are defined using the **def** keyword.\n",
    "#### Syntax:"
   ]
  },
  {
   "cell_type": "code",
   "execution_count": 90,
   "id": "ee5ffec5-3b8f-4d76-b75d-8f68e6ba4a24",
   "metadata": {},
   "outputs": [],
   "source": [
    "def function_name(parameters):\n",
    "    \"\"\"Optional docstring explaining the function.\"\"\"\n",
    "    # Function body\n",
    "    # Perform some operations\n",
    "    return value  # Optional return value"
   ]
  },
  {
   "cell_type": "markdown",
   "id": "86d1c0bb-dd47-4823-b6b6-1bd02d62d1f6",
   "metadata": {},
   "source": [
    "* **def:** This keyword is used to define a function.\n",
    "* **function_name:** The name of the function to uniquely identify it. *Recall the identifier naming conventions*\n",
    "* **Arguments/parameters:** Optional. These are inputs the function takes.\n",
    "* **:** mark the end of function header. Just like the 'if', 'for', etc., statements header end. This also tells the editor (IDE) to indent the next block of code.\n",
    "* **function body:** indented code block. Here, actual operation/computation is performed.\n",
    "* **return:** Optional. This is the value the function gives back after processing.\n",
    "  - return statment terminates the function call and returns the control to the place where it was called\n",
    "  - In Python, a function will always return something. If no return statement then None will be returned"
   ]
  },
  {
   "cell_type": "code",
   "execution_count": 105,
   "id": "0971ddd3-a018-4b66-a16f-6adc886d9072",
   "metadata": {},
   "outputs": [],
   "source": [
    "# Example\n",
    "def greet(name):      # name is parameter \n",
    "    \"\"\"This function greets the person whose name is passed as an argument.\"\"\"\n",
    "    return f\"Hello, {name}! How are you doing?\"\n"
   ]
  },
  {
   "cell_type": "code",
   "execution_count": 97,
   "id": "3d849030-be32-4f42-b9f5-3cd660fe8800",
   "metadata": {},
   "outputs": [
    {
     "name": "stdout",
     "output_type": "stream",
     "text": [
      "Help on function greet in module __main__:\n",
      "\n",
      "greet(name)\n",
      "    This function greets the person whose name is passed as an argument.\n",
      "\n"
     ]
    }
   ],
   "source": [
    "help(greet)"
   ]
  },
  {
   "cell_type": "markdown",
   "id": "c7242270-565d-447d-974f-b91c14c0f56f",
   "metadata": {},
   "source": [
    "#### 2. Calling a function\n",
    "- After defining a function, you can call it to execute the code inside the function.\n",
    "\n",
    "Example:"
   ]
  },
  {
   "cell_type": "code",
   "execution_count": 104,
   "id": "aaedb379-1317-4957-a313-91b249459676",
   "metadata": {},
   "outputs": [
    {
     "name": "stdout",
     "output_type": "stream",
     "text": [
      "Hello, Prince! How are you doing?\n"
     ]
    }
   ],
   "source": [
    "# Call the greet function with an argument\n",
    "message = greet(\"Prince\")    # prince is the argument passed to this function \n",
    "print(message) \n"
   ]
  },
  {
   "cell_type": "code",
   "execution_count": 100,
   "id": "e3a01ba0-9f01-4edd-ba0f-656e0ee30e48",
   "metadata": {},
   "outputs": [
    {
     "ename": "NameError",
     "evalue": "name 'sq' is not defined",
     "output_type": "error",
     "traceback": [
      "\u001b[1;31m---------------------------------------------------------------------------\u001b[0m",
      "\u001b[1;31mNameError\u001b[0m                                 Traceback (most recent call last)",
      "Cell \u001b[1;32mIn[100], line 1\u001b[0m\n\u001b[1;32m----> 1\u001b[0m \u001b[43msq\u001b[49m(\u001b[38;5;241m2\u001b[39m)       \u001b[38;5;66;03m# define function before calling it\u001b[39;00m\n\u001b[0;32m      2\u001b[0m \u001b[38;5;28;01mdef\u001b[39;00m \u001b[38;5;21msq\u001b[39m(a):\n\u001b[0;32m      3\u001b[0m     \u001b[38;5;28;01mreturn\u001b[39;00m a\u001b[38;5;241m*\u001b[39m\u001b[38;5;241m*\u001b[39m\u001b[38;5;241m2\u001b[39m\n",
      "\u001b[1;31mNameError\u001b[0m: name 'sq' is not defined"
     ]
    }
   ],
   "source": [
    "sq(2)       # define function before calling it\n",
    "def sq(a):\n",
    "    return a**2"
   ]
  },
  {
   "cell_type": "markdown",
   "id": "47b7c1d0-65d0-482f-b542-64a4a22f3cae",
   "metadata": {},
   "source": [
    "### 3.1 Function Parameters\n",
    "* Functions can take parameters, which act as placeholders for the values you pass to the function."
   ]
  },
  {
   "cell_type": "code",
   "execution_count": 114,
   "id": "682acf0f-4095-4141-8e1a-99681c00a0a3",
   "metadata": {},
   "outputs": [
    {
     "name": "stdout",
     "output_type": "stream",
     "text": [
      "8\n"
     ]
    }
   ],
   "source": [
    "# function definition\n",
    "def add(a, b):         # two parameters a, and b\n",
    "    \"\"\"This function adds two numbers and returns the result.\"\"\"\n",
    "    return a + b\n",
    "\n",
    "# function call\n",
    "result = add(3, 5)  # Passes 3 and 5 to the function (3 and 5 are arguments)\n",
    "print(result)  # Output: 8"
   ]
  },
  {
   "cell_type": "markdown",
   "id": "cf884d0f-96f5-42a8-aeba-c889ff9c652f",
   "metadata": {},
   "source": [
    "### Types of Parameters:\n",
    "* **Positional Parameters:** Passed in the order in which they are defined.\n",
    "* **Keyword Parameters:** Passed by specifying the parameter name during the function call.\n",
    "* **Default Parameters:** You can set default values for parameters. If no value is provided, the default is used."
   ]
  },
  {
   "cell_type": "code",
   "execution_count": 115,
   "id": "15a28416-30f5-42e5-943e-91a34cd7456b",
   "metadata": {},
   "outputs": [
    {
     "name": "stdout",
     "output_type": "stream",
     "text": [
      "8\n",
      "8\n",
      "8\n"
     ]
    }
   ],
   "source": [
    "# Positional\n",
    "result1 = add(3, 5)  # a = 3, b = 5\n",
    "print(result1)\n",
    "\n",
    "# Keyword\n",
    "result2 = add(a=3, b=5)\n",
    "print(result2)\n",
    "\n",
    "result3 = add(b=5, a=3)\n",
    "print(result3)\n"
   ]
  },
  {
   "cell_type": "code",
   "execution_count": 116,
   "id": "91937da5-850f-4ee7-b6f0-a55ea48d1dc7",
   "metadata": {},
   "outputs": [
    {
     "name": "stdout",
     "output_type": "stream",
     "text": [
      "Hello, Vedant! Welcome!\n",
      "Hello, Tarun! Good morning!\n"
     ]
    }
   ],
   "source": [
    "# Default parameter\n",
    "def greet(name, message=\"Welcome!\"):\n",
    "    \"\"\"Greets a person with a default or custom message.\"\"\"\n",
    "    return f\"Hello, {name}! {message}\"\n",
    "\n",
    "# Call without the message argument (uses default)\n",
    "print(greet(\"Vedant\")) \n",
    "\n",
    "# Call with both arguments (overrides the default)\n",
    "print(greet(\"Tarun\", \"Good morning!\")) \n"
   ]
  },
  {
   "cell_type": "code",
   "execution_count": 125,
   "id": "0a339be0-34ba-4db2-84b8-0aa771ddceb6",
   "metadata": {},
   "outputs": [
    {
     "data": {
      "text/plain": [
       "'Hello, Kartik Agarwal! Welcome!'"
      ]
     },
     "execution_count": 125,
     "metadata": {},
     "output_type": "execute_result"
    }
   ],
   "source": [
    "def greetagain(name, surname, message=\"Welcome!\"):\n",
    "    \"\"\"Greets a person with a default or custom message.\"\"\"\n",
    "    return f\"Hello, {name} {surname}! {message}\"\n",
    "\n",
    "greetagain('Kartik', 'Agarwal')"
   ]
  },
  {
   "cell_type": "code",
   "execution_count": 127,
   "id": "10b9a027-9f65-46f6-aebc-fcef39ef4a03",
   "metadata": {},
   "outputs": [
    {
     "ename": "TypeError",
     "evalue": "greetagain() missing 1 required positional argument: 'surname'",
     "output_type": "error",
     "traceback": [
      "\u001b[1;31m---------------------------------------------------------------------------\u001b[0m",
      "\u001b[1;31mTypeError\u001b[0m                                 Traceback (most recent call last)",
      "Cell \u001b[1;32mIn[127], line 1\u001b[0m\n\u001b[1;32m----> 1\u001b[0m \u001b[38;5;28mprint\u001b[39m(\u001b[43mgreetagain\u001b[49m\u001b[43m(\u001b[49m\u001b[38;5;124;43m'\u001b[39;49m\u001b[38;5;124;43mKartik\u001b[39;49m\u001b[38;5;124;43m'\u001b[39;49m\u001b[43m)\u001b[49m)     \u001b[38;5;66;03m# the fxn expects at least two and max 3 arguments.\u001b[39;00m\n",
      "\u001b[1;31mTypeError\u001b[0m: greetagain() missing 1 required positional argument: 'surname'"
     ]
    }
   ],
   "source": [
    "print(greetagain('Kartik'))     # the fxn expects at least two and max 3 arguments."
   ]
  },
  {
   "cell_type": "code",
   "execution_count": 131,
   "id": "6d09066e-7aee-4fc4-a8da-8abacaef67e8",
   "metadata": {},
   "outputs": [
    {
     "name": "stdout",
     "output_type": "stream",
     "text": [
      "Hello, Adi Kum! Jethvanth\n"
     ]
    },
    {
     "ename": "TypeError",
     "evalue": "greetagain() takes from 2 to 3 positional arguments but 4 were given",
     "output_type": "error",
     "traceback": [
      "\u001b[1;31m---------------------------------------------------------------------------\u001b[0m",
      "\u001b[1;31mTypeError\u001b[0m                                 Traceback (most recent call last)",
      "Cell \u001b[1;32mIn[131], line 2\u001b[0m\n\u001b[0;32m      1\u001b[0m \u001b[38;5;28mprint\u001b[39m(greetagain(\u001b[38;5;124m'\u001b[39m\u001b[38;5;124mAdi\u001b[39m\u001b[38;5;124m'\u001b[39m, \u001b[38;5;124m'\u001b[39m\u001b[38;5;124mKum\u001b[39m\u001b[38;5;124m'\u001b[39m, \u001b[38;5;124m'\u001b[39m\u001b[38;5;124mJethvanth\u001b[39m\u001b[38;5;124m'\u001b[39m )) \n\u001b[1;32m----> 2\u001b[0m \u001b[38;5;28mprint\u001b[39m(\u001b[43mgreetagain\u001b[49m\u001b[43m(\u001b[49m\u001b[38;5;124;43m'\u001b[39;49m\u001b[38;5;124;43mMr.\u001b[39;49m\u001b[38;5;124;43m'\u001b[39;49m\u001b[43m,\u001b[49m\u001b[43m \u001b[49m\u001b[38;5;124;43m'\u001b[39;49m\u001b[38;5;124;43mAdi\u001b[39;49m\u001b[38;5;124;43m'\u001b[39;49m\u001b[43m,\u001b[49m\u001b[43m \u001b[49m\u001b[38;5;124;43m'\u001b[39;49m\u001b[38;5;124;43mKum\u001b[39;49m\u001b[38;5;124;43m'\u001b[39;49m\u001b[43m,\u001b[49m\u001b[43m \u001b[49m\u001b[38;5;124;43m'\u001b[39;49m\u001b[38;5;124;43mJethvanth\u001b[39;49m\u001b[38;5;124;43m'\u001b[39;49m\u001b[43m,\u001b[49m\u001b[43m \u001b[49m\u001b[43m)\u001b[49m)\n",
      "\u001b[1;31mTypeError\u001b[0m: greetagain() takes from 2 to 3 positional arguments but 4 were given"
     ]
    }
   ],
   "source": [
    "print(greetagain('Adi', 'Kum', 'Jethvanth' )) \n",
    "print(greetagain('Mr.', 'Adi', 'Kum', 'Jethvanth', ))"
   ]
  },
  {
   "cell_type": "code",
   "execution_count": 117,
   "id": "fdd27848-4295-4255-a0fb-0512a2b512bb",
   "metadata": {},
   "outputs": [
    {
     "data": {
      "text/plain": [
       "\u001b[1;31mSignature:\u001b[0m \u001b[0mprint\u001b[0m\u001b[1;33m(\u001b[0m\u001b[1;33m*\u001b[0m\u001b[0margs\u001b[0m\u001b[1;33m,\u001b[0m \u001b[0msep\u001b[0m\u001b[1;33m=\u001b[0m\u001b[1;34m' '\u001b[0m\u001b[1;33m,\u001b[0m \u001b[0mend\u001b[0m\u001b[1;33m=\u001b[0m\u001b[1;34m'\\n'\u001b[0m\u001b[1;33m,\u001b[0m \u001b[0mfile\u001b[0m\u001b[1;33m=\u001b[0m\u001b[1;32mNone\u001b[0m\u001b[1;33m,\u001b[0m \u001b[0mflush\u001b[0m\u001b[1;33m=\u001b[0m\u001b[1;32mFalse\u001b[0m\u001b[1;33m)\u001b[0m\u001b[1;33m\u001b[0m\u001b[1;33m\u001b[0m\u001b[0m\n",
       "\u001b[1;31mDocstring:\u001b[0m\n",
       "Prints the values to a stream, or to sys.stdout by default.\n",
       "\n",
       "sep\n",
       "  string inserted between values, default a space.\n",
       "end\n",
       "  string appended after the last value, default a newline.\n",
       "file\n",
       "  a file-like object (stream); defaults to the current sys.stdout.\n",
       "flush\n",
       "  whether to forcibly flush the stream.\n",
       "\u001b[1;31mType:\u001b[0m      builtin_function_or_method"
      ]
     },
     "metadata": {},
     "output_type": "display_data"
    }
   ],
   "source": [
    "print?"
   ]
  },
  {
   "cell_type": "code",
   "execution_count": null,
   "id": "ca7a76ce-a924-47cc-a68e-6bd9d1a81716",
   "metadata": {},
   "outputs": [],
   "source": []
  },
  {
   "cell_type": "code",
   "execution_count": 118,
   "id": "83d42967-5dcc-469b-8df5-38e91b69dc54",
   "metadata": {},
   "outputs": [
    {
     "ename": "SyntaxError",
     "evalue": "parameter without a default follows parameter with a default (1691104607.py, line 2)",
     "output_type": "error",
     "traceback": [
      "\u001b[1;36m  Cell \u001b[1;32mIn[118], line 2\u001b[1;36m\u001b[0m\n\u001b[1;33m    def greet(message=\"Welcome!\", name):\u001b[0m\n\u001b[1;37m                                  ^\u001b[0m\n\u001b[1;31mSyntaxError\u001b[0m\u001b[1;31m:\u001b[0m parameter without a default follows parameter with a default\n"
     ]
    }
   ],
   "source": [
    "# Invalid default parameter assignment\n",
    "def greet(message=\"Welcome!\", name):\n",
    "    \"\"\"Greets a person with a default or custom message.\"\"\"\n",
    "    return f\"Hello, {name}! {message}\"\n",
    "\n",
    "print(greet(\"Raj\")) "
   ]
  },
  {
   "cell_type": "markdown",
   "id": "e99aab78-7246-446d-b43c-ff518c246287",
   "metadata": {},
   "source": [
    "### Function with Arbitrary Arguments\n",
    "* Sometimes, you don’t know in advance how many arguments will be passed to a function.\n",
    "* Python allows you to handle this with arbitrary arguments using:\n",
    "  - **\\*args** (for non-keyword arguments)\n",
    "  - or **\\*\\*kwargs** (for keyword arguments).\n",
    "\n",
    "#### Using **\\*args** (Non-keyword Arguments):"
   ]
  },
  {
   "cell_type": "code",
   "execution_count": 119,
   "id": "39eaa69e-62ee-4794-8ef4-41662f97b152",
   "metadata": {},
   "outputs": [
    {
     "name": "stdout",
     "output_type": "stream",
     "text": [
      "6\n",
      "30\n"
     ]
    }
   ],
   "source": [
    "def sum_numbers(*args):\n",
    "    \"\"\"This function accepts any number of arguments and returns their sum.\"\"\"\n",
    "    return sum(args)\n",
    "\n",
    "print(sum_numbers(1, 2, 3))  \n",
    "print(sum_numbers(4, 5, 6, 7, 8)) \n"
   ]
  },
  {
   "cell_type": "markdown",
   "id": "a4d69621-7d42-4057-8521-c9a1f29f7e39",
   "metadata": {},
   "source": [
    "#### Using **\\*\\*kwargs** (Keyword Arguments):"
   ]
  },
  {
   "cell_type": "code",
   "execution_count": 123,
   "id": "37da4087-f31c-4213-8aad-731ef04ba4a5",
   "metadata": {},
   "outputs": [
    {
     "name": "stdout",
     "output_type": "stream",
     "text": [
      "name: Arya\n",
      "age: 25\n",
      "city: London\n"
     ]
    }
   ],
   "source": [
    "def print_info(**kwargs):\n",
    "    \"\"\"This function accepts any number of keyword arguments.\"\"\"\n",
    "    for key, value in kwargs.items():\n",
    "        print(f\"{key}: {value}\")\n",
    "\n",
    "print_info(name=\"Arya\", age=25, city=\"London\")"
   ]
  },
  {
   "cell_type": "code",
   "execution_count": 124,
   "id": "cdb4e762-e4a4-4502-800b-5ee3b2da6175",
   "metadata": {},
   "outputs": [
    {
     "ename": "SyntaxError",
     "evalue": "keyword argument repeated: name (1775649258.py, line 1)",
     "output_type": "error",
     "traceback": [
      "\u001b[1;36m  Cell \u001b[1;32mIn[124], line 1\u001b[1;36m\u001b[0m\n\u001b[1;33m    print_info(name=\"Arya\", age=25, city=\"London\", name=\"aditya\")\u001b[0m\n\u001b[1;37m                                                   ^\u001b[0m\n\u001b[1;31mSyntaxError\u001b[0m\u001b[1;31m:\u001b[0m keyword argument repeated: name\n"
     ]
    }
   ],
   "source": [
    "print_info(name=\"Arya\", age=25, city=\"London\", name=\"aditya\")"
   ]
  },
  {
   "cell_type": "code",
   "execution_count": 132,
   "id": "6d3854ca-cb23-49d5-9bb3-e1667fce8ce2",
   "metadata": {},
   "outputs": [
    {
     "name": "stdout",
     "output_type": "stream",
     "text": [
      "name: Arya\n",
      "age: 25\n",
      "city: London\n",
      "college: iiitranchi\n",
      "hobby: music\n",
      "abc: 12.5\n"
     ]
    }
   ],
   "source": [
    "print_info(name=\"Arya\", age=25, city=\"London\", college=\"iiitranchi\", hobby='music', abc= 12.5)"
   ]
  },
  {
   "cell_type": "markdown",
   "id": "adfa2bd6-c787-49dd-9a5b-fc1bce9771b1",
   "metadata": {},
   "source": [
    "#### Using both **\\*args** and **\\*\\*kwargs**\n",
    "* This allows the function to accept an arbitrary number of positional arguments (*args) and keyword arguments (**kwargs)."
   ]
  },
  {
   "cell_type": "code",
   "execution_count": 143,
   "id": "0dabe105-84fb-4af5-9d7d-1468672be856",
   "metadata": {},
   "outputs": [
    {
     "name": "stdout",
     "output_type": "stream",
     "text": [
      "Positional arguments (args): (1, 2, 3)\n",
      "Keyword arguments (kwargs): {'name': 'Python', 'age': 20}\n"
     ]
    }
   ],
   "source": [
    "def example_function(*args, **kwargs):\n",
    "    print(\"Positional arguments (args):\", args)\n",
    "    print(\"Keyword arguments (kwargs):\", kwargs)\n",
    "\n",
    "# Calling the function with both positional and keyword arguments\n",
    "example_function(1, 2, 3, name=\"Python\", age=20)\n"
   ]
  },
  {
   "cell_type": "code",
   "execution_count": 145,
   "id": "c01bb122-18a0-48c4-9ce4-45c9f71bfa97",
   "metadata": {},
   "outputs": [
    {
     "ename": "SyntaxError",
     "evalue": "arguments cannot follow var-keyword argument (2524948237.py, line 1)",
     "output_type": "error",
     "traceback": [
      "\u001b[1;36m  Cell \u001b[1;32mIn[145], line 1\u001b[1;36m\u001b[0m\n\u001b[1;33m    def example_function2(**kwargs, *args):\u001b[0m\n\u001b[1;37m                                    ^\u001b[0m\n\u001b[1;31mSyntaxError\u001b[0m\u001b[1;31m:\u001b[0m arguments cannot follow var-keyword argument\n"
     ]
    }
   ],
   "source": [
    "def example_function2(**kwargs, *args):\n",
    "    print(\"Positional arguments (args):\", args)\n",
    "    print(\"Keyword arguments (kwargs):\", kwargs)\n",
    "\n",
    "example_function2(name=\"Python\", age=25, 1, 2, 3)"
   ]
  },
  {
   "cell_type": "markdown",
   "id": "23b19ad8-aadd-4887-b295-91b9f1691a5f",
   "metadata": {},
   "source": [
    "### Return Statement\n",
    "#### The return statement sends back a value from the function to the caller. \n",
    "#### You can return multiple values using a tuple."
   ]
  },
  {
   "cell_type": "code",
   "execution_count": 133,
   "id": "1a441771-c0d5-4292-8ad1-4c7c74daee78",
   "metadata": {},
   "outputs": [
    {
     "name": "stdout",
     "output_type": "stream",
     "text": [
      "(9, 20)\n",
      "Sum: 9\n",
      "Product: 20\n"
     ]
    }
   ],
   "source": [
    "def calculate(a, b):\n",
    "    \"\"\"This function returns the sum and product of two numbers.\"\"\"\n",
    "    sum_ = a + b\n",
    "    product = a * b\n",
    "    return sum_, product  # Returns a tuple\n",
    "\n",
    "result = calculate(4, 5)\n",
    "print(result)  # Output: (9, 20)\n",
    "\n",
    "# Accessing individual values\n",
    "sum_, product = calculate(4, 5)\n",
    "print(\"Sum:\", sum_)  \n",
    "print(\"Product:\", product) "
   ]
  },
  {
   "cell_type": "markdown",
   "id": "3a30f796-b3e9-4afc-8c13-de8a915c4a8a",
   "metadata": {},
   "source": [
    "### Variable Scope in Functions\n",
    "* A variable defined inside a function is local to that function and cannot be accessed outside."
   ]
  },
  {
   "cell_type": "code",
   "execution_count": 137,
   "id": "d32f4d8c-a3f1-4226-bb11-c38376530c10",
   "metadata": {},
   "outputs": [
    {
     "name": "stdout",
     "output_type": "stream",
     "text": [
      "10\n"
     ]
    },
    {
     "ename": "NameError",
     "evalue": "name 'k' is not defined",
     "output_type": "error",
     "traceback": [
      "\u001b[1;31m---------------------------------------------------------------------------\u001b[0m",
      "\u001b[1;31mNameError\u001b[0m                                 Traceback (most recent call last)",
      "Cell \u001b[1;32mIn[137], line 6\u001b[0m\n\u001b[0;32m      3\u001b[0m     \u001b[38;5;28mprint\u001b[39m(k)\n\u001b[0;32m      5\u001b[0m my_function()  \u001b[38;5;66;03m# Output: 10\u001b[39;00m\n\u001b[1;32m----> 6\u001b[0m \u001b[38;5;28mprint\u001b[39m(\u001b[43mk\u001b[49m)  \u001b[38;5;66;03m# This will raise an error as x is not defined outside the function.\u001b[39;00m\n",
      "\u001b[1;31mNameError\u001b[0m: name 'k' is not defined"
     ]
    }
   ],
   "source": [
    "def my_function():\n",
    "    k = 10  # Local variable\n",
    "    print(k)\n",
    "\n",
    "my_function()  # Output: 10\n",
    "print(k)  # This will raise an error as x is not defined outside the function.\n"
   ]
  },
  {
   "cell_type": "markdown",
   "id": "752a4ee9-192d-425c-9ae4-7febef56e3c2",
   "metadata": {},
   "source": [
    "* **Local Scope:** Variables defined inside a function.\n",
    "* **Global Scope:** Variables defined outside any function and accessible throughout the program.\n",
    "\n",
    "You can use the ***global*** keyword to modify a global variable inside a function."
   ]
  },
  {
   "cell_type": "code",
   "execution_count": 139,
   "id": "faba3018-775f-46d4-8088-8ba503f5ea85",
   "metadata": {},
   "outputs": [
    {
     "name": "stdout",
     "output_type": "stream",
     "text": [
      "inside fxn: 10\n",
      "outside fxn: 10\n"
     ]
    }
   ],
   "source": [
    "def my_function():\n",
    "    global q    # now q is global\n",
    "    q = 10  \n",
    "    print('inside fxn:', q)\n",
    "\n",
    "my_function() \n",
    "print('outside fxn:', q)"
   ]
  },
  {
   "cell_type": "markdown",
   "id": "5ab9ecda-257b-41a3-8050-93973b8e0310",
   "metadata": {},
   "source": [
    "### Function as a variable\n",
    "* Functions are treated as first-class objects in python, which means you can assign them to variables, pass them as arguments, or return them from other functions."
   ]
  },
  {
   "cell_type": "code",
   "execution_count": 146,
   "id": "e9912e80-4b8f-41a8-8123-b5cf7a12c8c5",
   "metadata": {},
   "outputs": [
    {
     "name": "stdout",
     "output_type": "stream",
     "text": [
      "Hello, Yash!\n"
     ]
    }
   ],
   "source": [
    "def greet(name):\n",
    "    return f\"Hello, {name}!\"\n",
    "\n",
    "# Assigning the function to a variable\n",
    "greeting = greet\n",
    "\n",
    "# Calling the function using the variable\n",
    "print(greeting(\"Yash\"))"
   ]
  },
  {
   "cell_type": "markdown",
   "id": "24c033c2-c28d-4b49-9a78-a86473914e56",
   "metadata": {},
   "source": [
    "### Function as an Argument:\n",
    "* You can pass a function as an argument to another function, allowing that function to execute the passed function."
   ]
  },
  {
   "cell_type": "code",
   "execution_count": 147,
   "id": "eb74f140-5e10-46e2-84fb-91587ce009ad",
   "metadata": {},
   "outputs": [
    {
     "name": "stdout",
     "output_type": "stream",
     "text": [
      "25\n"
     ]
    }
   ],
   "source": [
    "def apply_function(func, value):\n",
    "    return func(value)\n",
    "\n",
    "def square(x):\n",
    "    return x ** 2\n",
    "\n",
    "# Passing the 'square' function as an argument to 'apply_function'\n",
    "result = apply_function(square, 5)\n",
    "print(result)  # Output: 25"
   ]
  },
  {
   "cell_type": "markdown",
   "id": "42a00d06-e9ee-4e98-907f-a9a776adfe9b",
   "metadata": {},
   "source": [
    "### Recursion"
   ]
  },
  {
   "cell_type": "markdown",
   "id": "ec7c1074-0005-450d-a1fb-88acfd03a4b9",
   "metadata": {},
   "source": [
    "* **Recursion** is a programming technique where a **function calls itself** to solve a problem.\n",
    "* It breaks down a complex problem into simpler sub-problems of the same type, which are easier to solve.\n",
    "\n",
    "* A recursive function must have:\n",
    "  - **Base Case:** A condition that stops the recursion to prevent infinite loops.\n",
    "  - **Recursive Case:** The part of the function that calls itself with modified arguments to reduce the problem size."
   ]
  },
  {
   "cell_type": "markdown",
   "id": "af0c15d2-18d1-46d5-9c96-60edd0f231f6",
   "metadata": {},
   "source": [
    "#### pseudo code for a recursive function\n",
    "```\n",
    "def recursiveFunction(attributes):\n",
    "    if(test for some_simple_case):\n",
    "        return (simple computation without recursion)\n",
    "    else:\n",
    "        return recursive_solution\n",
    "```"
   ]
  },
  {
   "cell_type": "markdown",
   "id": "84d7fec4-c55a-4d65-bb61-801015102573",
   "metadata": {},
   "source": [
    "#### Find factorial of number using recursion"
   ]
  },
  {
   "cell_type": "raw",
   "id": "70103e79-aa1f-4a26-9855-a05b75852bb6",
   "metadata": {},
   "source": [
    "* The factorial of a positive integer n is mathematically represented as n! and can be defined as:\n",
    "* n! = n*(n-1)*(n-2)......3*2*1\n",
    "* factorial of 0 is 0! = 1\n",
    "* factorial(n) can be thus defined as:\n",
    "  - fact(n) =   {1            if n = 0 }\n",
    "                { n*fact(n-1) if n > 0 }"
   ]
  },
  {
   "cell_type": "code",
   "execution_count": 161,
   "id": "b504c90f-bbd7-4257-9d9f-bbee260b34af",
   "metadata": {},
   "outputs": [
    {
     "name": "stdin",
     "output_type": "stream",
     "text": [
      "Enter a number:  5\n"
     ]
    },
    {
     "name": "stdout",
     "output_type": "stream",
     "text": [
      "120\n"
     ]
    }
   ],
   "source": [
    "def factorial(n):\n",
    "    # Base case: If n is 1 or 0, return 1\n",
    "    if n == 1 or n == 0:\n",
    "        return 1\n",
    "    # Recursive case: Call the function with n-1\n",
    "    else:\n",
    "        return n * factorial(n-1)\n",
    "\n",
    "# Calling the recursive function\n",
    "num = int(input('Enter a number: '))\n",
    "print(factorial(num))  \n",
    "# 5! = 5 * 4! = 5*4*3*2*1 = 120"
   ]
  },
  {
   "cell_type": "markdown",
   "id": "c67c6cb9-ce1c-44d2-9dfa-1586573188f0",
   "metadata": {},
   "source": [
    "#### Exercise: Generate Fibonacci Series using recursion"
   ]
  },
  {
   "cell_type": "markdown",
   "id": "835ec377-533c-481d-a447-ead27f920449",
   "metadata": {},
   "source": [
    "0,1,1,2,3,5,8,13,21,34,55,89,144,..."
   ]
  },
  {
   "cell_type": "markdown",
   "id": "fd9faf62-2b2c-4796-9c20-966db879debe",
   "metadata": {},
   "source": [
    "Mathematically,\n",
    "F<sub>n</sub> = F<sub>n-1</sub> + F<sub>n-2</sub>"
   ]
  },
  {
   "cell_type": "raw",
   "id": "535eaa79-2fb7-4096-9fda-85451fc53ced",
   "metadata": {},
   "source": [
    "     { 0                if n = 0}\n",
    "Fn = | 1                if n = 1}\n",
    "     { Fn-1 + Fn-2      if n > 1}    "
   ]
  },
  {
   "cell_type": "code",
   "execution_count": 166,
   "id": "eb276add-4375-44ba-ade0-dc3f9f04a73a",
   "metadata": {},
   "outputs": [
    {
     "name": "stdin",
     "output_type": "stream",
     "text": [
      "Enter number:  5\n"
     ]
    },
    {
     "name": "stdout",
     "output_type": "stream",
     "text": [
      "----fibonacci Sequence-------\n",
      "0 1 1 2 3 "
     ]
    }
   ],
   "source": [
    "def fib(x):\n",
    "    if (x <= 1):\n",
    "        return x\n",
    "    else:\n",
    "        return (fib(x-1) + fib(x-2))\n",
    "\n",
    "x = int(input('Enter number: '))\n",
    "print('----fibonacci Sequence-------')\n",
    "for y in range(x):\n",
    "    print(fib(y), end= ' ')"
   ]
  },
  {
   "cell_type": "markdown",
   "id": "496bb7ab-ba16-4af1-892a-408772997112",
   "metadata": {},
   "source": [
    "![Image](https://www.simplilearn.com/ice9/free_resources_article_thumb/Fibonacci_Series_In_C_2.png)"
   ]
  },
  {
   "cell_type": "markdown",
   "id": "3b90ce95-2826-41ab-9aa7-df730e2378c1",
   "metadata": {},
   "source": [
    "if you look at the above fig., to calculate fib(5) using recursion, we are calculating fib(3) twice and fib(2) thrice and so on, which is inefficient...\n",
    "* To overcome this, there is a programming technique called a **MEMOIZING**"
   ]
  },
  {
   "cell_type": "markdown",
   "id": "be8bcf8f-0182-40fb-a0b0-0eae123a1284",
   "metadata": {},
   "source": [
    "### Memoizing"
   ]
  },
  {
   "cell_type": "markdown",
   "id": "8dd23afd-3935-4f0b-b89e-278d6dc0b121",
   "metadata": {},
   "source": [
    "* Memoization is an optimization technique that stores the results of expensive function calls and\n",
    "* reuses them when the same inputs occur again, avoiding redundant calculations.\n",
    "* This can significantly improve the performance of recursive functions like Fibonacci."
   ]
  },
  {
   "cell_type": "code",
   "execution_count": 170,
   "id": "381ebd90-6328-4b43-bbe4-6370de4509d5",
   "metadata": {},
   "outputs": [
    {
     "name": "stdout",
     "output_type": "stream",
     "text": [
      "{0: 0, 1: 1, 2: 1, 3: 2, 4: 3, 5: 5, 6: 8, 7: 13, 8: 21, 9: 34, 10: 55}\n"
     ]
    }
   ],
   "source": [
    "# Create a dictionary to store the results of previous calculations\n",
    "memo = {0:0, 1:1}   #This is a dictionary that stores the results of Fibonacci calculations. \n",
    "                    #The key is n, and the value is the nth Fibonacci number.\n",
    "\n",
    "def fibonacci(n):\n",
    "    # Check if the result is already in the memo dictionary\n",
    "    if n in memo:\n",
    "        return memo[n]\n",
    "    else:\n",
    "        # Recursive case: store the result in memo before returning it\n",
    "        memo[n] = fibonacci(n-1) + fibonacci(n-2)\n",
    "        return memo[n]\n",
    "\n",
    "fibonacci(10)\n",
    "print(memo)\n"
   ]
  },
  {
   "cell_type": "markdown",
   "id": "0e3161c9-290a-4cef-846b-5e8530d2fb97",
   "metadata": {},
   "source": [
    "### Call by Value || Call by Reference ??"
   ]
  },
  {
   "cell_type": "markdown",
   "id": "4ad421f8-0882-4b93-9f39-57783fe00b30",
   "metadata": {},
   "source": [
    "* In Python, the concepts of **call by value** and **call by reference** do not apply in the same way as they do in languages like C or Java.\n",
    "* Python follows a unique model, often described as **\"call by object reference\"** or **\"call by sharing\"**.\n",
    "\n",
    "* Recall:\n",
    "  - **Call by Value:** When an argument is passed by value, a copy of the value is made and passed to the function. Changes made inside the function do not affect the original variable.\n",
    "  - **Call by Reference:** When an argument is passed by reference, the function receives a reference to the actual variable. Changes made inside the function affect the original variable."
   ]
  },
  {
   "cell_type": "markdown",
   "id": "dbd616a8-f73d-4cfb-9cbc-8f526f9b96dd",
   "metadata": {},
   "source": [
    "#### How Python Works: Call by Object Reference (Call by Sharing)\n",
    "\n",
    "In Python:\n",
    "\n",
    "* **Immutable objects (like integers, strings, and tuples)** behave like they are passed by value because their value cannot be changed.\n",
    "  - A new object is created if you try to modify them.\n",
    "* **Mutable objects (like lists, dictionaries, and sets)** behave like they are passed by reference because their contents can be changed within the function, and the changes will affect the original object."
   ]
  },
  {
   "cell_type": "code",
   "execution_count": 134,
   "id": "7e642ae7-1709-4f1d-9e75-2f00659ae00f",
   "metadata": {},
   "outputs": [
    {
     "name": "stdout",
     "output_type": "stream",
     "text": [
      "Inside function: 15\n",
      "Outside function: 5\n"
     ]
    }
   ],
   "source": [
    "# Example 1: Immutable Object (Call by Value-like behavior)\n",
    "def modify_value(x):\n",
    "    x = x + 10  # Trying to change the value of x\n",
    "    print(\"Inside function:\", x)\n",
    "\n",
    "a = 5\n",
    "modify_value(a)  # x is passed by object reference, but since x is immutable, it behaves like call by value\n",
    "print(\"Outside function:\", a)\n"
   ]
  },
  {
   "cell_type": "code",
   "execution_count": 135,
   "id": "a0978c2f-382d-410f-bcb3-a8e7126fdbd4",
   "metadata": {},
   "outputs": [
    {
     "name": "stdout",
     "output_type": "stream",
     "text": [
      "Inside function: [1, 2, 3, 4]\n",
      "Outside function: [1, 2, 3, 4]\n"
     ]
    }
   ],
   "source": [
    "# Example 2: Mutable Object (Call by Reference-like behavior)\n",
    "def modify_list(lst):\n",
    "    lst.append(4)  # Modifying the list\n",
    "    print(\"Inside function:\", lst)\n",
    "\n",
    "my_list = [1, 2, 3]\n",
    "modify_list(my_list)  # Passing a list (mutable object)\n",
    "print(\"Outside function:\", my_list)"
   ]
  },
  {
   "cell_type": "markdown",
   "id": "22ee2139-a7ce-4d4d-a7a7-bd7334f25ddc",
   "metadata": {},
   "source": [
    "So, In Python, all function arguments are passed by object reference, but the behavior depends on whether the object is mutable or immutable.  \n",
    "- **Immutable objects (integers, strings, tuples):** Changes inside the function do not affect the original object. These behave like call by value.\n",
    "- **Mutable objects (lists, dictionaries, sets):** Changes inside the function affect the original object. These behave like call by reference."
   ]
  },
  {
   "cell_type": "markdown",
   "id": "26f126cb-efce-4162-b8c6-44d15e999ad8",
   "metadata": {},
   "source": [
    "****************"
   ]
  },
  {
   "attachments": {},
   "cell_type": "markdown",
   "id": "ec8d27ca-92df-46c9-b735-111b9e20a6f6",
   "metadata": {},
   "source": [
    "## Some Special Function\n",
    "\n",
    "* Python supports defining a function at the point of execution\n",
    "* This is implemented with the help of **special functions**\n",
    "* They are not built using the keyword ‘def’\n",
    "* Special functions do not possess names but are identified by their own keyword\n",
    "* **lambda , map and filter** are a few special functions provided by python.\n"
   ]
  },
  {
   "cell_type": "markdown",
   "id": "73b23705-3d6c-43d2-830f-da972e298507",
   "metadata": {},
   "source": [
    "### zip Function\n",
    "\n",
    "* It is an aggregator, meaning that it aggregates two or more iterables or sequence.\n",
    "* The individual items of the iterables are combined to form **tuples**.\n",
    "* Syntax:\n",
    "  - `zip(*iterables)`\n",
    "  - We have already studied it in Tuples class"
   ]
  },
  {
   "cell_type": "code",
   "execution_count": 211,
   "id": "ab18aea0-935d-452b-9e40-9b36af577209",
   "metadata": {},
   "outputs": [],
   "source": [
    "#Example:\n",
    "demo = zip('abcd', 'efgh', [1, 2, 3])"
   ]
  },
  {
   "cell_type": "code",
   "execution_count": 212,
   "id": "099305d3-df09-400c-ae5c-82fcefe615ed",
   "metadata": {},
   "outputs": [
    {
     "name": "stdout",
     "output_type": "stream",
     "text": [
      "(('a', 'e', 1), ('b', 'f', 2), ('c', 'g', 3))\n"
     ]
    }
   ],
   "source": [
    "print(tuple(demo))"
   ]
  },
  {
   "cell_type": "markdown",
   "id": "299e5c7a-667f-4979-b65a-4a7a556805c9",
   "metadata": {},
   "source": [
    "* use zip () when you don't care about trailing/extra elements in the longer sequence"
   ]
  },
  {
   "cell_type": "markdown",
   "id": "65aa64ea-a70e-41c0-be3d-dad48c07fe61",
   "metadata": {},
   "source": [
    "### using zip to unzip"
   ]
  },
  {
   "cell_type": "code",
   "execution_count": 192,
   "id": "a7658cfb-77f8-46b1-be04-420e71c725b7",
   "metadata": {},
   "outputs": [
    {
     "name": "stdout",
     "output_type": "stream",
     "text": [
      "x = (1, 2, 3)\n",
      "y = ('a', 'b', 'c')\n"
     ]
    }
   ],
   "source": [
    "zippledList = zip([1, 2, 3], ['a', 'b', 'c'])\n",
    "x, y = zip(*zippledList)\n",
    "print('x =', x)\n",
    "print('y =', y)"
   ]
  },
  {
   "cell_type": "markdown",
   "id": "78727196-54b6-46d2-823c-00de57037888",
   "metadata": {},
   "source": [
    "### Lambda Functions"
   ]
  },
  {
   "cell_type": "markdown",
   "id": "71056df4-b63d-4b4e-b017-5acf2bb91abb",
   "metadata": {},
   "source": [
    "* A **lambda** function in Python is a small, anonymous function that can have any number of arguments but only one expression.\n",
    "* It is often used for short, simple operations where defining a full `def` function would be unnecessary.\n",
    "* SYNTAX:\n",
    "  \n",
    "    **lambda arguments: expression**\n",
    "\n",
    "* **lambda:** The keyword to define a lambda function.\n",
    "* **arguments:** Inputs to the function.\n",
    "* **expression:** The single operation or computation to return."
   ]
  },
  {
   "cell_type": "code",
   "execution_count": 215,
   "id": "e5a1ea79-516c-4877-a633-f4cc9625c582",
   "metadata": {},
   "outputs": [
    {
     "name": "stdout",
     "output_type": "stream",
     "text": [
      "8\n"
     ]
    }
   ],
   "source": [
    "# Lambda function to add two numbers\n",
    "add = lambda x, y: x + y\n",
    "\n",
    "# Using the lambda function\n",
    "result = add(3, 5)\n",
    "print(result)\n"
   ]
  },
  {
   "cell_type": "markdown",
   "id": "e843c674-6177-4d50-8b0d-e9d505988514",
   "metadata": {},
   "source": [
    "##### When to Use:\n",
    "* When you need a short, throwaway function that is not reused elsewhere.\n",
    "* For small operations like sorting or filtering data, where a full def function would be overkill."
   ]
  },
  {
   "cell_type": "code",
   "execution_count": 220,
   "id": "779f4336-2bb5-463a-a38d-293e64eec9eb",
   "metadata": {},
   "outputs": [
    {
     "name": "stdout",
     "output_type": "stream",
     "text": [
      "[('Anil', 7.9), ('Adi', 8), ('Rishu', 8.5)]\n"
     ]
    }
   ],
   "source": [
    "# Example: Sorting a list of tuples by the second element\n",
    "Grades = [('Adi', 8), ('Rishu', 8.5), ('Anil', 7.9)]\n",
    "sorted_Grades = sorted(Grades, key=lambda x: x[1])\n",
    "print(sorted_Grades) \n"
   ]
  },
  {
   "cell_type": "code",
   "execution_count": 5,
   "id": "4fda5a3f-e00f-403c-8814-d2f2a92bfeb6",
   "metadata": {},
   "outputs": [
    {
     "name": "stdout",
     "output_type": "stream",
     "text": [
      "[('Titiksha', 1060, 90), ('Samridhi', 2057, 87), ('Deeksha', 1082, 80), ('Shakti', 1041, 82)]\n",
      "[('Deeksha', 1082, 80), ('Shakti', 1041, 82), ('Samridhi', 2057, 87), ('Titiksha', 1060, 90)]\n"
     ]
    }
   ],
   "source": [
    "# Lambda can be used along with built in functions\n",
    "# Consider the program of sorting a list of tuples\n",
    "L1=[\"Titiksha\",\"Samridhi\",\"Deeksha\",\"Shakti\"]\n",
    "L2=[1060,2057,1082,1041]\n",
    "L3=[90,87,80,82]\n",
    "LT=list(zip(L1,L2,L3))\n",
    "print(LT)\n",
    "LT=sorted(LT, key= lambda x:x[2])\n",
    "print(LT)\n"
   ]
  },
  {
   "cell_type": "markdown",
   "id": "47ec649d-5e5c-4b7c-ac3e-6f49aecf0ee1",
   "metadata": {},
   "source": [
    "### map( ) function"
   ]
  },
  {
   "cell_type": "markdown",
   "id": "0ab182d7-896d-428b-98dd-8c84b43add6e",
   "metadata": {},
   "source": [
    "* The **map() function** in Python applies a given function to each item of an iterable (such as a list, tuple, etc.) and\n",
    "* returns a map object (which can be converted to a list, tuple, etc.).\n",
    "* `map` function takes a function and a sequence as its arguments\n",
    "*  Syntax: First argument is function, second is iterable\n",
    "  - `map_obj = map(function, iterable)`\n",
    "* There can be more than 1 iterable also\n",
    "  - `map_obj = map(function, iterable1, iter2, ..., iterN)`"
   ]
  },
  {
   "cell_type": "code",
   "execution_count": 2,
   "id": "ae406614-66f7-476b-800b-a5e199898e23",
   "metadata": {},
   "outputs": [
    {
     "name": "stdout",
     "output_type": "stream",
     "text": [
      "[1, 4, 9, 16]\n"
     ]
    }
   ],
   "source": [
    "# Example\n",
    "def square(x):\n",
    "    return x ** 2\n",
    "\n",
    "numbers = [1, 2, 3, 4]\n",
    "squared_numbers = map(square, numbers)\n",
    "\n",
    "# Convert map object to list\n",
    "print(list(squared_numbers))\n"
   ]
  },
  {
   "cell_type": "code",
   "execution_count": 36,
   "id": "8de1f140-ae72-484f-a31b-53a89f7d2b5f",
   "metadata": {},
   "outputs": [
    {
     "name": "stdin",
     "output_type": "stream",
     "text": [
      "enter the numbers\n",
      " 12 13 14\n"
     ]
    },
    {
     "name": "stdout",
     "output_type": "stream",
     "text": [
      "[21, 31, 41]\n"
     ]
    }
   ],
   "source": [
    "# reversing all numbers present in a list\n",
    "def rev_number(number):\n",
    "    r_number=0\n",
    "    while(number!=0):\n",
    "        r=number%10\n",
    "        r_number=r_number*10+r\n",
    "        number=number//10\n",
    "    return r_number\n",
    "L1=[int(n) for n in input(\"enter the numbers\\n\").split()]\n",
    "Lrev=list(map(rev_number,L1))\n",
    "print(Lrev)\n"
   ]
  },
  {
   "cell_type": "code",
   "execution_count": 12,
   "id": "219dc550-6193-4406-9f2b-8680c0e92b93",
   "metadata": {},
   "outputs": [
    {
     "name": "stdin",
     "output_type": "stream",
     "text": [
      "enter the numbers\n",
      " 1 2 3 4\n",
      "enter the strings\n",
      " hello python \n"
     ]
    },
    {
     "name": "stdout",
     "output_type": "stream",
     "text": [
      "(1, 2, 3, 4)\n",
      "(1, 4, 9, 16)\n",
      "['hello', 'python']\n",
      "['HELLO', 'PYTHON']\n"
     ]
    }
   ],
   "source": [
    "#map() can be applied to lambda function\n",
    "T1=tuple(map(int, input(\"enter the numbers\\n\").split()))\n",
    "T2=tuple(map(lambda x:x**2,T1))\n",
    "L1=input(\"enter the strings\\n\").split()\n",
    "L2=list(map(lambda x:x.upper(), L1))\n",
    "print(T1)\n",
    "print(T2)\n",
    "print(L1)\n",
    "print(L2)"
   ]
  },
  {
   "cell_type": "markdown",
   "id": "31d1ccd6-f4f3-422a-805e-e93a8f1927ad",
   "metadata": {},
   "source": [
    "### filter() function"
   ]
  },
  {
   "cell_type": "markdown",
   "id": "521544b4-35ff-4bbd-8817-be62d86da12e",
   "metadata": {},
   "source": [
    "* The function filter() is also similar to map()\n",
    "* It works on an iterable and will return an iterable\n",
    "* The filtering on the iterable will depend on the transformation function\n",
    "* The transformation function returns TRUE or FALSE\n",
    "* After filtering, the new iterable will consist of elements that will return TRUE\n",
    "* In both map() and filter(), the transformation function can be built in or user defined\n"
   ]
  },
  {
   "cell_type": "code",
   "execution_count": 28,
   "id": "01b1fae4-ca78-4554-a7b7-e162260f74ac",
   "metadata": {},
   "outputs": [
    {
     "name": "stdin",
     "output_type": "stream",
     "text": [
      "Enter the numbers\n",
      " 23 46 2 73\n"
     ]
    },
    {
     "name": "stdout",
     "output_type": "stream",
     "text": [
      "[23, 2, 73]\n"
     ]
    }
   ],
   "source": [
    "#Consider the case of checking  for prime numbers present in a  list\n",
    "def is_prime(n):\n",
    "    h=n//2\n",
    "    while(h>1):\n",
    "        if(n%h==0):\n",
    "            return False\n",
    "        h=h-1\n",
    "    else:\n",
    "        return True\n",
    "\n",
    "L1=[int(n) for n in input('Enter the numbers\\n').split()]\n",
    "L2=list(filter(is_prime,L1))\n",
    "print(L2)\n"
   ]
  },
  {
   "cell_type": "code",
   "execution_count": 31,
   "id": "8099bf3d-b23b-4ca2-a4f4-1571f3db11f9",
   "metadata": {},
   "outputs": [
    {
     "name": "stdin",
     "output_type": "stream",
     "text": [
      "enter the string Shiv123\n"
     ]
    },
    {
     "name": "stdout",
     "output_type": "stream",
     "text": [
      "['S', 'h', 'i', 'v']\n"
     ]
    }
   ],
   "source": [
    "#Filter can be  a replacement for repetition control statement together with if clause\n",
    "#For example\n",
    "S1=input('enter the string')\n",
    "L=list(filter(str.isalpha,S1))\n",
    "print(L)\n"
   ]
  },
  {
   "cell_type": "code",
   "execution_count": 33,
   "id": "b6fc698b-bdf1-42aa-a66d-25173572fddf",
   "metadata": {},
   "outputs": [
    {
     "name": "stdout",
     "output_type": "stream",
     "text": [
      "[2, 4, 6]\n"
     ]
    },
    {
     "name": "stdin",
     "output_type": "stream",
     "text": [
      "enter names\n",
      " Python Anil Aditya\n"
     ]
    },
    {
     "name": "stdout",
     "output_type": "stream",
     "text": [
      "['Anil', 'Aditya']\n"
     ]
    }
   ],
   "source": [
    "#The transformation function can be defined using lambda function\n",
    "#To generate a list of even numbers from a given list\n",
    "L1=[1,2,3,4,5,6]\n",
    "Leven=list(filter(lambda x:x%2==0,L1))\n",
    "print(Leven)\n",
    "\n",
    "#To generate a list of names starting with ‘A’ from the given name list\n",
    "L=input(\"enter names\\n\").split()\n",
    "L2=list(filter(lambda x:x.startswith(\"A\"),L))\n",
    "print(L2)\n"
   ]
  },
  {
   "cell_type": "markdown",
   "id": "2e4cc6e3-72cb-406d-bae1-6731bbf8f9a9",
   "metadata": {},
   "source": [
    "## Functions make Python code **modular** and **reusable**, and mastering them is key to writing efficient and organized Python programs."
   ]
  }
 ],
 "metadata": {
  "kernelspec": {
   "display_name": "Python 3 (ipykernel)",
   "language": "python",
   "name": "python3"
  },
  "language_info": {
   "codemirror_mode": {
    "name": "ipython",
    "version": 3
   },
   "file_extension": ".py",
   "mimetype": "text/x-python",
   "name": "python",
   "nbconvert_exporter": "python",
   "pygments_lexer": "ipython3",
   "version": "3.12.7"
  }
 },
 "nbformat": 4,
 "nbformat_minor": 5
}
