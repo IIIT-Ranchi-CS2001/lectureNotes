{
 "cells": [
  {
   "cell_type": "markdown",
   "id": "f39d2720-633f-4442-bd61-57b913bd406e",
   "metadata": {},
   "source": [
    "# CS2001<span style=\"margin-left: 750px;\"></span>IIIT-Ranchi  \n",
    "### <span style=\"margin-left: 850px;\"></span>                                                    *Shivang Tripathi*"
   ]
  },
  {
   "cell_type": "markdown",
   "id": "7b21aa09-47bf-45bf-81f6-eb04c73c5d62",
   "metadata": {},
   "source": [
    "# Container Type"
   ]
  },
  {
   "cell_type": "markdown",
   "id": "907ebadc-25eb-4abd-906f-49bed1aa59ad",
   "metadata": {
    "editable": true,
    "slideshow": {
     "slide_type": ""
    },
    "tags": []
   },
   "source": [
    "* It refers to a collection of data or objects  \n",
    "    - Can be considered as derived datatypes\n",
    "* Python has a wide variety of container types  \n",
    "* Four different container types are directly available with python\n",
    "     - **List, tuple, set, dictionary**\n",
    "* Many other container types are available as part of the python module “collections”\n",
    "     - namedtuple(), ordereddict(), deque etc\n"
   ]
  },
  {
   "cell_type": "markdown",
   "id": "0793929a-3835-472e-8755-34b93031be0e",
   "metadata": {},
   "source": [
    "# Set"
   ]
  },
  {
   "cell_type": "markdown",
   "id": "c5cb310b-ac39-4433-a1f1-985792daf2c9",
   "metadata": {},
   "source": [
    "* A set in Python is an **unordered** collection of **unique** elements.\n",
    "  - meaning they have no defined position or index.\n",
    "  - and set doesn't allow duplicate values\n",
    "* It is a **mutable** data structure that allows adding, removing, and performing various operations on elements.\n",
    "* Sets support various operations, including union, intersection, difference, and symmetric difference.\n",
    "* Sets are efficient for checking membership, as the average time complexity for this operation is O(1).\n",
    "* Sets are useful when you need to store and manipulate collections of unique items, like filtering duplicates or performing set operations.\n",
    "* Sets in Python provide powerful tools for handling collections of data in ways that are efficient and intuitive, especially when dealing with unique elements or performing mathematical set operations."
   ]
  },
  {
   "cell_type": "markdown",
   "id": "f853c209-41d9-472f-9732-91d8501340c9",
   "metadata": {},
   "source": [
    "## Basic Properties of Set\n",
    " * ***UnOrdered:*** Elements in a set do not maintain a specific order. Thus, you cannot access elements via an index.\n",
    " * ***Mutable:*** While the set itself is mutable (you can add or remove elements), **the elements it contains must be immutable (like numbers, strings, or tuples)**.\n",
    " * ***Unique Elements:*** Sets automatically eliminate duplicate entries.\n",
    " * ***UnIndexed:*** There is no concept of indexing in sets since they are unordered."
   ]
  },
  {
   "cell_type": "markdown",
   "id": "1f67c3aa-ec2e-4dfb-a2e0-5677037cf243",
   "metadata": {},
   "source": [
    "## Creating a Set\n",
    "### You can create a set using either curly braces { } or the set( ) constructor. \n",
    "#### To initialize an empty set, you must use set( ), as { } creates an empty dictionary."
   ]
  },
  {
   "cell_type": "code",
   "execution_count": 65,
   "id": "596c9c3a-ffb5-4e3a-866e-cf82a35fb49c",
   "metadata": {},
   "outputs": [
    {
     "name": "stdout",
     "output_type": "stream",
     "text": [
      "{1, 2, 3, 4, 5}\n",
      "set()\n",
      "{1, 2, 3, 4}\n",
      "{1, 2, 3, 4}\n",
      "{(1, 2), 12, 'Deepu', 23.4}\n"
     ]
    }
   ],
   "source": [
    "# Creating a set with elements\n",
    "my_set = {1, 2, 3, 4, 5}\n",
    "print(my_set)  # Output: {1, 2, 3, 4, 5}\n",
    "\n",
    "# Creating an empty set\n",
    "empty_set = set()\n",
    "print(empty_set)  # Output: set()\n",
    "\n",
    "# Creating a set with duplicate elements (duplicates will be removed)\n",
    "my_set_with_duplicates = {1, 2, 2, 3, 4}\n",
    "print(my_set_with_duplicates)  # Output: {1, 2, 3, 4}\n",
    "\n",
    "#Since sets are unordered, the elements may not appear in the same order as inserted.\n",
    "unorderd = {4,3,2,1}\n",
    "print(unorderd)\n",
    "\n",
    "# disimilar types\n",
    "dis_set = {\"Deepu\", 23.4, 12, (1,2)}\n",
    "print(dis_set)\n",
    "\n",
    "#dis_set = {\"Deepu\", 23.4, 12, (1,2), [2, 3]}    #?? can't contain mutable objects\n"
   ]
  },
  {
   "attachments": {},
   "cell_type": "markdown",
   "id": "404a756e-b369-496c-ba31-3967bc251a68",
   "metadata": {},
   "source": [
    "### Traversing the SET (Iterations of set)"
   ]
  },
  {
   "cell_type": "markdown",
   "id": "706d61df-5083-49a3-bc21-fec46660aba4",
   "metadata": {},
   "source": [
    "1. **Using *for* loop**"
   ]
  },
  {
   "cell_type": "code",
   "execution_count": 66,
   "id": "76ca817f-32fe-4685-834d-1f0274a6c90e",
   "metadata": {},
   "outputs": [
    {
     "name": "stdout",
     "output_type": "stream",
     "text": [
      "Cat\n",
      "Dog\n",
      "Lion\n",
      "Monkey\n"
     ]
    }
   ],
   "source": [
    "pets = {'Dog', 'Cat', 'Monkey', 'Lion'}\n",
    "for i in pets:\n",
    "    print(i)         # order may vary"
   ]
  },
  {
   "cell_type": "markdown",
   "id": "682f2a0d-53ae-4611-87bb-70c846879dd7",
   "metadata": {},
   "source": [
    "**Can we use while loop along with len() fxn to get the length of the list ???** ==> Nah"
   ]
  },
  {
   "cell_type": "code",
   "execution_count": 67,
   "id": "90ddc0b7-94a4-44bd-b5b9-c6a8ba7c45b0",
   "metadata": {},
   "outputs": [
    {
     "ename": "TypeError",
     "evalue": "'set' object is not subscriptable",
     "output_type": "error",
     "traceback": [
      "\u001b[1;31m---------------------------------------------------------------------------\u001b[0m",
      "\u001b[1;31mTypeError\u001b[0m                                 Traceback (most recent call last)",
      "Cell \u001b[1;32mIn[67], line 4\u001b[0m\n\u001b[0;32m      2\u001b[0m i \u001b[38;5;241m=\u001b[39m \u001b[38;5;241m0\u001b[39m\n\u001b[0;32m      3\u001b[0m \u001b[38;5;28;01mwhile\u001b[39;00m i \u001b[38;5;241m<\u001b[39m \u001b[38;5;28mlen\u001b[39m(pets):\n\u001b[1;32m----> 4\u001b[0m     \u001b[38;5;28mprint\u001b[39m(\u001b[43mpets\u001b[49m\u001b[43m[\u001b[49m\u001b[43mi\u001b[49m\u001b[43m]\u001b[49m)\n\u001b[0;32m      5\u001b[0m     i \u001b[38;5;241m+\u001b[39m\u001b[38;5;241m=\u001b[39m \u001b[38;5;241m1\u001b[39m\n",
      "\u001b[1;31mTypeError\u001b[0m: 'set' object is not subscriptable"
     ]
    }
   ],
   "source": [
    "pets = {'Dog', 'Cat', 'Monkey', 'Lion'}\n",
    "i = 0\n",
    "while i < len(pets):\n",
    "    print(pets[i])\n",
    "    i += 1"
   ]
  },
  {
   "cell_type": "markdown",
   "id": "2d645125-d889-40be-8992-19690770a130",
   "metadata": {},
   "source": [
    "**Can we Use *for/in* combination with range function???**  => again Nope"
   ]
  },
  {
   "cell_type": "code",
   "execution_count": 22,
   "id": "b1c40525-274e-4430-abbe-0bfa3b7149d4",
   "metadata": {},
   "outputs": [
    {
     "name": "stdout",
     "output_type": "stream",
     "text": [
      "<class 'set'>\n"
     ]
    },
    {
     "ename": "TypeError",
     "evalue": "'set' object is not subscriptable",
     "output_type": "error",
     "traceback": [
      "\u001b[1;31m---------------------------------------------------------------------------\u001b[0m",
      "\u001b[1;31mTypeError\u001b[0m                                 Traceback (most recent call last)",
      "Cell \u001b[1;32mIn[22], line 4\u001b[0m\n\u001b[0;32m      2\u001b[0m \u001b[38;5;28mprint\u001b[39m(\u001b[38;5;28mtype\u001b[39m(pets))\n\u001b[0;32m      3\u001b[0m \u001b[38;5;28;01mfor\u001b[39;00m i \u001b[38;5;129;01min\u001b[39;00m \u001b[38;5;28mrange\u001b[39m(\u001b[38;5;28mlen\u001b[39m(pets)):\n\u001b[1;32m----> 4\u001b[0m     \u001b[38;5;28mprint\u001b[39m(\u001b[43mpets\u001b[49m\u001b[43m[\u001b[49m\u001b[43mi\u001b[49m\u001b[43m]\u001b[49m)\n",
      "\u001b[1;31mTypeError\u001b[0m: 'set' object is not subscriptable"
     ]
    }
   ],
   "source": [
    "pets = {'Dog', 'Cat', 'Monkey', 'Lion'}\n",
    "print(type(pets))\n",
    "for i in range(len(pets)):\n",
    "    print(pets[i])"
   ]
  },
  {
   "cell_type": "markdown",
   "id": "82cb563d-59d2-48cc-91e5-ed26ac0172c0",
   "metadata": {},
   "source": [
    "2. **Iteration using enumerate()**"
   ]
  },
  {
   "cell_type": "code",
   "execution_count": 23,
   "id": "c07b4f8b-7821-4410-b657-a4acd0612297",
   "metadata": {},
   "outputs": [
    {
     "name": "stdout",
     "output_type": "stream",
     "text": [
      "0 Cat\n",
      "1 Dog\n",
      "2 Lion\n",
      "3 Monkey\n"
     ]
    }
   ],
   "source": [
    "pets = {'Dog', 'Cat', 'Monkey', 'Lion'}\n",
    "for index, pet in enumerate(pets):\n",
    "    print(index, pet)"
   ]
  },
  {
   "cell_type": "markdown",
   "id": "2e32ef2b-041a-4c6e-ba05-7769888c704b",
   "metadata": {},
   "source": [
    "## Accessing SET Elements (!! CAUTION !!)\n",
    "### You cannot access set elements using indexing and slicing.  Remember its unordered collection\n",
    "### you'll get error: **TypeError: 'set' object is not subscriptable**"
   ]
  },
  {
   "cell_type": "code",
   "execution_count": 25,
   "id": "1066513c-d553-4d7e-bd89-2ed5c695b4c8",
   "metadata": {},
   "outputs": [
    {
     "ename": "TypeError",
     "evalue": "'set' object is not subscriptable",
     "output_type": "error",
     "traceback": [
      "\u001b[1;31m---------------------------------------------------------------------------\u001b[0m",
      "\u001b[1;31mTypeError\u001b[0m                                 Traceback (most recent call last)",
      "Cell \u001b[1;32mIn[25], line 6\u001b[0m\n\u001b[0;32m      4\u001b[0m numbers \u001b[38;5;241m=\u001b[39m {\u001b[38;5;241m10\u001b[39m, \u001b[38;5;241m20\u001b[39m, \u001b[38;5;241m30\u001b[39m, \u001b[38;5;241m40\u001b[39m, \u001b[38;5;241m50\u001b[39m}\n\u001b[0;32m      5\u001b[0m \u001b[38;5;66;03m#+ve index: 0   1   2   3   4\u001b[39;00m\n\u001b[1;32m----> 6\u001b[0m \u001b[38;5;28mprint\u001b[39m(\u001b[43mnumbers\u001b[49m\u001b[43m[\u001b[49m\u001b[38;5;241;43m0\u001b[39;49m\u001b[43m]\u001b[49m)  \n",
      "\u001b[1;31mTypeError\u001b[0m: 'set' object is not subscriptable"
     ]
    }
   ],
   "source": [
    "# Access by index\n",
    "\n",
    "#-ve index:-5  -4  -3  -2  -1\n",
    "numbers = {10, 20, 30, 40, 50}\n",
    "#+ve index: 0   1   2   3   4\n",
    "print(numbers[0])  "
   ]
  },
  {
   "cell_type": "code",
   "execution_count": 26,
   "id": "517a618d-bf3b-4bb2-9064-760d88279b35",
   "metadata": {},
   "outputs": [
    {
     "ename": "TypeError",
     "evalue": "'set' object is not subscriptable",
     "output_type": "error",
     "traceback": [
      "\u001b[1;31m---------------------------------------------------------------------------\u001b[0m",
      "\u001b[1;31mTypeError\u001b[0m                                 Traceback (most recent call last)",
      "Cell \u001b[1;32mIn[26], line 2\u001b[0m\n\u001b[0;32m      1\u001b[0m \u001b[38;5;66;03m# Slicing\u001b[39;00m\n\u001b[1;32m----> 2\u001b[0m sub_set \u001b[38;5;241m=\u001b[39m \u001b[43mnumbers\u001b[49m\u001b[43m[\u001b[49m\u001b[38;5;241;43m1\u001b[39;49m\u001b[43m:\u001b[49m\u001b[38;5;241;43m3\u001b[39;49m\u001b[43m]\u001b[49m\n\u001b[0;32m      3\u001b[0m \u001b[38;5;28mprint\u001b[39m(sub_set)\n",
      "\u001b[1;31mTypeError\u001b[0m: 'set' object is not subscriptable"
     ]
    }
   ],
   "source": [
    "# Slicing\n",
    "sub_set = numbers[1:3]\n",
    "print(sub_set)"
   ]
  },
  {
   "cell_type": "markdown",
   "id": "82fbb719-35cf-43b8-9453-fa4623ffa5bb",
   "metadata": {},
   "source": [
    "\n",
    "## SET Operations\n"
   ]
  },
  {
   "cell_type": "markdown",
   "id": "18310bdc-4b92-4a16-8864-f94df6fcb5d9",
   "metadata": {},
   "source": [
    "* Python sets support several useful operations, such as **union, intersection, difference,** and more.\n",
    "* These are analogous to mathematical set operations."
   ]
  },
  {
   "cell_type": "markdown",
   "id": "62d9126b-207e-441f-a6bf-0ecc1109f4cb",
   "metadata": {},
   "source": [
    "#### 1. Adding Elements to a Set:\n",
    "##### You can add elements to a set using the **add( ) or update( )** methods.\n",
    "\n",
    "* **add( ):** Adds a single element.\n",
    "* **update( ):** Adds multiple elements from another iterable (like a list or set)."
   ]
  },
  {
   "cell_type": "code",
   "execution_count": 33,
   "id": "b7660ba2-ef52-46f1-9f6f-fc3025454a08",
   "metadata": {},
   "outputs": [
    {
     "name": "stdout",
     "output_type": "stream",
     "text": [
      "{1, 2, 3, 4}\n",
      "{1, 2, 3, 4, 5, 6, 7}\n"
     ]
    }
   ],
   "source": [
    "my_set = {1, 2, 3}\n",
    "my_set.add(4)  # Add a single element\n",
    "print(my_set)  # Output: {1, 2, 3, 4}\n",
    "\n",
    "my_set.update([5, 6, 7])  # Add multiple elements\n",
    "print(my_set)  # Output: {1, 2, 3, 4, 5, 6, 7}\n"
   ]
  },
  {
   "cell_type": "markdown",
   "id": "4f10c6b9-9681-4d97-afff-418b31cf378c",
   "metadata": {},
   "source": [
    "#### 2. Removing Elements from a Set:\n",
    "##### You can remove elements from a set using **remove(), discard(), or pop()**.\n",
    "\n",
    "* **remove():** Removes an element, but raises an error if the element is not present.\n",
    "* **discard():** Removes an element, but does not raise an error if the element is not found.\n",
    "* **pop():** Removes a random element from the set, since the set is unordered."
   ]
  },
  {
   "cell_type": "code",
   "execution_count": 34,
   "id": "92251860-10c7-46d3-85dd-1a3b76ab587b",
   "metadata": {},
   "outputs": [
    {
     "name": "stdout",
     "output_type": "stream",
     "text": [
      "{1, 2, 4}\n",
      "{1, 4}\n",
      "{1, 4}\n",
      "{4}\n"
     ]
    }
   ],
   "source": [
    "my_set = {1, 2, 3, 4}\n",
    "\n",
    "my_set.remove(3)  # Removes 3\n",
    "print(my_set)  # Output: {1, 2, 4}\n",
    "\n",
    "my_set.discard(2)  # Removes 2\n",
    "print(my_set)  # Output: {1, 4}\n",
    "\n",
    "my_set.discard(10)  # No error if 10 is not found\n",
    "print(my_set)  # Output: {1, 4}\n",
    "\n",
    "my_set.pop()  # Removes a random element\n",
    "print(my_set)  # Output might be {4} or {1}, depending on the random removal\n"
   ]
  },
  {
   "cell_type": "markdown",
   "id": "e979ceaa-7f18-4fbf-8950-53db309cd2b1",
   "metadata": {},
   "source": [
    "#### 3. Set Union ( **|** or **union( )**):\n",
    "##### The union of two sets combines all elements from both sets, with duplicates removed."
   ]
  },
  {
   "cell_type": "code",
   "execution_count": 35,
   "id": "1319dfd6-2fcb-4f5f-9e03-c039cbf31d21",
   "metadata": {},
   "outputs": [
    {
     "name": "stdout",
     "output_type": "stream",
     "text": [
      "{1, 2, 3, 4, 5}\n",
      "{1, 2, 3, 4, 5}\n"
     ]
    }
   ],
   "source": [
    "set1 = {1, 2, 3}\n",
    "set2 = {3, 4, 5}\n",
    "\n",
    "union_set = set1 | set2  # Using the '|' operator\n",
    "print(union_set)  # Output: {1, 2, 3, 4, 5}\n",
    "\n",
    "# Alternatively, using union()\n",
    "union_set = set1.union(set2)\n",
    "print(union_set)  # Output: {1, 2, 3, 4, 5}\n"
   ]
  },
  {
   "cell_type": "markdown",
   "id": "de368a0b-3bec-4ab0-9823-2234bd973e98",
   "metadata": {},
   "source": [
    "#### 4. Set Intersection ( **&** or **intersection( )** ):\n",
    "##### The intersection of two sets returns only the elements that are present in both sets."
   ]
  },
  {
   "cell_type": "code",
   "execution_count": 36,
   "id": "e74f87d4-e732-4cc1-9067-7bb3d2a992c1",
   "metadata": {},
   "outputs": [
    {
     "name": "stdout",
     "output_type": "stream",
     "text": [
      "{2, 3}\n",
      "{2, 3}\n"
     ]
    }
   ],
   "source": [
    "set1 = {1, 2, 3}\n",
    "set2 = {2, 3, 4}\n",
    "\n",
    "intersection_set = set1 & set2  # Using the '&' operator\n",
    "print(intersection_set)  # Output: {2, 3}\n",
    "\n",
    "# Alternatively, using intersection()\n",
    "intersection_set = set1.intersection(set2)\n",
    "print(intersection_set)  # Output: {2, 3}"
   ]
  },
  {
   "cell_type": "markdown",
   "id": "878d7422-efa1-476e-8534-5ec369863fcb",
   "metadata": {},
   "source": [
    "#### 5. Set Difference ( **-** or **difference( )**):\n",
    "##### The difference of two sets returns the elements that are present in the first set but not in the second."
   ]
  },
  {
   "cell_type": "code",
   "execution_count": 37,
   "id": "b0898c9b-8ac6-4a12-81ee-9f226ea5de6c",
   "metadata": {},
   "outputs": [
    {
     "name": "stdout",
     "output_type": "stream",
     "text": [
      "{1, 2}\n",
      "{1, 2}\n"
     ]
    }
   ],
   "source": [
    "set1 = {1, 2, 3, 4}\n",
    "set2 = {3, 4, 5}\n",
    "\n",
    "difference_set = set1 - set2  # Using the '-' operator\n",
    "print(difference_set)  # Output: {1, 2}\n",
    "\n",
    "# Alternatively, using difference()\n",
    "difference_set = set1.difference(set2)\n",
    "print(difference_set)  # Output: {1, 2}"
   ]
  },
  {
   "cell_type": "markdown",
   "id": "e6b46861-c2f6-4f9d-b12d-6113f2f582e2",
   "metadata": {},
   "source": [
    "#### 6. Set Symmetric Difference ( **^** or **symmetric_difference( )**):\n",
    "##### The symmetric difference of two sets returns the elements that are in either of the sets, but not in both."
   ]
  },
  {
   "cell_type": "code",
   "execution_count": 38,
   "id": "5ad9934c-2101-44c5-b494-55e1d1df1b8f",
   "metadata": {},
   "outputs": [
    {
     "name": "stdout",
     "output_type": "stream",
     "text": [
      "{1, 2, 4, 5}\n",
      "{1, 2, 4, 5}\n"
     ]
    }
   ],
   "source": [
    "set1 = {1, 2, 3}\n",
    "set2 = {3, 4, 5}\n",
    "\n",
    "symmetric_difference_set = set1 ^ set2  # Using the '^' operator\n",
    "print(symmetric_difference_set)  # Output: {1, 2, 4, 5}\n",
    "\n",
    "# Alternatively, using symmetric_difference()\n",
    "symmetric_difference_set = set1.symmetric_difference(set2)\n",
    "print(symmetric_difference_set)  # Output: {1, 2, 4, 5}\n"
   ]
  },
  {
   "cell_type": "markdown",
   "id": "007a850a-fc62-4568-9752-63f5be1f151b",
   "metadata": {},
   "source": [
    "#### 7. Checking Membership in a Set:\n",
    "##### You can check if an element is present in a set using the **in** keyword."
   ]
  },
  {
   "cell_type": "code",
   "execution_count": 39,
   "id": "2238ab2d-df5c-45d4-80c2-a45ac106f697",
   "metadata": {},
   "outputs": [
    {
     "name": "stdout",
     "output_type": "stream",
     "text": [
      "True\n",
      "False\n"
     ]
    }
   ],
   "source": [
    "my_set = {1, 2, 3, 4}\n",
    "print(2 in my_set)  # Output: True\n",
    "print(5 in my_set)  # Output: False"
   ]
  },
  {
   "cell_type": "markdown",
   "id": "2e95e744-75be-4fd7-aa52-b7bc6d2297c6",
   "metadata": {},
   "source": [
    "#### 8. Set Size:\n",
    "##### You can find the number of elements in a set using the **len( )** function."
   ]
  },
  {
   "cell_type": "code",
   "execution_count": 40,
   "id": "04486efc-f746-4d67-8be3-91fe5d736f0d",
   "metadata": {},
   "outputs": [
    {
     "name": "stdout",
     "output_type": "stream",
     "text": [
      "4\n"
     ]
    }
   ],
   "source": [
    "my_set = {1, 2, 3, 4}\n",
    "print(len(my_set))  # Output: 4"
   ]
  },
  {
   "cell_type": "markdown",
   "id": "cc5af2b0-4eca-4fd5-b73b-dcf056fc83f5",
   "metadata": {},
   "source": [
    "#### 9. methods for relating two sets"
   ]
  },
  {
   "cell_type": "code",
   "execution_count": 46,
   "id": "fe49eaba-8620-4565-b13b-9ce4c7da34a8",
   "metadata": {},
   "outputs": [
    {
     "name": "stdout",
     "output_type": "stream",
     "text": [
      "False\n",
      "False\n",
      "False\n"
     ]
    }
   ],
   "source": [
    "set1 = {1, 2, 3}\n",
    "set2 = {3, 4, 5}\n",
    "print(set1.issuperset(set2))    # Test whether every element in other is in the set.\n",
    "\n",
    "print(set1.issubset(set2))      # Test whether every element in the set is in other.\n",
    "\n",
    "print(set1.isdisjoint(set2))    # Return True if two sets have a null intersection."
   ]
  },
  {
   "cell_type": "code",
   "execution_count": 44,
   "id": "e1783921-a631-4c2a-9506-a1411d88a59f",
   "metadata": {
    "scrolled": true
   },
   "outputs": [
    {
     "name": "stdout",
     "output_type": "stream",
     "text": [
      "Help on class set in module builtins:\n",
      "\n",
      "class set(object)\n",
      " |  set() -> new empty set object\n",
      " |  set(iterable) -> new set object\n",
      " |\n",
      " |  Build an unordered collection of unique elements.\n",
      " |\n",
      " |  Methods defined here:\n",
      " |\n",
      " |  __and__(self, value, /)\n",
      " |      Return self&value.\n",
      " |\n",
      " |  __contains__(...)\n",
      " |      x.__contains__(y) <==> y in x.\n",
      " |\n",
      " |  __eq__(self, value, /)\n",
      " |      Return self==value.\n",
      " |\n",
      " |  __ge__(self, value, /)\n",
      " |      Return self>=value.\n",
      " |\n",
      " |  __getattribute__(self, name, /)\n",
      " |      Return getattr(self, name).\n",
      " |\n",
      " |  __gt__(self, value, /)\n",
      " |      Return self>value.\n",
      " |\n",
      " |  __iand__(self, value, /)\n",
      " |      Return self&=value.\n",
      " |\n",
      " |  __init__(self, /, *args, **kwargs)\n",
      " |      Initialize self.  See help(type(self)) for accurate signature.\n",
      " |\n",
      " |  __ior__(self, value, /)\n",
      " |      Return self|=value.\n",
      " |\n",
      " |  __isub__(self, value, /)\n",
      " |      Return self-=value.\n",
      " |\n",
      " |  __iter__(self, /)\n",
      " |      Implement iter(self).\n",
      " |\n",
      " |  __ixor__(self, value, /)\n",
      " |      Return self^=value.\n",
      " |\n",
      " |  __le__(self, value, /)\n",
      " |      Return self<=value.\n",
      " |\n",
      " |  __len__(self, /)\n",
      " |      Return len(self).\n",
      " |\n",
      " |  __lt__(self, value, /)\n",
      " |      Return self<value.\n",
      " |\n",
      " |  __ne__(self, value, /)\n",
      " |      Return self!=value.\n",
      " |\n",
      " |  __or__(self, value, /)\n",
      " |      Return self|value.\n",
      " |\n",
      " |  __rand__(self, value, /)\n",
      " |      Return value&self.\n",
      " |\n",
      " |  __reduce__(...)\n",
      " |      Return state information for pickling.\n",
      " |\n",
      " |  __repr__(self, /)\n",
      " |      Return repr(self).\n",
      " |\n",
      " |  __ror__(self, value, /)\n",
      " |      Return value|self.\n",
      " |\n",
      " |  __rsub__(self, value, /)\n",
      " |      Return value-self.\n",
      " |\n",
      " |  __rxor__(self, value, /)\n",
      " |      Return value^self.\n",
      " |\n",
      " |  __sizeof__(...)\n",
      " |      S.__sizeof__() -> size of S in memory, in bytes\n",
      " |\n",
      " |  __sub__(self, value, /)\n",
      " |      Return self-value.\n",
      " |\n",
      " |  __xor__(self, value, /)\n",
      " |      Return self^value.\n",
      " |\n",
      " |  add(...)\n",
      " |      Add an element to a set.\n",
      " |\n",
      " |      This has no effect if the element is already present.\n",
      " |\n",
      " |  clear(...)\n",
      " |      Remove all elements from this set.\n",
      " |\n",
      " |  copy(...)\n",
      " |      Return a shallow copy of a set.\n",
      " |\n",
      " |  difference(...)\n",
      " |      Return the difference of two or more sets as a new set.\n",
      " |\n",
      " |      (i.e. all elements that are in this set but not the others.)\n",
      " |\n",
      " |  difference_update(...)\n",
      " |      Remove all elements of another set from this set.\n",
      " |\n",
      " |  discard(...)\n",
      " |      Remove an element from a set if it is a member.\n",
      " |\n",
      " |      Unlike set.remove(), the discard() method does not raise\n",
      " |      an exception when an element is missing from the set.\n",
      " |\n",
      " |  intersection(...)\n",
      " |      Return the intersection of two sets as a new set.\n",
      " |\n",
      " |      (i.e. all elements that are in both sets.)\n",
      " |\n",
      " |  intersection_update(...)\n",
      " |      Update a set with the intersection of itself and another.\n",
      " |\n",
      " |  isdisjoint(...)\n",
      " |      Return True if two sets have a null intersection.\n",
      " |\n",
      " |  issubset(self, other, /)\n",
      " |      Test whether every element in the set is in other.\n",
      " |\n",
      " |  issuperset(self, other, /)\n",
      " |      Test whether every element in other is in the set.\n",
      " |\n",
      " |  pop(...)\n",
      " |      Remove and return an arbitrary set element.\n",
      " |      Raises KeyError if the set is empty.\n",
      " |\n",
      " |  remove(...)\n",
      " |      Remove an element from a set; it must be a member.\n",
      " |\n",
      " |      If the element is not a member, raise a KeyError.\n",
      " |\n",
      " |  symmetric_difference(...)\n",
      " |      Return the symmetric difference of two sets as a new set.\n",
      " |\n",
      " |      (i.e. all elements that are in exactly one of the sets.)\n",
      " |\n",
      " |  symmetric_difference_update(...)\n",
      " |      Update a set with the symmetric difference of itself and another.\n",
      " |\n",
      " |  union(...)\n",
      " |      Return the union of sets as a new set.\n",
      " |\n",
      " |      (i.e. all elements that are in either set.)\n",
      " |\n",
      " |  update(...)\n",
      " |      Update a set with the union of itself and others.\n",
      " |\n",
      " |  ----------------------------------------------------------------------\n",
      " |  Class methods defined here:\n",
      " |\n",
      " |  __class_getitem__(...)\n",
      " |      See PEP 585\n",
      " |\n",
      " |  ----------------------------------------------------------------------\n",
      " |  Static methods defined here:\n",
      " |\n",
      " |  __new__(*args, **kwargs)\n",
      " |      Create and return a new object.  See help(type) for accurate signature.\n",
      " |\n",
      " |  ----------------------------------------------------------------------\n",
      " |  Data and other attributes defined here:\n",
      " |\n",
      " |  __hash__ = None\n",
      "\n"
     ]
    }
   ],
   "source": [
    "help(set)"
   ]
  },
  {
   "cell_type": "markdown",
   "id": "e963b013-2794-46dd-bb27-539409e15ccb",
   "metadata": {},
   "source": [
    "#### We know indexing & slicing won't work bcz set is an _ _ _ _ _ _ _ collection??\n",
    "#### What about our favourite concat + and rep * operators??"
   ]
  },
  {
   "cell_type": "code",
   "execution_count": 47,
   "id": "d5d713bc-adaa-48a9-b5b0-ec918c316736",
   "metadata": {},
   "outputs": [
    {
     "ename": "TypeError",
     "evalue": "unsupported operand type(s) for +: 'set' and 'set'",
     "output_type": "error",
     "traceback": [
      "\u001b[1;31m---------------------------------------------------------------------------\u001b[0m",
      "\u001b[1;31mTypeError\u001b[0m                                 Traceback (most recent call last)",
      "Cell \u001b[1;32mIn[47], line 3\u001b[0m\n\u001b[0;32m      1\u001b[0m set1 \u001b[38;5;241m=\u001b[39m {\u001b[38;5;241m1\u001b[39m, \u001b[38;5;241m2\u001b[39m, \u001b[38;5;241m3\u001b[39m}\n\u001b[0;32m      2\u001b[0m set2 \u001b[38;5;241m=\u001b[39m {\u001b[38;5;241m3\u001b[39m, \u001b[38;5;241m4\u001b[39m, \u001b[38;5;241m5\u001b[39m}\n\u001b[1;32m----> 3\u001b[0m set3 \u001b[38;5;241m=\u001b[39m \u001b[43mset1\u001b[49m\u001b[43m \u001b[49m\u001b[38;5;241;43m+\u001b[39;49m\u001b[43m \u001b[49m\u001b[43mset2\u001b[49m\n",
      "\u001b[1;31mTypeError\u001b[0m: unsupported operand type(s) for +: 'set' and 'set'"
     ]
    }
   ],
   "source": [
    "set1 = {1, 2, 3}\n",
    "set2 = {3, 4, 5}\n",
    "set3 = set1 + set2"
   ]
  },
  {
   "cell_type": "code",
   "execution_count": 48,
   "id": "13c78b15-c8ff-42fe-bdc0-f49e65851179",
   "metadata": {},
   "outputs": [
    {
     "ename": "TypeError",
     "evalue": "unsupported operand type(s) for *: 'set' and 'int'",
     "output_type": "error",
     "traceback": [
      "\u001b[1;31m---------------------------------------------------------------------------\u001b[0m",
      "\u001b[1;31mTypeError\u001b[0m                                 Traceback (most recent call last)",
      "Cell \u001b[1;32mIn[48], line 2\u001b[0m\n\u001b[0;32m      1\u001b[0m set1 \u001b[38;5;241m=\u001b[39m {\u001b[38;5;241m1\u001b[39m, \u001b[38;5;241m2\u001b[39m, \u001b[38;5;241m3\u001b[39m}\n\u001b[1;32m----> 2\u001b[0m rep \u001b[38;5;241m=\u001b[39m \u001b[43mset1\u001b[49m\u001b[38;5;241;43m*\u001b[39;49m\u001b[38;5;241;43m2\u001b[39;49m\n",
      "\u001b[1;31mTypeError\u001b[0m: unsupported operand type(s) for *: 'set' and 'int'"
     ]
    }
   ],
   "source": [
    "set1 = {1, 2, 3}\n",
    "rep = set1*2"
   ]
  },
  {
   "attachments": {},
   "cell_type": "markdown",
   "id": "0e95c389-0b43-4af5-af53-d993ae82493b",
   "metadata": {},
   "source": [
    "### NESTED SETS\n",
    "#### We cannot include a set as a member of another set\n"
   ]
  },
  {
   "cell_type": "code",
   "execution_count": 53,
   "id": "13d077d3-9542-44e3-8c05-0504ebcbef5d",
   "metadata": {},
   "outputs": [
    {
     "ename": "TypeError",
     "evalue": "unhashable type: 'set'",
     "output_type": "error",
     "traceback": [
      "\u001b[1;31m---------------------------------------------------------------------------\u001b[0m",
      "\u001b[1;31mTypeError\u001b[0m                                 Traceback (most recent call last)",
      "Cell \u001b[1;32mIn[53], line 1\u001b[0m\n\u001b[1;32m----> 1\u001b[0m nested_set \u001b[38;5;241m=\u001b[39m {{\u001b[38;5;241m1\u001b[39m, \u001b[38;5;241m2\u001b[39m}, {\u001b[38;5;241m3\u001b[39m, \u001b[38;5;241m4\u001b[39m}, {\u001b[38;5;241m5\u001b[39m, \u001b[38;5;241m6\u001b[39m}}\n\u001b[0;32m      2\u001b[0m \u001b[38;5;28mprint\u001b[39m(nested_set)\n",
      "\u001b[1;31mTypeError\u001b[0m: unhashable type: 'set'"
     ]
    }
   ],
   "source": [
    "nested_set = {{1, 2}, {3, 4}, {5, 6}}\n",
    "print(nested_set)"
   ]
  },
  {
   "cell_type": "markdown",
   "id": "d3ef5216-d842-4fca-a68f-6f6e1546be23",
   "metadata": {},
   "source": [
    "### SET COMPREHENSION"
   ]
  },
  {
   "cell_type": "markdown",
   "id": "8d085def-365e-4164-9469-4a0315ca1bc8",
   "metadata": {},
   "source": [
    "##### Similar to that of list comprehension but has to comply with the validity of sets\n",
    "* Case 1: Single for loop"
   ]
  },
  {
   "cell_type": "code",
   "execution_count": 56,
   "id": "966e783b-34f8-4332-91f1-5e81da765d6b",
   "metadata": {},
   "outputs": [
    {
     "data": {
      "text/plain": [
       "{2, 3, 4, 5, 6, 7, 8, 9, 10}"
      ]
     },
     "execution_count": 56,
     "metadata": {},
     "output_type": "execute_result"
    }
   ],
   "source": [
    "{n+1 for n in range(1,10)}"
   ]
  },
  {
   "cell_type": "code",
   "execution_count": 57,
   "id": "2930125f-2da4-4d2a-b7de-fb208dadd138",
   "metadata": {},
   "outputs": [
    {
     "data": {
      "text/plain": [
       "{(1, 1), (2, 4), (3, 9), (4, 16), (5, 25), (6, 36), (7, 49), (8, 64), (9, 81)}"
      ]
     },
     "execution_count": 57,
     "metadata": {},
     "output_type": "execute_result"
    }
   ],
   "source": [
    "{(n,n*n) for n in range(1,10)}"
   ]
  },
  {
   "cell_type": "markdown",
   "id": "b66e5b7e-c02d-403e-bfa0-896848377886",
   "metadata": {},
   "source": [
    "* Case 2: for loop with if\n",
    "- This will help to generate a set for a given range when the condition given in if is True\n",
    "- Example – generate a set of numbers that are divisible by 6 within the range of 0 to 100\n",
    "\n"
   ]
  },
  {
   "cell_type": "code",
   "execution_count": 60,
   "id": "04adf7f5-d4d2-476d-b045-2b4f9eaf88a4",
   "metadata": {},
   "outputs": [
    {
     "data": {
      "text/plain": [
       "{0, 6, 12, 18, 24, 30, 36, 42, 48, 54, 60, 66, 72, 78, 84, 90, 96}"
      ]
     },
     "execution_count": 60,
     "metadata": {},
     "output_type": "execute_result"
    }
   ],
   "source": [
    "{n for n in range(0,100) if n%6==0}"
   ]
  },
  {
   "cell_type": "markdown",
   "id": "4d2f7f5e-06ef-496d-9f0d-b8cea443db12",
   "metadata": {},
   "source": [
    "* Case 3: for with if and else\n",
    "   - In this case, if clause and else will be written before for loop\n",
    "   - To generate n\\*n if n>5 and n\\*n\\*n if n<=5"
   ]
  },
  {
   "cell_type": "code",
   "execution_count": 61,
   "id": "d77fe76c-af76-41fc-a2df-9ba2b4c735f5",
   "metadata": {},
   "outputs": [
    {
     "name": "stdout",
     "output_type": "stream",
     "text": [
      "{-512, 0, 1, -125, 8, -1000, 27, 36, -729, -216, -343, 49, -64, 64, 81, -27, -8, 125, -1}\n"
     ]
    }
   ],
   "source": [
    "S = {n*n if n>5 else n*n*n for n in range(-10,10)}\n",
    "print(S)"
   ]
  },
  {
   "cell_type": "code",
   "execution_count": 64,
   "id": "44a84cf2-8b08-40b6-b2e8-ae967fd1e829",
   "metadata": {},
   "outputs": [
    {
     "data": {
      "text/plain": [
       "{0.0, 1.0, 1.4142135623730951, 1.7320508075688772, 2.0, 2.23606797749979, 3, 4}"
      ]
     },
     "execution_count": 64,
     "metadata": {},
     "output_type": "execute_result"
    }
   ],
   "source": [
    "#The condition should not lead to duplication of elements\n",
    "{n**0.5 if n<6 else n//4 for n in range(0,20)}"
   ]
  },
  {
   "cell_type": "markdown",
   "id": "4f3bb5d6-cc12-4fae-bae7-7c054996378a",
   "metadata": {},
   "source": [
    "### Example: Practical Use of Sets\n",
    " #### Suppose you have two lists of students who attended two different events. You want to find:\n",
    "\n",
    "* All the unique students who attended at least one event.\n",
    "* The students who attended both events.\n",
    "* The students who attended only one of the events."
   ]
  },
  {
   "cell_type": "code",
   "execution_count": 55,
   "id": "c094b927-cde6-499c-9b1c-f64a611cd675",
   "metadata": {},
   "outputs": [
    {
     "name": "stdout",
     "output_type": "stream",
     "text": [
      "All attendees: {'Vikas', 'Chaitanya', 'Anubhav', 'Udisha', 'Abhrajit', 'Sagar'}\n",
      "Common attendees: {'Vikas', 'Chaitanya'}\n",
      "Unique attendees: {'Anubhav', 'Udisha', 'Abhrajit', 'Sagar'}\n"
     ]
    }
   ],
   "source": [
    "event1_attendees = {\"Chaitanya\", \"Abhrajit\", \"Vikas\", \"Anubhav\"}\n",
    "event2_attendees = {\"Sagar\", \"Vikas\", \"Chaitanya\", \"Udisha\"}\n",
    "\n",
    "# All unique attendees\n",
    "all_attendees = event1_attendees | event2_attendees  # Union\n",
    "print(\"All attendees:\", all_attendees) \n",
    "\n",
    "# Students who attended both events\n",
    "common_attendees = event1_attendees & event2_attendees  # Intersection\n",
    "print(\"Common attendees:\", common_attendees) \n",
    "\n",
    "# Students who attended only one event\n",
    "unique_attendees = event1_attendees ^ event2_attendees  # Symmetric difference\n",
    "print(\"Unique attendees:\", unique_attendees) \n"
   ]
  },
  {
   "cell_type": "code",
   "execution_count": 26,
   "id": "2237ed83-77c4-4dbc-980c-cf2a3fbd7e39",
   "metadata": {},
   "outputs": [
    {
     "name": "stdout",
     "output_type": "stream",
     "text": [
      "(('pankaj', 73), ('rahul', 56), ('abhinav', 84), ('devansh', 47), ('amrit', 66))\n",
      "[('devansh', 47), ('rahul', 56), ('amrit', 66), ('pankaj', 73), ('abhinav', 84)]\n",
      "('devansh', 47)\n",
      "('abhinav', 84)\n",
      "devansh\n",
      "47\n",
      "('pankaj', 73)\n",
      "pankaj\n"
     ]
    }
   ],
   "source": [
    "\n",
    "students =(\"pankaj\",\"rahul\",\"abhinav\",\"devansh\",\"amrit\")\n",
    "marks = (73,56,84,47,66)\n",
    "d = tuple(zip(students,marks))\n",
    "print(d)\n",
    "l=list(d)\n",
    "l.sort(key=lambda x:x[1])\n",
    "print(l)\n",
    "print(l[0])\n",
    "print(l[4])\n",
    "print(l[0][0])\n",
    "print(l[0][1])\n",
    "print(l[3])\n",
    "print(l[3][0])"
   ]
  },
  {
   "cell_type": "code",
   "execution_count": 31,
   "id": "a8f45708-71e4-4e8a-a98e-a1c263635f0e",
   "metadata": {},
   "outputs": [
    {
     "name": "stdout",
     "output_type": "stream",
     "text": [
      "[(47, 'devansh'), (56, 'rahul'), (66, 'amrit'), (73, 'pankaj'), (84, 'abhinav')]\n",
      "[('devansh', 47), ('rahul', 56), ('amrit', 66), ('pankaj', 73), ('abhinav', 84)]\n"
     ]
    }
   ],
   "source": [
    "students =(\"pankaj\",\"rahul\",\"abhinav\",\"devansh\",\"amrit\")\n",
    "marks = (73,56,84,47,66)\n",
    "\n",
    "comb = tuple(zip(marks, students))\n",
    "nc = sorted(comb)\n",
    "print(nc)\n",
    "nl = [tuple(reversed(i)) for i in nc]\n",
    "print(nl)"
   ]
  },
  {
   "cell_type": "markdown",
   "id": "2c07715c-65b6-4a2b-b50a-033c3c379720",
   "metadata": {},
   "source": [
    "##### expected output\n",
    "Combined Tuple: (('Bibek', 67), ('Pahul', 82), ('Yugraj', 91), ('Sonny', 55), ('Parnab', 78))  \n",
    "Sorted by Marks (Ascending): [('Sonny', 55), ('Bibek', 67), ('Parnab', 78), ('Pahul', 82), ('Yugraj', 91)]  \n",
    "Student with Lowest Marks: Sonny, Marks: 55  \n",
    "Student with Highest Marks: Yugraj, Marks: 91  \n",
    "Student with Second-Highest Marks: Pahul, Marks: 82  \n",
    "Number of students scoring above 75: 3"
   ]
  },
  {
   "cell_type": "code",
   "execution_count": 32,
   "id": "90883c49-62c6-403d-ae4e-4d2b1db38841",
   "metadata": {},
   "outputs": [
    {
     "name": "stdout",
     "output_type": "stream",
     "text": [
      "1\n"
     ]
    }
   ],
   "source": [
    "print(len([i for i in nl if i[1]>75]))\n"
   ]
  },
  {
   "cell_type": "code",
   "execution_count": null,
   "id": "c88e4905-5ef1-4407-89da-7bccfb48d50d",
   "metadata": {},
   "outputs": [],
   "source": []
  }
 ],
 "metadata": {
  "kernelspec": {
   "display_name": "Python 3 (ipykernel)",
   "language": "python",
   "name": "python3"
  },
  "language_info": {
   "codemirror_mode": {
    "name": "ipython",
    "version": 3
   },
   "file_extension": ".py",
   "mimetype": "text/x-python",
   "name": "python",
   "nbconvert_exporter": "python",
   "pygments_lexer": "ipython3",
   "version": "3.12.6"
  }
 },
 "nbformat": 4,
 "nbformat_minor": 5
}
