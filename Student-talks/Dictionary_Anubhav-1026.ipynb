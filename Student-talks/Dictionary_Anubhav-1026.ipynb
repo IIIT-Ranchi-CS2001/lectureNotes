{
 "cells": [
  {
   "cell_type": "markdown",
   "id": "459afca0",
   "metadata": {},
   "source": [
    "# Understanding Dictionaries in Python\n",
    "\n",
    "In Python, a dictionary is a built-in data type that allows you to store key-value pairs. It is an unordered collection, meaning the items do not have a specific order. Dictionaries are highly flexible and are used to store data in a way that can be quickly retrieved using keys."
   ]
  },
  {
   "cell_type": "markdown",
   "id": "0a7ab672",
   "metadata": {},
   "source": [
    "## Creating a Dictionary\n",
    "\n",
    "You can create a dictionary using curly braces `{}` or the `dict()` constructor. Here’s how:\n",
    "\n",
    "```python\n",
    "# Using curly braces\n",
    "my_dict = {'key1': 'value1', 'key2': 'value2'}\n",
    "\n",
    "# Using dict() constructor\n",
    "my_dict = dict(key1='value1', key2='value2')\n",
    "```\n",
    "\n",
    "In both cases, the dictionary will have two key-value pairs: `'key1': 'value1'` and `'key2': 'value2'`."
   ]
  },
  {
   "cell_type": "code",
   "execution_count": 2,
   "id": "54d6fd9d",
   "metadata": {},
   "outputs": [
    {
     "name": "stdout",
     "output_type": "stream",
     "text": [
      "{'key1': 'value1', 'key2': 'value2'}\n",
      "{'key1': 'value1', 'key2': 'value2'}\n"
     ]
    }
   ],
   "source": [
    "# Example dictionary\n",
    "my_dict = {'key1': 'value1', 'key2': 'value2'}\n",
    "print(my_dict)\n",
    "my_dict2 = dict(key1 = 'value1',key2 = 'value2')\n",
    "print(my_dict2)"
   ]
  },
  {
   "cell_type": "markdown",
   "metadata": {},
   "source": []
  },
  {
   "cell_type": "markdown",
   "id": "2d40c427",
   "metadata": {},
   "source": [
    "## Accessing Values\n",
    "\n",
    "To access a value in a dictionary, use the key inside square brackets or the `get()` method:\n",
    "\n",
    "```python\n",
    "# Accessing with square brackets\n",
    "value = my_dict['key1']\n",
    "\n",
    "# Accessing with get() method\n",
    "value = my_dict.get('key1')\n",
    "```\n",
    "\n",
    "If the key does not exist, accessing with square brackets will raise a `KeyError`, while `get()` will return `None` or a default value if specified."
   ]
  },
  {
   "cell_type": "code",
   "execution_count": 3,
   "id": "9b59ca00",
   "metadata": {},
   "outputs": [
    {
     "name": "stdout",
     "output_type": "stream",
     "text": [
      "value1\n",
      "value2\n"
     ]
    }
   ],
   "source": [
    "# Accessing values\n",
    "value = my_dict['key1']\n",
    "print(value)\n",
    "\n",
    "value = my_dict.get('key2')\n",
    "print(value)\n"
   ]
  },
  {
   "cell_type": "markdown",
   "id": "6175c34f",
   "metadata": {},
   "source": [
    "## Adding and Updating Items\n",
    "\n",
    "To add or update items in a dictionary, use the assignment operator with the key:\n",
    "\n",
    "```python\n",
    "# Adding a new key-value pair\n",
    "my_dict['key3'] = 'value3'\n",
    "\n",
    "# Updating an existing key-value pair\n",
    "my_dict['key1'] = 'new_value1'\n",
    "```\n",
    "\n",
    "This will either add a new key-value pair if the key does not exist, or update the value if the key already exists."
   ]
  },
  {
   "cell_type": "code",
   "execution_count": 4,
   "id": "28cfab55",
   "metadata": {},
   "outputs": [
    {
     "name": "stdout",
     "output_type": "stream",
     "text": [
      "{'key1': 'new_value1', 'key2': 'value2', 'key3': 'value3'}\n"
     ]
    }
   ],
   "source": [
    "# Adding and updating items\n",
    "my_dict['key3'] = 'value3'\n",
    "my_dict['key1'] = 'new_value1'\n",
    "print(my_dict)\n"
   ]
  },
  {
   "cell_type": "markdown",
   "id": "4ee7a274",
   "metadata": {},
   "source": [
    "## Removing Items\n",
    "\n",
    "To remove items from a dictionary, you can use the `del` statement or the `pop()` method:\n",
    "\n",
    "```python\n",
    "# Using del\n",
    "del my_dict['key1']\n",
    "\n",
    "# Using pop() method\n",
    "value = my_dict.pop('key2')\n",
    "```\n",
    "\n",
    "The `del` statement will remove the key-value pair, while `pop()` will remove it and return the value."
   ]
  },
  {
   "cell_type": "code",
   "execution_count": 10,
   "id": "f9bc512e",
   "metadata": {},
   "outputs": [
    {
     "ename": "KeyError",
     "evalue": "'key1'",
     "output_type": "error",
     "traceback": [
      "\u001b[0;31m---------------------------------------------------------------------------\u001b[0m",
      "\u001b[0;31mKeyError\u001b[0m                                  Traceback (most recent call last)",
      "Cell \u001b[0;32mIn[10], line 2\u001b[0m\n\u001b[1;32m      1\u001b[0m \u001b[38;5;66;03m# Removing items\u001b[39;00m\n\u001b[0;32m----> 2\u001b[0m \u001b[38;5;28;01mdel\u001b[39;00m my_dict[\u001b[38;5;124m'\u001b[39m\u001b[38;5;124mkey1\u001b[39m\u001b[38;5;124m'\u001b[39m]\n\u001b[1;32m      3\u001b[0m \u001b[38;5;28mprint\u001b[39m(my_dict)\n\u001b[1;32m      5\u001b[0m value \u001b[38;5;241m=\u001b[39m my_dict\u001b[38;5;241m.\u001b[39mpop(\u001b[38;5;124m'\u001b[39m\u001b[38;5;124mkey2\u001b[39m\u001b[38;5;124m'\u001b[39m, \u001b[38;5;124m'\u001b[39m\u001b[38;5;124mdefault_value\u001b[39m\u001b[38;5;124m'\u001b[39m)\n",
      "\u001b[0;31mKeyError\u001b[0m: 'key1'"
     ]
    }
   ],
   "source": [
    "# Removing items\n",
    "del my_dict['key1']\n",
    "print(my_dict)\n",
    "\n",
    "value = my_dict.pop('key2', 'default_value')\n",
    "print(value)\n",
    "print(my_dict)\n"
   ]
  },
  {
   "cell_type": "markdown",
   "id": "6d0646dc",
   "metadata": {},
   "source": [
    "## Dictionary Methods\n",
    "\n",
    "Dictionaries come with several useful methods:\n",
    "\n",
    "- `keys()`: Returns a view of the dictionary's keys.\n",
    "- `values()`: Returns a view of the dictionary's values.\n",
    "- `items()`: Returns a view of the dictionary's key-value pairs.\n",
    "- `clear()`: Removes all items from the dictionary.\n",
    "- `copy()`: Returns a shallow copy of the dictionary.\n",
    "\n",
    "Example:\n",
    "\n",
    "```python\n",
    "keys = my_dict.keys()\n",
    "values = my_dict.values()\n",
    "items = my_dict.items()\n",
    "```\n",
    "\n",
    "These methods can be useful for iterating over or inspecting the contents of a dictionary."
   ]
  },
  {
   "cell_type": "code",
   "execution_count": 6,
   "id": "c24b86f3",
   "metadata": {},
   "outputs": [
    {
     "name": "stdout",
     "output_type": "stream",
     "text": [
      "dict_keys([1, 2])\n",
      "dict_values([('Hello', 'helo'), 'world'])\n",
      "dict_items([(1, ('Hello', 'helo')), (2, 'world')])\n"
     ]
    }
   ],
   "source": [
    "# Dictionary methods\n",
    "my_dict =  {1:('Hello',\"helo\"),2: 'world'}\n",
    "keys = my_dict.keys()\n",
    "values = my_dict.values()\n",
    "items = my_dict.items()\n",
    "print(keys)\n",
    "print(values)\n",
    "print(items)\n"
   ]
  },
  {
   "cell_type": "code",
   "execution_count": null,
   "id": "10e1bf6f",
   "metadata": {},
   "outputs": [],
   "source": []
  },
  {
   "cell_type": "code",
   "execution_count": 7,
   "id": "791090ec",
   "metadata": {},
   "outputs": [
    {
     "name": "stdout",
     "output_type": "stream",
     "text": [
      "{0: 0, 1: 1, 2: 4, 3: 9, 4: 16, 5: 25, 6: 36, 7: 49, 8: 64, 9: 81, 10: 100, 11: 121}\n",
      "0 0\n",
      "1 1\n",
      "2 4\n",
      "3 9\n",
      "4 16\n",
      "5 25\n",
      "6 36\n",
      "7 49\n",
      "8 64\n",
      "9 81\n",
      "10 100\n",
      "11 121\n",
      "{1: 2, 2: 3, 3: 4, 4: 2}\n"
     ]
    }
   ],
   "source": [
    "s = {x : x**2 for x in  range(12)}\n",
    "print(s)\n",
    "for key,value in s.items():\n",
    "  print(key,value)\n",
    "key1 = [1,2,3,4]\n",
    "value1 = [2,3,4,2]\n",
    "d = dict(zip(key1,value1))\n",
    "print(d)"
   ]
  },
  {
   "cell_type": "markdown",
   "id": "6121bd8c",
   "metadata": {},
   "source": [
    "## Nested Dictionaries\n",
    "```python\n",
    "nested_dict = {'outer_key': {'inner_key': 'inner_value'}}\n",
    "value = nested_dict['outer_key']['inner_key']\n",
    "```\n",
    "\n",
    "This can be useful for representing more complex data structures."
   ]
  },
  {
   "cell_type": "code",
   "execution_count": 8,
   "id": "e287f64d",
   "metadata": {},
   "outputs": [
    {
     "name": "stdout",
     "output_type": "stream",
     "text": [
      "inner_value\n",
      "{'outer_key': {'inner_key': 'inner_value'}}\n"
     ]
    }
   ],
   "source": [
    "# Nested dictionaries\n",
    "nested_dict = {'outer_key': {'inner_key': 'inner_value'}}\n",
    "value = nested_dict['outer_key']['inner_key']\n",
    "print(value)\n",
    "nested2 = nested_dict.copy()\n",
    "print(nested2)\n"
   ]
  },
  {
   "cell_type": "code",
   "execution_count": null,
   "id": "11ea9c5a",
   "metadata": {},
   "outputs": [],
   "source": []
  },
  {
   "cell_type": "markdown",
   "id": "5f68b0d3",
   "metadata": {},
   "source": [
    "## Conclusion\n",
    "\n",
    "Dictionaries are a fundamental data type in Python that allow for efficient key-value storage. Understanding how to create, access, modify, and manage dictionaries is crucial for effective programming in Python. Experiment with different dictionary operations to get a better grasp of their capabilities and applications. \n",
    "\n",
    "- Key-Value Pairs: Stores data as key-value pairs.\n",
    "- Ordered (Python 3.7+): Maintains insertion order.\n",
    "- Keys Must Be Immutable: Keys must be of immutable types.\n",
    "- Values Can Be Any Type: No restriction on the type of values.\n",
    "- Mutable: Can be modified in place.\n",
    "- No Duplicate Keys: Keys must be unique.\n",
    "- Dynamic Size: Can grow or shrink dynamically.\n",
    "- Fast Lookup: Provides efficient lookups with O(1) time complexity.\n",
    "- Heterogeneous: Allows different types for both keys and values.\n",
    "- Comprehensions: Supports dictionary comprehensions for compact construction.\n",
    "- Copying: Can create shallow copies using copy() method."
   ]
  },
  {
   "cell_type": "code",
   "execution_count": null,
   "id": "d33ca3b8",
   "metadata": {},
   "outputs": [],
   "source": []
  }
 ],
 "metadata": {
  "kernelspec": {
   "display_name": "Python 3",
   "language": "python",
   "name": "python3"
  },
  "language_info": {
   "codemirror_mode": {
    "name": "ipython",
    "version": 3
   },
   "file_extension": ".py",
   "mimetype": "text/x-python",
   "name": "python",
   "nbconvert_exporter": "python",
   "pygments_lexer": "ipython3",
   "version": "3.12.4"
  }
 },
 "nbformat": 4,
 "nbformat_minor": 5
}
