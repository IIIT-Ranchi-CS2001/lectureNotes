{
 "cells": [
  {
   "cell_type": "markdown",
   "id": "5efc1c00",
   "metadata": {},
   "source": [
    "# File Operations in PYTHON\n",
    "\n",
    "File operations involve **reading data** from and **writing data** to files stored on a computer.  \n",
    "Python provides support for handling files, making it easy to work with data stored outside the program."
   ]
  },
  {
   "cell_type": "markdown",
   "id": "de1c0e8f",
   "metadata": {},
   "source": [
    "## 1. Introduction \n",
    "\n",
    "File Input/Output (I/O) operations allow you to store data in a file and retrieve it later.\n",
    "\n",
    "- **File Types**:\n",
    "  1. **Text files**:\n",
    "        * Store data in human-readable text format.\n",
    "        * These store data as plain text, which can be read and edited using any text editor. Examples: `.txt`, `.csv`, `.json`.\n",
    "        * This is the default mode if no specific mode is mentioned.\n",
    "        * Data is handled as strings (`str` in Python).\n",
    "\n",
    "  2. **Binary files**:\n",
    "      * These store data in binary format (0s and 1s), which is not human-readable.\n",
    "      * Examples: Images, videos, executable files (.exe), serialized data (.bin).\n",
    "      * More compact and efficient than text files but require special software or libraries to interpret.\n",
    "      * You must specify `b` in the mode (e.g., `rb`, `wb`).\n",
    "      * Data is handled as `bytes` objects.\n",
    "\n",
    "\n",
    "\n",
    "- **Python File Handling Features**\n",
    "\n",
    "    * **Built-in Functions:** Python offers native methods to `open`, `read`, `write`, and `close` files.\n",
    "    * **Cross-Platform Compatibility:** Code for file operations in Python works across operating systems (Windows, Linux, macOS).\n",
    "    * **Flexible Modes:** Choose between reading (r), writing (w), appending (a), or working with binary data (b).\n",
    "      - **File Modes**:\n",
    "          - `'r'` : Read\n",
    "          - `'w'` : Write\n",
    "          - `'a'` : Append\n",
    "          - `'b'` : Binary mode\n",
    "    * **Error Handling:** Python provides comprehensive error-handling mechanisms to manage file-related exceptions.\n",
    "\n",
    "\n",
    "\n",
    "* **File Path:**\n",
    "  - **Absolute Path:** Complete path to the file (e.g., `C:/Users/Tyson/Documents/data.txt`).\n",
    "  - **Relative Path:** Path relative to the current working directory (e.g., `data.txt`).\n",
    "\n",
    "* **Resource Management:**\n",
    "    - It is crucial to close files after operations to free system resources.\n",
    "    - Python's `with` statement simplifies this process by automatically managing resources."
   ]
  },
  {
   "cell_type": "markdown",
   "id": "c012b644",
   "metadata": {},
   "source": [
    "## 2. Text File Operations\n",
    "Python provides several ways to interact with text files.\n",
    "\n",
    "### Basic Text File Operations\n",
    "\n",
    "Opening and Closing Files  \n",
    "\n",
    "**Syntax:**\n",
    "```python\n",
    "file = open(filename, mode)\n",
    "file.close()\n",
    "\n",
    "Modes:\n",
    "'r': Read (default)\n",
    "'w': Write\n",
    "'a': Append\n",
    "'b': Binary\n",
    "'x': Create\n",
    "'+': Read and write\n",
    "\n"
   ]
  },
  {
   "cell_type": "code",
   "execution_count": 2,
   "id": "1d27954f-4ae1-4116-b62b-fa9d7087b2e1",
   "metadata": {},
   "outputs": [
    {
     "name": "stdout",
     "output_type": "stream",
     "text": [
      "Hello, Python File Operations!\n"
     ]
    }
   ],
   "source": [
    "file = open(\"example.txt\", \"w\")  # Open file in write mode\n",
    "file.write(\"Hello, Python File Operations!\")  # Write to file\n",
    "file.close()  # Close file\n",
    "\n",
    "# Reading from the same file\n",
    "file = open(\"example.txt\", \"r\")  # Open file in read mode\n",
    "content = file.read()  # Read file contents\n",
    "print(content)  # Output: Hello, Python File Operations!\n",
    "file.close()  # Close file"
   ]
  },
  {
   "cell_type": "markdown",
   "id": "c7fd5e7d-6467-40c3-99f5-a7169f996ef6",
   "metadata": {},
   "source": [
    "## **3. Working with `with` Statement**\n",
    "The `with` statement in Python simplifies file operations by automatically managing resources such as file handles. \n",
    "\n",
    "It ensures that the file is properly closed once the block of code is exited, even if an exception occurs during file operations.\n",
    "\n",
    "**Syntax:**\n",
    "```python\n",
    "with open(filename, mode) as file_object:\n",
    "    # Perform file operations\n",
    "```\n",
    "\n",
    "* `filename`: The name (and path) of the file to open.\n",
    "* `mode`: The mode in which the file is opened (e.g., 'r', 'w', 'a', etc.).\n",
    "* `file_object`: A temporary variable representing the opened file.\n"
   ]
  },
  {
   "cell_type": "code",
   "execution_count": 3,
   "id": "fe062eca",
   "metadata": {},
   "outputs": [
    {
     "name": "stdout",
     "output_type": "stream",
     "text": [
      "File Content: Hello, World!\n",
      "Python File Operations\n"
     ]
    }
   ],
   "source": [
    "file_path = 'sample.txt'\n",
    "\n",
    "# Writing to a text file\n",
    "with open(file_path, 'w') as file:\n",
    "    file.write('Hello, World!\\n')\n",
    "    file.write('Python File Operations')\n",
    "\n",
    "# Reading from a text file\n",
    "with open(file_path, 'r') as file:\n",
    "    content = file.read()\n",
    "    print('File Content:', content)"
   ]
  },
  {
   "cell_type": "markdown",
   "id": "a3f61580-920d-42c6-9223-3bd4b059ec33",
   "metadata": {},
   "source": [
    "### File Read and Write Methods"
   ]
  },
  {
   "cell_type": "code",
   "execution_count": 14,
   "id": "527f8f63-a1c4-4457-815e-8693cf5aaf29",
   "metadata": {},
   "outputs": [
    {
     "name": "stdout",
     "output_type": "stream",
     "text": [
      "Using read():\n",
      "Line 1: Hello, World!\n",
      "Line 2: Python File Operations.\n",
      "Line 3: End of File.\n",
      "\n",
      "\n",
      "Using readline():\n",
      "Line 1: Hello, World!\n",
      "\n",
      "Using readlines():\n",
      "['Line 2: Python File Operations.\\n', 'Line 3: End of File.\\n']\n",
      "\n",
      "Final content of the file:\n",
      "Line 1: Hello, World!\n",
      "Line 2: Python File Operations.\n",
      "Line 3: End of File.\n",
      "Line 4: This is a new line added using write().\n",
      "Line 5: Another line using writelines().\n",
      "Line 6: Last line of the file.\n",
      "\n"
     ]
    }
   ],
   "source": [
    "# Create a sample file with some initial content\n",
    "with open(\"sample.txt\", \"w\") as file:\n",
    "    file.write(\"Line 1: Hello, World!\\n\")\n",
    "    file.write(\"Line 2: Python File Operations.\\n\")\n",
    "    file.write(\"Line 3: End of File.\\n\")\n",
    "\n",
    "# Demonstrating file read and write methods\n",
    "with open(\"sample.txt\", \"r+\") as file:  # Open for both reading and writing\n",
    "    # Using read() to read the entire file\n",
    "    print(\"Using read():\")\n",
    "    print(file.read())\n",
    "    \n",
    "    # Moving the cursor back to the beginning\n",
    "    file.seek(0)\n",
    "    \n",
    "    # Using readline() to read the first line\n",
    "    print(\"\\nUsing readline():\")\n",
    "    print(file.readline().strip())  # .strip() removes trailing newlines\n",
    "    \n",
    "    # Using readlines() to read the remaining lines into a list\n",
    "    print(\"\\nUsing readlines():\")\n",
    "    print(file.readlines())\n",
    "    \n",
    "    # Moving the cursor back to the end of the file\n",
    "    file.seek(0, 2)  # 2 indicates the end of the file\n",
    "    \n",
    "    # Using write() to append a new line\n",
    "    file.write(\"Line 4: This is a new line added using write().\\n\")\n",
    "    \n",
    "    # Using writelines() to add multiple lines\n",
    "    file.writelines([\n",
    "        \"Line 5: Another line using writelines().\\n\",\n",
    "        \"Line 6: Last line of the file.\\n\"\n",
    "    ])\n",
    "\n",
    "# Verifying the final file content\n",
    "print(\"\\nFinal content of the file:\")\n",
    "with open(\"sample.txt\", \"r\") as file:\n",
    "    print(file.read())\n"
   ]
  },
  {
   "cell_type": "markdown",
   "id": "7e01b7db-f500-467b-8a51-c28e64073dcb",
   "metadata": {},
   "source": [
    "| **Method**       | **Description**                                                                 | **Usage**                              |\n",
    "|-------------------|---------------------------------------------------------------------------------|----------------------------------------|\n",
    "| `read()`         | Reads the entire file content as a single string.                              | `file.read()`                          |\n",
    "| `readline()`     | Reads one line at a time.                                                      | `file.readline()`                      |\n",
    "| `readlines()`    | Reads all lines of the file into a list of strings.                            | `file.readlines()`                     |\n",
    "| `write()`        | Writes a single string to the file.                                            | `file.write(\"text\")`                   |\n",
    "| `writelines()`   | Writes a list of strings to the file (each string should already include `\\n`).| `file.writelines([\"line1\\n\", \"line2\"])`|\n",
    "| `seek(offset, where)`   | Moves the cursor to a specific byte position in the file.                      | `file.seek(0)` to reset to the start. `where`: 0 (default): Start of the file. 1: Current position of the cursor. 2: End of the file. |\n",
    "| `tell()`         | Returns the current position of the cursor in the file.                       | `file.tell()`                          |\n"
   ]
  },
  {
   "cell_type": "markdown",
   "id": "b10d147a-cafd-4c0a-9cfc-1e169a64974b",
   "metadata": {},
   "source": [
    "**HW:** Find out `truncate()` in file operation?"
   ]
  },
  {
   "cell_type": "markdown",
   "id": "75075457",
   "metadata": {},
   "source": [
    "## 4. Binary File Operations\n",
    "Binary files store data in binary (0s and 1s). To work with binary files, use binary mode.\n",
    "\n",
    "```python\n",
    "\n",
    "```\n"
   ]
  },
  {
   "cell_type": "code",
   "execution_count": 34,
   "id": "c02942d5-bc04-43b2-9b6a-a2ac537ee7c5",
   "metadata": {},
   "outputs": [
    {
     "name": "stdout",
     "output_type": "stream",
     "text": [
      "b'This is binary data'\n"
     ]
    }
   ],
   "source": [
    "# Writing binary data\n",
    "with open('binary_file.bin', 'wb') as file:\n",
    "    file.write(b'This is binary data')\n",
    "\n",
    "# Reading binary data\n",
    "with open('binary_file.bin', 'rb') as file:\n",
    "    data = file.read()\n",
    "    print(data)"
   ]
  },
  {
   "cell_type": "markdown",
   "id": "be1a0897",
   "metadata": {},
   "source": [
    "## 5. CSV File Operations\n",
    "CSV (Comma Separated Values) files are commonly used for tabular data.\n",
    "We can read/write CSV files using the `csv` module or `pandas`.\n",
    "\n",
    "### Using the `csv` Module"
   ]
  },
  {
   "cell_type": "code",
   "execution_count": 20,
   "id": "9eb1d224",
   "metadata": {},
   "outputs": [
    {
     "name": "stdout",
     "output_type": "stream",
     "text": [
      "['Name', 'Age', 'City']\n",
      "['Kartik', '21', 'Gorakhpur']\n",
      "['Nikhil', '22', 'Benares']\n"
     ]
    }
   ],
   "source": [
    "import csv\n",
    "\n",
    "# Writing to a CSV file\n",
    "with open('data.csv', 'w', newline='') as file:\n",
    "    writer = csv.writer(file)\n",
    "    writer.writerow(['Name', 'Age', 'City'])\n",
    "    writer.writerow(['Kartik', 21, 'Gorakhpur'])\n",
    "    writer.writerow(['Nikhil', 22, 'Benares'])\n",
    "\n",
    "# Reading from a CSV file\n",
    "with open('data.csv', 'r') as file:\n",
    "    reader = csv.reader(file)\n",
    "    for row in reader:\n",
    "        print(row)"
   ]
  },
  {
   "cell_type": "code",
   "execution_count": 17,
   "id": "76f43f6e-fcea-4d1c-b91b-bd2bb3aab53a",
   "metadata": {},
   "outputs": [
    {
     "data": {
      "text/plain": [
       "\u001b[1;31mDocstring:\u001b[0m\n",
       "writerow(iterable)\n",
       "\n",
       "Construct and write a CSV record from an iterable of fields.  Non-string\n",
       "elements will be converted to string.\n",
       "\u001b[1;31mType:\u001b[0m      builtin_function_or_method"
      ]
     },
     "metadata": {},
     "output_type": "display_data"
    }
   ],
   "source": [
    "writer.writerow?"
   ]
  },
  {
   "cell_type": "markdown",
   "id": "95e53dd5",
   "metadata": {},
   "source": [
    "### Using `pandas` for CSV Files\n",
    "Using `pandas` is often more convenient for complex CSV files."
   ]
  },
  {
   "cell_type": "code",
   "execution_count": 19,
   "id": "25cc0344",
   "metadata": {},
   "outputs": [
    {
     "name": "stdout",
     "output_type": "stream",
     "text": [
      "     Name  Age    City\n",
      "0    Alok   20  Rajgir\n",
      "1  Ujjwal   21   Patna\n"
     ]
    }
   ],
   "source": [
    "import pandas as pd\n",
    "\n",
    "# Writing to CSV with pandas\n",
    "df = pd.DataFrame({\n",
    "    'Name': ['Alok', 'Ujjwal'],\n",
    "    'Age': [20, 21],\n",
    "    'City': ['Rajgir', 'Patna']\n",
    "})\n",
    "df.to_csv('data_pandas.csv', index=False)\n",
    "\n",
    "# Reading from CSV with pandas\n",
    "df = pd.read_csv('data_pandas.csv')\n",
    "print(df)"
   ]
  },
  {
   "cell_type": "markdown",
   "id": "ecb1230d-6e11-4d39-a7f7-bd618edaec27",
   "metadata": {},
   "source": [
    "## File exceptions handling"
   ]
  },
  {
   "cell_type": "markdown",
   "id": "cf245580-fc71-4536-9cdc-a81748017281",
   "metadata": {},
   "source": [
    "When working with files, you might encounter errors or exceptions.   \n",
    "For instance, trying to `open` a `file` that **doesn’t exist** or **attempting to write to a read-only file** can cause your program to crash. \n",
    "\n",
    "To prevent this, Python provides mechanisms to handle file-related exceptions gracefully.  \n",
    "\n",
    "**Common Exceptions are:**\n"
   ]
  },
  {
   "cell_type": "markdown",
   "id": "45a710f1-22c0-43c4-b687-814b2a822187",
   "metadata": {},
   "source": [
    "| **Exception**         | **Description**                                                                 |\n",
    "|-----------------------|---------------------------------------------------------------------------------|\n",
    "| `FileNotFoundError`   | Raised when trying to access a file that does not exist.                       |\n",
    "| `PermissionError`     | Raised when attempting an operation without sufficient permissions.            |\n",
    "| `IsADirectoryError`   | Raised when a directory is treated as a file.                                  |\n",
    "| `IOError`             | General exception for input/output errors.                                     |\n",
    "| `EOFError`            | Raised when trying to read beyond the end of a file.                          |\n"
   ]
  },
  {
   "cell_type": "markdown",
   "id": "2f47dbae-e2e4-48e1-ba35-ea2bf45b5a71",
   "metadata": {},
   "source": [
    "#### Using `try-except` for Error Handling\n",
    "\n",
    "use try-except blocks to catch and handle file-related exceptions. This ensures your program doesn't crash unexpectedly and can respond appropriately to errors."
   ]
  },
  {
   "cell_type": "code",
   "execution_count": 21,
   "id": "f11868e8-e68e-4be2-8024-469be67d2873",
   "metadata": {},
   "outputs": [
    {
     "name": "stdout",
     "output_type": "stream",
     "text": [
      "Error: The file does not exist.\n"
     ]
    }
   ],
   "source": [
    "try:\n",
    "    # Attempt to open a file that doesn't exist\n",
    "    with open(\"nonexistent_file.txt\", \"r\") as file:\n",
    "        content = file.read()\n",
    "except FileNotFoundError:\n",
    "    print(\"Error: The file does not exist.\")\n"
   ]
  },
  {
   "cell_type": "markdown",
   "id": "5724ad6d-ba03-4234-bd8b-709c800a8aeb",
   "metadata": {},
   "source": [
    "#### Handling multiple exceptions"
   ]
  },
  {
   "cell_type": "code",
   "execution_count": 22,
   "id": "07699d0e-89ca-42c2-8754-5e8324c4e53a",
   "metadata": {},
   "outputs": [
    {
     "name": "stdout",
     "output_type": "stream",
     "text": [
      "Error: File not found.\n"
     ]
    }
   ],
   "source": [
    "try:\n",
    "    # Trying to read from a file\n",
    "    with open(\"examplee.txt\", \"r\") as file:\n",
    "        print(file.read())\n",
    "except FileNotFoundError:\n",
    "    print(\"Error: File not found.\")\n",
    "except PermissionError:\n",
    "    print(\"Error: You do not have the necessary permissions.\")\n",
    "except IOError as e:\n",
    "    print(f\"An I/O error occurred: {e}\")\n"
   ]
  },
  {
   "cell_type": "markdown",
   "id": "bbf1389e-ffcf-407a-9ab7-69f5b79efc47",
   "metadata": {},
   "source": [
    "#### Using `else` and `finally`\n",
    "`else:` Executes if no exception occurs.\n",
    "\n",
    "\n",
    "`finally:` Always executes, used for cleanup tasks like closing a file."
   ]
  },
  {
   "cell_type": "code",
   "execution_count": 23,
   "id": "e6a21528-3260-4723-ab04-173e2315bf96",
   "metadata": {},
   "outputs": [
    {
     "name": "stdout",
     "output_type": "stream",
     "text": [
      "File content successfully read:\n",
      "Hello, Python File Operations!\n",
      "File operation completed.\n"
     ]
    }
   ],
   "source": [
    "try:\n",
    "    with open(\"example.txt\", \"r\") as file:\n",
    "        content = file.read()\n",
    "except FileNotFoundError:\n",
    "    print(\"Error: File not found.\")\n",
    "else:\n",
    "    print(\"File content successfully read:\")\n",
    "    print(content)\n",
    "finally:\n",
    "    print(\"File operation completed.\")\n"
   ]
  },
  {
   "cell_type": "markdown",
   "id": "89fc84d4-8221-4af2-9984-44ecf832fe21",
   "metadata": {},
   "source": [
    "----------------"
   ]
  },
  {
   "cell_type": "markdown",
   "id": "c2ceec8c",
   "metadata": {},
   "source": [
    "# Exception Handling\n",
    "\n",
    "Exception handling in Python allows you to manage errors gracefully without crashing your program. It ensures that even when unexpected issues occur, your code can recover or provide useful feedback to the user.\n",
    "\n",
    "**Key points to remember:**\n",
    "\n",
    "* `Exceptions:` Errors detected during program execution (e.g., ZeroDivisionError, FileNotFoundError).\n",
    "* `try Block:` Contains code that might raise an exception.\n",
    "* `except Block:` Handles specific or general exceptions if they occur.\n",
    "* `else Block:` Executes if no exception is raised.\n",
    "* `finally Block:` Executes regardless of whether an exception occurred, often used for cleanup.\n",
    "\n",
    "\n",
    "**Syntax:**\n",
    "```python\n",
    "try:\n",
    "    # Code that might raise an exception\n",
    "except ExceptionType:\n",
    "    # Code to handle the exception\n",
    "else:\n",
    "    # Optional: Executes if no exception occurs\n",
    "finally:\n",
    "    # Optional: Executes always\n",
    "```"
   ]
  },
  {
   "cell_type": "markdown",
   "id": "954b2aab-3cf8-4601-b881-7e15262d36d8",
   "metadata": {},
   "source": [
    "### Summary table of common exceptions in Python:\n",
    "\n",
    "| **Exception**           | **Description**                                                                 |\n",
    "|--------------------------|---------------------------------------------------------------------------------|\n",
    "| `ArithmeticError`        | Base class for errors in numeric operations.                                   |\n",
    "| `ZeroDivisionError`      | Raised when dividing by zero.                                                  |\n",
    "| `ValueError`             | Raised when a function receives an argument of the right type but an invalid value. |\n",
    "| `TypeError`              | Raised when an operation or function is applied to an object of inappropriate type. |\n",
    "| `IndexError`             | Raised when trying to access an element outside the range of a sequence.       |\n",
    "| `KeyError`               | Raised when a key is not found in a dictionary.                                |\n",
    "| `FileNotFoundError`      | Raised when a file or directory is requested but does not exist.               |\n",
    "| `IOError`                | Raised when an I/O operation fails (e.g., file not readable).                  |\n",
    "| `PermissionError`        | Raised when a file operation is denied due to insufficient permissions.        |\n",
    "| `NameError`              | Raised when a variable or function name is not found in the local/global scope.|\n",
    "| `AttributeError`         | Raised when an invalid attribute is accessed on an object.                    |\n",
    "| `ImportError`            | Raised when an import statement fails to find the module.                     |\n",
    "| `ModuleNotFoundError`    | Subclass of `ImportError`, raised when the module is not found.                |\n",
    "| `StopIteration`          | Raised by an iterator when it has no more items.                              |\n",
    "| `OverflowError`          | Raised when a numerical operation exceeds the limits of a numeric type.       |\n",
    "| `MemoryError`            | Raised when an operation runs out of memory.                                  |\n",
    "| `EOFError`               | Raised when the `input()` function hits an end-of-file condition.             |\n",
    "| `RuntimeError`           | Raised when an error is detected that doesn't fall into any specific category.|\n",
    "| `AssertionError`         | Raised when an `assert` statement fails.                                      |\n",
    "| `SyntaxError`            | Raised when Python encounters a syntax error in the code.                    |\n",
    "| `IndentationError`       | Raised when the indentation is incorrect.                                     |\n",
    "| `KeyboardInterrupt`      | Raised when the user interrupts program execution (e.g., Ctrl+C).             |\n",
    "| `SystemExit`             | Raised when the `sys.exit()` function is called.                              |\n",
    "\n",
    "---\n",
    "\n",
    "## **Notes:**\n",
    "- **Hierarchy**: Many exceptions inherit from a base class like `Exception` or `BaseException`.\n",
    "- **Custom Exceptions**: You can define your own exceptions by subclassing `Exception`.\n",
    "\n",
    "For detailed information, refer to the [Python documentation](https://docs.python.org/3/library/exceptions.html).\n"
   ]
  },
  {
   "cell_type": "markdown",
   "id": "706423cf-d458-47af-9ee4-dafb7e43276c",
   "metadata": {},
   "source": [
    "### Example: Handling a Single Exception"
   ]
  },
  {
   "cell_type": "code",
   "execution_count": 24,
   "id": "f9ba346f",
   "metadata": {},
   "outputs": [
    {
     "name": "stdout",
     "output_type": "stream",
     "text": [
      "Error: Cannot divide by zero\n"
     ]
    }
   ],
   "source": [
    "try:\n",
    "    result = 10 / 0\n",
    "except ZeroDivisionError:\n",
    "    print('Error: Cannot divide by zero')"
   ]
  },
  {
   "cell_type": "markdown",
   "id": "bc096ba6",
   "metadata": {},
   "source": [
    "### Handling Multiple Exceptions"
   ]
  },
  {
   "cell_type": "code",
   "execution_count": 25,
   "id": "02817ebc",
   "metadata": {},
   "outputs": [
    {
     "name": "stdout",
     "output_type": "stream",
     "text": [
      "Error: File not found\n"
     ]
    }
   ],
   "source": [
    "try:\n",
    "    file = open('non_existent_file.txt', 'r')\n",
    "    result = 10 / 0\n",
    "except FileNotFoundError:\n",
    "    print('Error: File not found')\n",
    "except ZeroDivisionError:\n",
    "    print('Error: Cannot divide by zero')"
   ]
  },
  {
   "cell_type": "markdown",
   "id": "c969f6c0-b004-45a3-92e4-61b644bcfde6",
   "metadata": {},
   "source": [
    "### General Exception Handing"
   ]
  },
  {
   "cell_type": "code",
   "execution_count": 26,
   "id": "b46a96b0-605c-4c25-89e0-dace51b6cd59",
   "metadata": {},
   "outputs": [
    {
     "name": "stdout",
     "output_type": "stream",
     "text": [
      "An error occurred: division by zero\n"
     ]
    }
   ],
   "source": [
    "try:\n",
    "    result = 10 / 0\n",
    "except Exception as e:\n",
    "    print(f\"An error occurred: {e}\")\n"
   ]
  },
  {
   "cell_type": "markdown",
   "id": "8cee2ad4",
   "metadata": {},
   "source": [
    "# Exercises\n",
    "Practice problems to reinforce your understanding:\n",
    "\n",
    "1. Write a function to count the occurrences of each word in a text file.\n",
    "2. Write a program to read a CSV file and print the average of a numeric column.\n",
    "3. Handle exceptions for a program that opens a file, reads an integer from it, and divides 100 by that integer.\n"
   ]
  },
  {
   "cell_type": "markdown",
   "id": "706de5fd-c372-4678-b68d-cd6329ff196f",
   "metadata": {},
   "source": [
    "----"
   ]
  },
  {
   "cell_type": "markdown",
   "id": "8ae2db56-1cb5-4a4f-a83c-761b01579a9c",
   "metadata": {},
   "source": [
    "# Working with Directories in Python\n",
    "\n",
    "The `os` module in Python provides functions to interact with the operating system, including creating, removing, and managing directories."
   ]
  },
  {
   "cell_type": "code",
   "execution_count": 27,
   "id": "0291d424-0e4b-446f-a4f5-095653767066",
   "metadata": {},
   "outputs": [
    {
     "name": "stdout",
     "output_type": "stream",
     "text": [
      "Current Directory: D:\\Teaching-related\\CS2001-2101 (Python)\\Demos\n"
     ]
    }
   ],
   "source": [
    "import os\n",
    "\n",
    "# Get current working directory\n",
    "current_directory = os.getcwd()\n",
    "print(f\"Current Directory: {current_directory}\")\n"
   ]
  },
  {
   "cell_type": "code",
   "execution_count": 28,
   "id": "32bc807b-47ab-4b4d-9695-7674884ecc53",
   "metadata": {},
   "outputs": [
    {
     "name": "stdout",
     "output_type": "stream",
     "text": [
      "Files and Directories in current directory: ['.ipynb_checkpoints', '.vscode', 'abs.py', 'AI_ML_Basics.ipynb', 'anatomy.png', 'CS2001-Matplotlob.ipynb', 'CS2001_Ch12-Pandas.ipynb', 'CS2001_Lec10-Matplotlib.ipynb', 'CS2001_Lec11-Numpy.ipynb', 'CS2001_Lec4-List.ipynb', 'CS2001_Lec5-tuples.ipynb', 'CS2001_Lec6-set.ipynb', 'CS2001_Lec7-Dictionary.ipynb', 'CS2001_Lec8-Functions and Modules-Part-I.ipynb', 'CS2001_Lec9-Functions and Modules-Part-II.ipynb', 'data', 'data.csv', 'data_pandas.csv', 'Detailed_NumPy_Notebook.ipynb', 'example.txt', 'filename.npy', 'matplotlib-tutorial-for-beginners.ipynb', 'my_module.py', 'new_file.csv', 'Numpy_Comprehensive_Guide.ipynb', 'NumPy_Theoretical_Concepts.ipynb', 'Pandas_Lecture_Content.ipynb', 'plot1.png', 'Python_File_Operations_and_Exception_Handling.ipynb', 'RD SIr.ipynb', 'sample.txt', 'saved_plot.png', 'Sec-A', 'Sec-C', 'SecB', 'test.ipynb', 'test.py', 'Untitled.ipynb', '__pycache__']\n"
     ]
    }
   ],
   "source": [
    "# List files and directories in the current directory\n",
    "entries = os.listdir()\n",
    "print(\"Files and Directories in current directory:\", entries)"
   ]
  },
  {
   "cell_type": "markdown",
   "id": "4ea21778-03b0-4703-8f27-4dff245b1cc6",
   "metadata": {},
   "source": [
    "```python\n",
    "# Create a new directory\n",
    "os.mkdir(\"new_directory\")\n",
    "\n",
    "# Remove an empty directory\n",
    "os.rmdir(\"new_directory\")\n",
    "print(\"Directory 'new_directory' removed.\")\n",
    "\n",
    "\n",
    "# Rename a directory\n",
    "os.rename(\"old_directory\", \"renamed_directory\")\n",
    "print(\"Directory renamed from 'old_directory' to 'renamed_directory'.\")\n",
    "```"
   ]
  },
  {
   "cell_type": "markdown",
   "id": "31484281-bfa7-498e-8e96-b60e51476e15",
   "metadata": {},
   "source": [
    "---------------"
   ]
  },
  {
   "cell_type": "markdown",
   "id": "706884a3-7128-4f8c-95a6-5219103d071f",
   "metadata": {},
   "source": [
    "# `Pickle` Module\n",
    "\n",
    "The `pickle` module in Python is used for serializing (pickling) and deserializing (unpickling) Python objects. \n",
    "* **Serialization** is the process of converting an object into a `byte stream`, which can be saved to a file or transferred over a network.\n",
    "* **Deserialization** is the reverse process, where the `byte stream` is converted back into a Python object.\n",
    "\n",
    "A **byte** stream is a sequence of bytes, which are the smallest unit of data in computing. It represents data in a raw binary format, allowing for the efficient storage, transmission, and manipulation of data.\n",
    "\n",
    "\n",
    "**Important methods:**\n",
    "\n",
    "\n",
    "* `pickle.dump(obj, file)`: Serializes an object and writes it to a file.  \n",
    "* `pickle.load(file)`: Deserializes the content of a file and returns the object.  \n",
    "* `pickle.dumps(obj)`: Serializes an object and returns a byte stream (useful when not writing to a file).  \n",
    "* `pickle.loads(bytes)`: Deserializes a byte stream and returns the objec\n",
    "\n",
    "\n",
    "**Why Use pickle?**\n",
    " * **Data Persistence:** You can save Python objects (e.g., complex data structures, machine learning models) to a file for later use.\n",
    " * **Object Transmission:** Useful for transferring Python objects over a network.\n",
    "\n",
    "**Application**  \n",
    "One common real-world application of the pickle module is in saving and loading machine learning models. \n",
    "When you train a model, the training process can take a lot of time and computational resources. Instead of retraining the model every time, you can serialize (pickle) the trained model and deserialize (unpickle) it when needed.\n"
   ]
  },
  {
   "cell_type": "markdown",
   "id": "4f733157-033e-449b-ba82-0f7a656ea312",
   "metadata": {},
   "source": [
    "**Pickling (Saving an Object to a File)**"
   ]
  },
  {
   "cell_type": "code",
   "execution_count": 29,
   "id": "051bbb32-48f1-44ae-b889-cd47fd6725d1",
   "metadata": {},
   "outputs": [
    {
     "name": "stdout",
     "output_type": "stream",
     "text": [
      "Data has been pickled and saved to 'data.pkl'\n"
     ]
    }
   ],
   "source": [
    "import pickle\n",
    "\n",
    "# Sample data (Python dictionary)\n",
    "data = {'name': 'Anuj', 'age': 60, 'city': 'Ranchi'}\n",
    "\n",
    "# Serialize the data and save it to a file\n",
    "with open('data.pkl', 'wb') as file:\n",
    "    pickle.dump(data, file)\n",
    "\n",
    "print(\"Data has been pickled and saved to 'data.pkl'\")"
   ]
  },
  {
   "cell_type": "markdown",
   "id": "ed4cda2b-44b0-4959-a9a9-6047e5214407",
   "metadata": {},
   "source": [
    "**Unpickling (Loading an Object from a File)**\n"
   ]
  },
  {
   "cell_type": "code",
   "execution_count": 30,
   "id": "ac75b05b-6f75-4fe0-8f27-3234480909ab",
   "metadata": {},
   "outputs": [
    {
     "name": "stdout",
     "output_type": "stream",
     "text": [
      "Loaded data: {'name': 'Anuj', 'age': 60, 'city': 'Ranchi'}\n"
     ]
    }
   ],
   "source": [
    "# Deserialize the data from the file\n",
    "with open('data.pkl', 'rb') as file:\n",
    "    loaded_data = pickle.load(file)\n",
    "\n",
    "print(\"Loaded data:\", loaded_data)"
   ]
  },
  {
   "cell_type": "markdown",
   "id": "de02ddf2-8fdc-4d9d-aed5-b521b4dc7159",
   "metadata": {},
   "source": [
    "**We can also **serialize** and **deserialize** objects without involving files, using `dumps()` and `loads()`.**"
   ]
  },
  {
   "cell_type": "code",
   "execution_count": 31,
   "id": "2404bb7c-b3a3-486d-90f5-5845717520b8",
   "metadata": {},
   "outputs": [
    {
     "name": "stdout",
     "output_type": "stream",
     "text": [
      "Serialized byte data: b'\\x80\\x04\\x950\\x00\\x00\\x00\\x00\\x00\\x00\\x00}\\x94(\\x8c\\x04name\\x94\\x8c\\x05Aaloo\\x94\\x8c\\x03age\\x94K\\x19\\x8c\\x04city\\x94\\x8c\\nsubziMandi\\x94u.'\n",
      "Deserialized data: {'name': 'Aaloo', 'age': 25, 'city': 'subziMandi'}\n"
     ]
    }
   ],
   "source": [
    "data = {'name': 'Aaloo', 'age': 25, 'city': 'subziMandi'}\n",
    "\n",
    "# Serialize the object into a byte stream\n",
    "byte_data = pickle.dumps(data)\n",
    "print(\"Serialized byte data:\", byte_data)\n",
    "\n",
    "# Deserialize the byte stream back into the original object\n",
    "loaded_data = pickle.loads(byte_data)\n",
    "print(\"Deserialized data:\", loaded_data)"
   ]
  },
  {
   "cell_type": "markdown",
   "id": "1c4057df-a945-4d3a-88ed-65ecf37f9448",
   "metadata": {},
   "source": [
    "# ---------------- **Thank You**------------------------"
   ]
  }
 ],
 "metadata": {
  "kernelspec": {
   "display_name": "Python 3 (ipykernel)",
   "language": "python",
   "name": "python3"
  },
  "language_info": {
   "codemirror_mode": {
    "name": "ipython",
    "version": 3
   },
   "file_extension": ".py",
   "mimetype": "text/x-python",
   "name": "python",
   "nbconvert_exporter": "python",
   "pygments_lexer": "ipython3",
   "version": "3.12.7"
  }
 },
 "nbformat": 4,
 "nbformat_minor": 5
}
